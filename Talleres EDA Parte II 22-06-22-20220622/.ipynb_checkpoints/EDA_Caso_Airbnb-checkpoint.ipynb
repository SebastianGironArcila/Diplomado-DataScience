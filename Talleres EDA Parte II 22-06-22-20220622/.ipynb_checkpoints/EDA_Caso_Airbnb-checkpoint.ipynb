{
 "cells": [
  {
   "cell_type": "code",
   "execution_count": 8,
   "metadata": {
    "id": "ZZFe7QlrgJHC"
   },
   "outputs": [],
   "source": [
    "#Librerias\n",
    "import numpy                 as np\n",
    "import pandas                as pd\n",
    "import matplotlib.pyplot     as plt\n",
    "import seaborn               as sns\n",
    "import folium\n",
    "from folium.plugins import HeatMap\n",
    "%matplotlib inline\n",
    "sns.set()\n",
    "\n",
    "\n",
    "import warnings\n",
    "warnings.filterwarnings('ignore')"
   ]
  },
  {
   "cell_type": "markdown",
   "metadata": {
    "id": "7tpIfm9zhYmZ"
   },
   "source": [
    "Airbnb es un enorme mercado en línea para que la gente alquile lugares para alojarse. Es un mercado grande y lucrativo, pero muchos vendedores son simplemente individuos que alquilan su propia residencia principal para visitas cortas. Incluso los vendedores más grandes suelen ser pequeñas empresas con sólo un pequeño número de lugares para alquilar. Por ello, tienen una capacidad limitada para evaluar las tendencias a gran escala y fijar los precios óptimos.\n"
   ]
  },
  {
   "cell_type": "markdown",
   "metadata": {
    "id": "Fx-JnRIlhr40"
   },
   "source": [
    "Nuestra pregunta: ¿Qué características son más relevantes para el precio de un anuncio de Airbnb?"
   ]
  },
  {
   "cell_type": "markdown",
   "metadata": {
    "id": "yD5e3I2jh6UW"
   },
   "source": [
    "Nuestro conjunto de datos tiene 30.179 filas y 81 columnas. A continuación se detallan algunas de las columnas más importantes:"
   ]
  },
  {
   "cell_type": "markdown",
   "metadata": {
    "id": "qFWqIxtqh7ul"
   },
   "source": [
    "1. ```neighbourhood```:  which neighborhood the property is in\n",
    "2. ```longitude```, ```latitude```: longitude and latitude\n",
    "3. ```property_type```: type of property, such as apartment, condo etc.\n",
    "4. ```bathrooms```: number of bathrooms\n",
    "5. ```bedrooms```: number of bedrooms\n",
    "6. ```price```:  price of the listing\n",
    "7. ```number_of_reviews```: number of reviews given by customers who stayed there\n",
    "8. ```parking```: 1 means there is parking available, -1 means there is not\n",
    "\n",
    "Para otras variables categoricas tales como: ```outdoor_friendly```, ```gym```, etc., the 1,-1 sson interpretadas similarmente como ```parking```."
   ]
  },
  {
   "cell_type": "markdown",
   "metadata": {
    "id": "TcY6k0ZLikS9"
   },
   "source": [
    "### Ejercicios"
   ]
  },
  {
   "cell_type": "markdown",
   "metadata": {
    "id": "HoeLPWEGioDO"
   },
   "source": [
    "1. Cargue los datos"
   ]
  },
  {
   "cell_type": "code",
   "execution_count": 82,
   "metadata": {
    "id": "V872d0ELikD-"
   },
   "outputs": [
    {
     "data": {
      "text/html": [
       "<div>\n",
       "<style scoped>\n",
       "    .dataframe tbody tr th:only-of-type {\n",
       "        vertical-align: middle;\n",
       "    }\n",
       "\n",
       "    .dataframe tbody tr th {\n",
       "        vertical-align: top;\n",
       "    }\n",
       "\n",
       "    .dataframe thead th {\n",
       "        text-align: right;\n",
       "    }\n",
       "</style>\n",
       "<table border=\"1\" class=\"dataframe\">\n",
       "  <thead>\n",
       "    <tr style=\"text-align: right;\">\n",
       "      <th></th>\n",
       "      <th>id</th>\n",
       "      <th>name</th>\n",
       "      <th>summary</th>\n",
       "      <th>description</th>\n",
       "      <th>experiences_offered</th>\n",
       "      <th>neighborhood_overview</th>\n",
       "      <th>transit</th>\n",
       "      <th>house_rules</th>\n",
       "      <th>host_id</th>\n",
       "      <th>host_since</th>\n",
       "      <th>host_response_time</th>\n",
       "      <th>host_response_rate</th>\n",
       "      <th>host_is_superhost</th>\n",
       "      <th>host_listings_count</th>\n",
       "      <th>host_identity_verified</th>\n",
       "      <th>street</th>\n",
       "      <th>neighbourhood</th>\n",
       "      <th>latitude</th>\n",
       "      <th>longitude</th>\n",
       "      <th>property_type</th>\n",
       "      <th>room_type</th>\n",
       "      <th>accommodates</th>\n",
       "      <th>bathrooms</th>\n",
       "      <th>bedrooms</th>\n",
       "      <th>beds</th>\n",
       "      <th>bed_type</th>\n",
       "      <th>amenities</th>\n",
       "      <th>price</th>\n",
       "      <th>guests_included</th>\n",
       "      <th>extra_people</th>\n",
       "      <th>minimum_nights</th>\n",
       "      <th>calendar_updated</th>\n",
       "      <th>has_availability</th>\n",
       "      <th>availability_30</th>\n",
       "      <th>availability_60</th>\n",
       "      <th>availability_90</th>\n",
       "      <th>availability_365</th>\n",
       "      <th>number_of_reviews</th>\n",
       "      <th>number_of_reviews_ltm</th>\n",
       "      <th>review_scores_rating</th>\n",
       "      <th>review_scores_accuracy</th>\n",
       "      <th>review_scores_cleanliness</th>\n",
       "      <th>review_scores_checkin</th>\n",
       "      <th>review_scores_communication</th>\n",
       "      <th>review_scores_location</th>\n",
       "      <th>review_scores_value</th>\n",
       "      <th>instant_bookable</th>\n",
       "      <th>cancellation_policy</th>\n",
       "      <th>calculated_host_listings_count</th>\n",
       "      <th>calculated_host_listings_count_entire_homes</th>\n",
       "      <th>calculated_host_listings_count_private_rooms</th>\n",
       "      <th>calculated_host_listings_count_shared_rooms</th>\n",
       "      <th>reviews_per_month</th>\n",
       "      <th>check_in_24h</th>\n",
       "      <th>air_conditioning</th>\n",
       "      <th>high_end_electronics</th>\n",
       "      <th>bbq</th>\n",
       "      <th>balcony</th>\n",
       "      <th>nature_and_views</th>\n",
       "      <th>bed_linen</th>\n",
       "      <th>breakfast</th>\n",
       "      <th>tv</th>\n",
       "      <th>coffee_machine</th>\n",
       "      <th>cooking_basics</th>\n",
       "      <th>white_goods</th>\n",
       "      <th>elevator</th>\n",
       "      <th>gym</th>\n",
       "      <th>child_friendly</th>\n",
       "      <th>parking</th>\n",
       "      <th>outdoor_space</th>\n",
       "      <th>host_greeting</th>\n",
       "      <th>hot_tub_sauna_or_pool</th>\n",
       "      <th>internet</th>\n",
       "      <th>long_term_stays</th>\n",
       "      <th>pets_allowed</th>\n",
       "      <th>private_entrance</th>\n",
       "      <th>secure</th>\n",
       "      <th>self_check_in</th>\n",
       "      <th>smoking_allowed</th>\n",
       "      <th>accessible</th>\n",
       "      <th>event_suitable</th>\n",
       "    </tr>\n",
       "  </thead>\n",
       "  <tbody>\n",
       "    <tr>\n",
       "      <th>0</th>\n",
       "      <td>2539</td>\n",
       "      <td>Clean &amp; quiet apt home by the park</td>\n",
       "      <td>Renovated apt home in elevator building.</td>\n",
       "      <td>Renovated apt home in elevator building. Spaci...</td>\n",
       "      <td>none</td>\n",
       "      <td>Close to Prospect Park and Historic Ditmas Park</td>\n",
       "      <td>Very close to F and G trains and Express bus i...</td>\n",
       "      <td>-The security and comfort of all our guests is...</td>\n",
       "      <td>2787</td>\n",
       "      <td>39698.0</td>\n",
       "      <td>within an hour</td>\n",
       "      <td>1.0</td>\n",
       "      <td>0.0</td>\n",
       "      <td>6.0</td>\n",
       "      <td>1.0</td>\n",
       "      <td>Brooklyn , NY, United States</td>\n",
       "      <td>Brooklyn</td>\n",
       "      <td>40.64749</td>\n",
       "      <td>-73.97237</td>\n",
       "      <td>Apartment</td>\n",
       "      <td>Private room</td>\n",
       "      <td>2</td>\n",
       "      <td>1.0</td>\n",
       "      <td>1</td>\n",
       "      <td>1</td>\n",
       "      <td>Real Bed</td>\n",
       "      <td>{TV,\"Cable TV\",Internet,Wifi,\"Wheelchair acces...</td>\n",
       "      <td>149</td>\n",
       "      <td>1</td>\n",
       "      <td>35</td>\n",
       "      <td>1</td>\n",
       "      <td>3 weeks ago</td>\n",
       "      <td>1</td>\n",
       "      <td>30</td>\n",
       "      <td>60</td>\n",
       "      <td>90</td>\n",
       "      <td>365</td>\n",
       "      <td>9</td>\n",
       "      <td>2</td>\n",
       "      <td>98.0</td>\n",
       "      <td>10.0</td>\n",
       "      <td>10.0</td>\n",
       "      <td>10.0</td>\n",
       "      <td>10.0</td>\n",
       "      <td>10.0</td>\n",
       "      <td>10.0</td>\n",
       "      <td>0</td>\n",
       "      <td>moderate</td>\n",
       "      <td>6</td>\n",
       "      <td>0</td>\n",
       "      <td>5</td>\n",
       "      <td>1</td>\n",
       "      <td>0.21</td>\n",
       "      <td>1</td>\n",
       "      <td>-1</td>\n",
       "      <td>-1</td>\n",
       "      <td>-1</td>\n",
       "      <td>-1</td>\n",
       "      <td>-1</td>\n",
       "      <td>1</td>\n",
       "      <td>-1</td>\n",
       "      <td>1</td>\n",
       "      <td>1</td>\n",
       "      <td>1</td>\n",
       "      <td>1</td>\n",
       "      <td>1</td>\n",
       "      <td>-1</td>\n",
       "      <td>-1</td>\n",
       "      <td>1</td>\n",
       "      <td>-1</td>\n",
       "      <td>-1</td>\n",
       "      <td>-1</td>\n",
       "      <td>1</td>\n",
       "      <td>1</td>\n",
       "      <td>-1</td>\n",
       "      <td>-1</td>\n",
       "      <td>1</td>\n",
       "      <td>1</td>\n",
       "      <td>-1</td>\n",
       "      <td>1</td>\n",
       "      <td>1</td>\n",
       "    </tr>\n",
       "    <tr>\n",
       "      <th>1</th>\n",
       "      <td>3647</td>\n",
       "      <td>THE VILLAGE OF HARLEM....NEW YORK !</td>\n",
       "      <td>NaN</td>\n",
       "      <td>WELCOME TO OUR INTERNATIONAL URBAN COMMUNITY T...</td>\n",
       "      <td>none</td>\n",
       "      <td>NaN</td>\n",
       "      <td>NaN</td>\n",
       "      <td>Upon arrival please have a legibile copy of yo...</td>\n",
       "      <td>4632</td>\n",
       "      <td>39777.0</td>\n",
       "      <td>within a day</td>\n",
       "      <td>1.0</td>\n",
       "      <td>0.0</td>\n",
       "      <td>1.0</td>\n",
       "      <td>1.0</td>\n",
       "      <td>New York, NY, United States</td>\n",
       "      <td>Harlem</td>\n",
       "      <td>40.80902</td>\n",
       "      <td>-73.94190</td>\n",
       "      <td>Apartment</td>\n",
       "      <td>Private room</td>\n",
       "      <td>2</td>\n",
       "      <td>1.0</td>\n",
       "      <td>1</td>\n",
       "      <td>1</td>\n",
       "      <td>Pull-out Sofa</td>\n",
       "      <td>{\"Cable TV\",Internet,Wifi,\"Air conditioning\",K...</td>\n",
       "      <td>150</td>\n",
       "      <td>2</td>\n",
       "      <td>20</td>\n",
       "      <td>3</td>\n",
       "      <td>34 months ago</td>\n",
       "      <td>1</td>\n",
       "      <td>30</td>\n",
       "      <td>60</td>\n",
       "      <td>90</td>\n",
       "      <td>365</td>\n",
       "      <td>0</td>\n",
       "      <td>0</td>\n",
       "      <td>NaN</td>\n",
       "      <td>NaN</td>\n",
       "      <td>NaN</td>\n",
       "      <td>NaN</td>\n",
       "      <td>NaN</td>\n",
       "      <td>NaN</td>\n",
       "      <td>NaN</td>\n",
       "      <td>0</td>\n",
       "      <td>strict_14_with_grace_period</td>\n",
       "      <td>1</td>\n",
       "      <td>0</td>\n",
       "      <td>1</td>\n",
       "      <td>0</td>\n",
       "      <td>NaN</td>\n",
       "      <td>-1</td>\n",
       "      <td>1</td>\n",
       "      <td>-1</td>\n",
       "      <td>-1</td>\n",
       "      <td>-1</td>\n",
       "      <td>-1</td>\n",
       "      <td>-1</td>\n",
       "      <td>-1</td>\n",
       "      <td>1</td>\n",
       "      <td>-1</td>\n",
       "      <td>-1</td>\n",
       "      <td>-1</td>\n",
       "      <td>-1</td>\n",
       "      <td>-1</td>\n",
       "      <td>-1</td>\n",
       "      <td>-1</td>\n",
       "      <td>-1</td>\n",
       "      <td>-1</td>\n",
       "      <td>-1</td>\n",
       "      <td>1</td>\n",
       "      <td>-1</td>\n",
       "      <td>-1</td>\n",
       "      <td>-1</td>\n",
       "      <td>-1</td>\n",
       "      <td>-1</td>\n",
       "      <td>-1</td>\n",
       "      <td>-1</td>\n",
       "      <td>-1</td>\n",
       "    </tr>\n",
       "    <tr>\n",
       "      <th>2</th>\n",
       "      <td>7750</td>\n",
       "      <td>Huge 2 BR Upper East  Cental Park</td>\n",
       "      <td>NaN</td>\n",
       "      <td>Large Furnished 2BR one block  to Central Park...</td>\n",
       "      <td>none</td>\n",
       "      <td>NaN</td>\n",
       "      <td>NaN</td>\n",
       "      <td>NaN</td>\n",
       "      <td>17985</td>\n",
       "      <td>39953.0</td>\n",
       "      <td>within a day</td>\n",
       "      <td>1.0</td>\n",
       "      <td>0.0</td>\n",
       "      <td>2.0</td>\n",
       "      <td>1.0</td>\n",
       "      <td>New York, NY, United States</td>\n",
       "      <td>Harlem</td>\n",
       "      <td>40.79685</td>\n",
       "      <td>-73.94872</td>\n",
       "      <td>Apartment</td>\n",
       "      <td>Entire home/apt</td>\n",
       "      <td>4</td>\n",
       "      <td>1.0</td>\n",
       "      <td>2</td>\n",
       "      <td>2</td>\n",
       "      <td>Real Bed</td>\n",
       "      <td>{TV,\"Cable TV\",Internet,Wifi,\"Air conditioning...</td>\n",
       "      <td>190</td>\n",
       "      <td>1</td>\n",
       "      <td>0</td>\n",
       "      <td>7</td>\n",
       "      <td>7 weeks ago</td>\n",
       "      <td>1</td>\n",
       "      <td>4</td>\n",
       "      <td>14</td>\n",
       "      <td>14</td>\n",
       "      <td>249</td>\n",
       "      <td>0</td>\n",
       "      <td>0</td>\n",
       "      <td>NaN</td>\n",
       "      <td>NaN</td>\n",
       "      <td>NaN</td>\n",
       "      <td>NaN</td>\n",
       "      <td>NaN</td>\n",
       "      <td>NaN</td>\n",
       "      <td>NaN</td>\n",
       "      <td>0</td>\n",
       "      <td>flexible</td>\n",
       "      <td>2</td>\n",
       "      <td>1</td>\n",
       "      <td>1</td>\n",
       "      <td>0</td>\n",
       "      <td>NaN</td>\n",
       "      <td>-1</td>\n",
       "      <td>1</td>\n",
       "      <td>-1</td>\n",
       "      <td>-1</td>\n",
       "      <td>-1</td>\n",
       "      <td>-1</td>\n",
       "      <td>-1</td>\n",
       "      <td>-1</td>\n",
       "      <td>1</td>\n",
       "      <td>-1</td>\n",
       "      <td>-1</td>\n",
       "      <td>-1</td>\n",
       "      <td>1</td>\n",
       "      <td>-1</td>\n",
       "      <td>-1</td>\n",
       "      <td>-1</td>\n",
       "      <td>-1</td>\n",
       "      <td>-1</td>\n",
       "      <td>-1</td>\n",
       "      <td>1</td>\n",
       "      <td>-1</td>\n",
       "      <td>1</td>\n",
       "      <td>-1</td>\n",
       "      <td>-1</td>\n",
       "      <td>-1</td>\n",
       "      <td>-1</td>\n",
       "      <td>-1</td>\n",
       "      <td>-1</td>\n",
       "    </tr>\n",
       "    <tr>\n",
       "      <th>3</th>\n",
       "      <td>8505</td>\n",
       "      <td>Sunny Bedroom Across Prospect Park</td>\n",
       "      <td>Just renovated sun drenched bedroom in a quiet...</td>\n",
       "      <td>Just renovated sun drenched bedroom in a quiet...</td>\n",
       "      <td>none</td>\n",
       "      <td>Quiet and beautiful Windsor Terrace. The apart...</td>\n",
       "      <td>Ten minutes walk to the 15th sheet F&amp;G train s...</td>\n",
       "      <td>- No shoes in the house - Quiet hours after 11...</td>\n",
       "      <td>25326</td>\n",
       "      <td>40006.0</td>\n",
       "      <td>within an hour</td>\n",
       "      <td>1.0</td>\n",
       "      <td>1.0</td>\n",
       "      <td>2.0</td>\n",
       "      <td>0.0</td>\n",
       "      <td>Brooklyn, NY, United States</td>\n",
       "      <td>Brooklyn</td>\n",
       "      <td>40.65599</td>\n",
       "      <td>-73.97519</td>\n",
       "      <td>Condominium</td>\n",
       "      <td>Private room</td>\n",
       "      <td>2</td>\n",
       "      <td>1.0</td>\n",
       "      <td>1</td>\n",
       "      <td>1</td>\n",
       "      <td>Real Bed</td>\n",
       "      <td>{Wifi,\"Air conditioning\",\"Free street parking\"...</td>\n",
       "      <td>60</td>\n",
       "      <td>1</td>\n",
       "      <td>20</td>\n",
       "      <td>1</td>\n",
       "      <td>2 months ago</td>\n",
       "      <td>1</td>\n",
       "      <td>25</td>\n",
       "      <td>55</td>\n",
       "      <td>85</td>\n",
       "      <td>85</td>\n",
       "      <td>19</td>\n",
       "      <td>17</td>\n",
       "      <td>97.0</td>\n",
       "      <td>10.0</td>\n",
       "      <td>10.0</td>\n",
       "      <td>10.0</td>\n",
       "      <td>10.0</td>\n",
       "      <td>10.0</td>\n",
       "      <td>9.0</td>\n",
       "      <td>0</td>\n",
       "      <td>moderate</td>\n",
       "      <td>2</td>\n",
       "      <td>1</td>\n",
       "      <td>1</td>\n",
       "      <td>0</td>\n",
       "      <td>1.37</td>\n",
       "      <td>-1</td>\n",
       "      <td>1</td>\n",
       "      <td>-1</td>\n",
       "      <td>-1</td>\n",
       "      <td>-1</td>\n",
       "      <td>-1</td>\n",
       "      <td>1</td>\n",
       "      <td>-1</td>\n",
       "      <td>-1</td>\n",
       "      <td>-1</td>\n",
       "      <td>-1</td>\n",
       "      <td>1</td>\n",
       "      <td>-1</td>\n",
       "      <td>-1</td>\n",
       "      <td>-1</td>\n",
       "      <td>1</td>\n",
       "      <td>-1</td>\n",
       "      <td>1</td>\n",
       "      <td>-1</td>\n",
       "      <td>1</td>\n",
       "      <td>-1</td>\n",
       "      <td>-1</td>\n",
       "      <td>-1</td>\n",
       "      <td>-1</td>\n",
       "      <td>-1</td>\n",
       "      <td>-1</td>\n",
       "      <td>-1</td>\n",
       "      <td>-1</td>\n",
       "    </tr>\n",
       "    <tr>\n",
       "      <th>4</th>\n",
       "      <td>8700</td>\n",
       "      <td>Magnifique Suite au N de Manhattan - vue Cloitres</td>\n",
       "      <td>Suite de 20 m2 a 5 min des 2 lignes de metro a...</td>\n",
       "      <td>Suite de 20 m2 a 5 min des 2 lignes de metro a...</td>\n",
       "      <td>none</td>\n",
       "      <td>NaN</td>\n",
       "      <td>Metro 1 et A</td>\n",
       "      <td>NaN</td>\n",
       "      <td>26394</td>\n",
       "      <td>40014.0</td>\n",
       "      <td>NaN</td>\n",
       "      <td>NaN</td>\n",
       "      <td>0.0</td>\n",
       "      <td>1.0</td>\n",
       "      <td>1.0</td>\n",
       "      <td>New York, NY, United States</td>\n",
       "      <td>Manhattan</td>\n",
       "      <td>40.86754</td>\n",
       "      <td>-73.92639</td>\n",
       "      <td>Apartment</td>\n",
       "      <td>Private room</td>\n",
       "      <td>2</td>\n",
       "      <td>1.0</td>\n",
       "      <td>1</td>\n",
       "      <td>1</td>\n",
       "      <td>Real Bed</td>\n",
       "      <td>{Internet,Wifi,Kitchen,\"Paid parking off premi...</td>\n",
       "      <td>80</td>\n",
       "      <td>1</td>\n",
       "      <td>20</td>\n",
       "      <td>4</td>\n",
       "      <td>14 months ago</td>\n",
       "      <td>1</td>\n",
       "      <td>0</td>\n",
       "      <td>0</td>\n",
       "      <td>0</td>\n",
       "      <td>0</td>\n",
       "      <td>0</td>\n",
       "      <td>0</td>\n",
       "      <td>NaN</td>\n",
       "      <td>NaN</td>\n",
       "      <td>NaN</td>\n",
       "      <td>NaN</td>\n",
       "      <td>NaN</td>\n",
       "      <td>NaN</td>\n",
       "      <td>NaN</td>\n",
       "      <td>0</td>\n",
       "      <td>moderate</td>\n",
       "      <td>1</td>\n",
       "      <td>0</td>\n",
       "      <td>1</td>\n",
       "      <td>0</td>\n",
       "      <td>NaN</td>\n",
       "      <td>-1</td>\n",
       "      <td>-1</td>\n",
       "      <td>-1</td>\n",
       "      <td>-1</td>\n",
       "      <td>-1</td>\n",
       "      <td>-1</td>\n",
       "      <td>-1</td>\n",
       "      <td>-1</td>\n",
       "      <td>-1</td>\n",
       "      <td>-1</td>\n",
       "      <td>-1</td>\n",
       "      <td>1</td>\n",
       "      <td>1</td>\n",
       "      <td>-1</td>\n",
       "      <td>1</td>\n",
       "      <td>1</td>\n",
       "      <td>-1</td>\n",
       "      <td>1</td>\n",
       "      <td>-1</td>\n",
       "      <td>1</td>\n",
       "      <td>-1</td>\n",
       "      <td>-1</td>\n",
       "      <td>-1</td>\n",
       "      <td>-1</td>\n",
       "      <td>-1</td>\n",
       "      <td>-1</td>\n",
       "      <td>-1</td>\n",
       "      <td>-1</td>\n",
       "    </tr>\n",
       "  </tbody>\n",
       "</table>\n",
       "</div>"
      ],
      "text/plain": [
       "     id                                               name  \\\n",
       "0  2539                 Clean & quiet apt home by the park   \n",
       "1  3647                THE VILLAGE OF HARLEM....NEW YORK !   \n",
       "2  7750                  Huge 2 BR Upper East  Cental Park   \n",
       "3  8505                 Sunny Bedroom Across Prospect Park   \n",
       "4  8700  Magnifique Suite au N de Manhattan - vue Cloitres   \n",
       "\n",
       "                                             summary  \\\n",
       "0           Renovated apt home in elevator building.   \n",
       "1                                                NaN   \n",
       "2                                                NaN   \n",
       "3  Just renovated sun drenched bedroom in a quiet...   \n",
       "4  Suite de 20 m2 a 5 min des 2 lignes de metro a...   \n",
       "\n",
       "                                         description experiences_offered  \\\n",
       "0  Renovated apt home in elevator building. Spaci...                none   \n",
       "1  WELCOME TO OUR INTERNATIONAL URBAN COMMUNITY T...                none   \n",
       "2  Large Furnished 2BR one block  to Central Park...                none   \n",
       "3  Just renovated sun drenched bedroom in a quiet...                none   \n",
       "4  Suite de 20 m2 a 5 min des 2 lignes de metro a...                none   \n",
       "\n",
       "                               neighborhood_overview  \\\n",
       "0    Close to Prospect Park and Historic Ditmas Park   \n",
       "1                                                NaN   \n",
       "2                                                NaN   \n",
       "3  Quiet and beautiful Windsor Terrace. The apart...   \n",
       "4                                                NaN   \n",
       "\n",
       "                                             transit  \\\n",
       "0  Very close to F and G trains and Express bus i...   \n",
       "1                                                NaN   \n",
       "2                                                NaN   \n",
       "3  Ten minutes walk to the 15th sheet F&G train s...   \n",
       "4                                       Metro 1 et A   \n",
       "\n",
       "                                         house_rules  host_id  host_since  \\\n",
       "0  -The security and comfort of all our guests is...     2787     39698.0   \n",
       "1  Upon arrival please have a legibile copy of yo...     4632     39777.0   \n",
       "2                                                NaN    17985     39953.0   \n",
       "3  - No shoes in the house - Quiet hours after 11...    25326     40006.0   \n",
       "4                                                NaN    26394     40014.0   \n",
       "\n",
       "  host_response_time  host_response_rate  host_is_superhost  \\\n",
       "0     within an hour                 1.0                0.0   \n",
       "1       within a day                 1.0                0.0   \n",
       "2       within a day                 1.0                0.0   \n",
       "3     within an hour                 1.0                1.0   \n",
       "4                NaN                 NaN                0.0   \n",
       "\n",
       "   host_listings_count  host_identity_verified                        street  \\\n",
       "0                  6.0                     1.0  Brooklyn , NY, United States   \n",
       "1                  1.0                     1.0   New York, NY, United States   \n",
       "2                  2.0                     1.0   New York, NY, United States   \n",
       "3                  2.0                     0.0   Brooklyn, NY, United States   \n",
       "4                  1.0                     1.0   New York, NY, United States   \n",
       "\n",
       "  neighbourhood  latitude  longitude property_type        room_type  \\\n",
       "0      Brooklyn  40.64749  -73.97237     Apartment     Private room   \n",
       "1        Harlem  40.80902  -73.94190     Apartment     Private room   \n",
       "2        Harlem  40.79685  -73.94872     Apartment  Entire home/apt   \n",
       "3      Brooklyn  40.65599  -73.97519   Condominium     Private room   \n",
       "4     Manhattan  40.86754  -73.92639     Apartment     Private room   \n",
       "\n",
       "   accommodates  bathrooms  bedrooms  beds       bed_type  \\\n",
       "0             2        1.0         1     1       Real Bed   \n",
       "1             2        1.0         1     1  Pull-out Sofa   \n",
       "2             4        1.0         2     2       Real Bed   \n",
       "3             2        1.0         1     1       Real Bed   \n",
       "4             2        1.0         1     1       Real Bed   \n",
       "\n",
       "                                           amenities  price  guests_included  \\\n",
       "0  {TV,\"Cable TV\",Internet,Wifi,\"Wheelchair acces...    149                1   \n",
       "1  {\"Cable TV\",Internet,Wifi,\"Air conditioning\",K...    150                2   \n",
       "2  {TV,\"Cable TV\",Internet,Wifi,\"Air conditioning...    190                1   \n",
       "3  {Wifi,\"Air conditioning\",\"Free street parking\"...     60                1   \n",
       "4  {Internet,Wifi,Kitchen,\"Paid parking off premi...     80                1   \n",
       "\n",
       "   extra_people  minimum_nights calendar_updated  has_availability  \\\n",
       "0            35               1      3 weeks ago                 1   \n",
       "1            20               3    34 months ago                 1   \n",
       "2             0               7      7 weeks ago                 1   \n",
       "3            20               1     2 months ago                 1   \n",
       "4            20               4    14 months ago                 1   \n",
       "\n",
       "   availability_30  availability_60  availability_90  availability_365  \\\n",
       "0               30               60               90               365   \n",
       "1               30               60               90               365   \n",
       "2                4               14               14               249   \n",
       "3               25               55               85                85   \n",
       "4                0                0                0                 0   \n",
       "\n",
       "   number_of_reviews  number_of_reviews_ltm  review_scores_rating  \\\n",
       "0                  9                      2                  98.0   \n",
       "1                  0                      0                   NaN   \n",
       "2                  0                      0                   NaN   \n",
       "3                 19                     17                  97.0   \n",
       "4                  0                      0                   NaN   \n",
       "\n",
       "   review_scores_accuracy  review_scores_cleanliness  review_scores_checkin  \\\n",
       "0                    10.0                       10.0                   10.0   \n",
       "1                     NaN                        NaN                    NaN   \n",
       "2                     NaN                        NaN                    NaN   \n",
       "3                    10.0                       10.0                   10.0   \n",
       "4                     NaN                        NaN                    NaN   \n",
       "\n",
       "   review_scores_communication  review_scores_location  review_scores_value  \\\n",
       "0                         10.0                    10.0                 10.0   \n",
       "1                          NaN                     NaN                  NaN   \n",
       "2                          NaN                     NaN                  NaN   \n",
       "3                         10.0                    10.0                  9.0   \n",
       "4                          NaN                     NaN                  NaN   \n",
       "\n",
       "   instant_bookable          cancellation_policy  \\\n",
       "0                 0                     moderate   \n",
       "1                 0  strict_14_with_grace_period   \n",
       "2                 0                     flexible   \n",
       "3                 0                     moderate   \n",
       "4                 0                     moderate   \n",
       "\n",
       "   calculated_host_listings_count  \\\n",
       "0                               6   \n",
       "1                               1   \n",
       "2                               2   \n",
       "3                               2   \n",
       "4                               1   \n",
       "\n",
       "   calculated_host_listings_count_entire_homes  \\\n",
       "0                                            0   \n",
       "1                                            0   \n",
       "2                                            1   \n",
       "3                                            1   \n",
       "4                                            0   \n",
       "\n",
       "   calculated_host_listings_count_private_rooms  \\\n",
       "0                                             5   \n",
       "1                                             1   \n",
       "2                                             1   \n",
       "3                                             1   \n",
       "4                                             1   \n",
       "\n",
       "   calculated_host_listings_count_shared_rooms  reviews_per_month  \\\n",
       "0                                            1               0.21   \n",
       "1                                            0                NaN   \n",
       "2                                            0                NaN   \n",
       "3                                            0               1.37   \n",
       "4                                            0                NaN   \n",
       "\n",
       "   check_in_24h  air_conditioning  high_end_electronics  bbq  balcony  \\\n",
       "0             1                -1                    -1   -1       -1   \n",
       "1            -1                 1                    -1   -1       -1   \n",
       "2            -1                 1                    -1   -1       -1   \n",
       "3            -1                 1                    -1   -1       -1   \n",
       "4            -1                -1                    -1   -1       -1   \n",
       "\n",
       "   nature_and_views  bed_linen  breakfast  tv  coffee_machine  cooking_basics  \\\n",
       "0                -1          1         -1   1               1               1   \n",
       "1                -1         -1         -1   1              -1              -1   \n",
       "2                -1         -1         -1   1              -1              -1   \n",
       "3                -1          1         -1  -1              -1              -1   \n",
       "4                -1         -1         -1  -1              -1              -1   \n",
       "\n",
       "   white_goods  elevator  gym  child_friendly  parking  outdoor_space  \\\n",
       "0            1         1   -1              -1        1             -1   \n",
       "1           -1        -1   -1              -1       -1             -1   \n",
       "2           -1         1   -1              -1       -1             -1   \n",
       "3            1        -1   -1              -1        1             -1   \n",
       "4            1         1   -1               1        1             -1   \n",
       "\n",
       "   host_greeting  hot_tub_sauna_or_pool  internet  long_term_stays  \\\n",
       "0             -1                     -1         1                1   \n",
       "1             -1                     -1         1               -1   \n",
       "2             -1                     -1         1               -1   \n",
       "3              1                     -1         1               -1   \n",
       "4              1                     -1         1               -1   \n",
       "\n",
       "   pets_allowed  private_entrance  secure  self_check_in  smoking_allowed  \\\n",
       "0            -1                -1       1              1               -1   \n",
       "1            -1                -1      -1             -1               -1   \n",
       "2             1                -1      -1             -1               -1   \n",
       "3            -1                -1      -1             -1               -1   \n",
       "4            -1                -1      -1             -1               -1   \n",
       "\n",
       "   accessible  event_suitable  \n",
       "0           1               1  \n",
       "1          -1              -1  \n",
       "2          -1              -1  \n",
       "3          -1              -1  \n",
       "4          -1              -1  "
      ]
     },
     "execution_count": 82,
     "metadata": {},
     "output_type": "execute_result"
    }
   ],
   "source": [
    "# para mostrar hasta 100 columnas: pd.options.display.max_columns = 100\n",
    "df = pd.read_csv('airbnb_nyc.csv',sep=\",\")\n",
    "df.head()"
   ]
  },
  {
   "cell_type": "markdown",
   "metadata": {
    "id": "5RaJUqQYiqgn"
   },
   "source": [
    "2. Genere estadisticas descriptivas para las variables: 'price','bedrooms','bathrooms','number_of_reviews'"
   ]
  },
  {
   "cell_type": "code",
   "execution_count": 24,
   "metadata": {
    "id": "vjZisjc4iFxq"
   },
   "outputs": [
    {
     "data": {
      "text/html": [
       "<div>\n",
       "<style scoped>\n",
       "    .dataframe tbody tr th:only-of-type {\n",
       "        vertical-align: middle;\n",
       "    }\n",
       "\n",
       "    .dataframe tbody tr th {\n",
       "        vertical-align: top;\n",
       "    }\n",
       "\n",
       "    .dataframe thead th {\n",
       "        text-align: right;\n",
       "    }\n",
       "</style>\n",
       "<table border=\"1\" class=\"dataframe\">\n",
       "  <thead>\n",
       "    <tr style=\"text-align: right;\">\n",
       "      <th></th>\n",
       "      <th>number_of_reviews</th>\n",
       "      <th>bedrooms</th>\n",
       "      <th>bathrooms</th>\n",
       "      <th>price</th>\n",
       "    </tr>\n",
       "  </thead>\n",
       "  <tbody>\n",
       "    <tr>\n",
       "      <th>count</th>\n",
       "      <td>30179.000000</td>\n",
       "      <td>30179.000000</td>\n",
       "      <td>30179.000000</td>\n",
       "      <td>30179.000000</td>\n",
       "    </tr>\n",
       "    <tr>\n",
       "      <th>mean</th>\n",
       "      <td>4.459889</td>\n",
       "      <td>1.265516</td>\n",
       "      <td>1.151595</td>\n",
       "      <td>132.949965</td>\n",
       "    </tr>\n",
       "    <tr>\n",
       "      <th>std</th>\n",
       "      <td>5.265633</td>\n",
       "      <td>0.614659</td>\n",
       "      <td>0.422225</td>\n",
       "      <td>93.151824</td>\n",
       "    </tr>\n",
       "    <tr>\n",
       "      <th>min</th>\n",
       "      <td>0.000000</td>\n",
       "      <td>1.000000</td>\n",
       "      <td>0.500000</td>\n",
       "      <td>0.000000</td>\n",
       "    </tr>\n",
       "    <tr>\n",
       "      <th>25%</th>\n",
       "      <td>0.000000</td>\n",
       "      <td>1.000000</td>\n",
       "      <td>1.000000</td>\n",
       "      <td>65.000000</td>\n",
       "    </tr>\n",
       "    <tr>\n",
       "      <th>50%</th>\n",
       "      <td>2.000000</td>\n",
       "      <td>1.000000</td>\n",
       "      <td>1.000000</td>\n",
       "      <td>100.000000</td>\n",
       "    </tr>\n",
       "    <tr>\n",
       "      <th>75%</th>\n",
       "      <td>7.000000</td>\n",
       "      <td>1.000000</td>\n",
       "      <td>1.000000</td>\n",
       "      <td>175.000000</td>\n",
       "    </tr>\n",
       "    <tr>\n",
       "      <th>max</th>\n",
       "      <td>20.000000</td>\n",
       "      <td>11.000000</td>\n",
       "      <td>7.500000</td>\n",
       "      <td>500.000000</td>\n",
       "    </tr>\n",
       "  </tbody>\n",
       "</table>\n",
       "</div>"
      ],
      "text/plain": [
       "       number_of_reviews      bedrooms     bathrooms         price\n",
       "count       30179.000000  30179.000000  30179.000000  30179.000000\n",
       "mean            4.459889      1.265516      1.151595    132.949965\n",
       "std             5.265633      0.614659      0.422225     93.151824\n",
       "min             0.000000      1.000000      0.500000      0.000000\n",
       "25%             0.000000      1.000000      1.000000     65.000000\n",
       "50%             2.000000      1.000000      1.000000    100.000000\n",
       "75%             7.000000      1.000000      1.000000    175.000000\n",
       "max            20.000000     11.000000      7.500000    500.000000"
      ]
     },
     "execution_count": 24,
     "metadata": {},
     "output_type": "execute_result"
    }
   ],
   "source": [
    "df[{\"price\",\"bedrooms\",\"bathrooms\",\"number_of_reviews\"}].describe()"
   ]
  },
  {
   "cell_type": "markdown",
   "metadata": {
    "id": "vuchwjDxjI6u"
   },
   "source": [
    "3. Genere histogramas de las variables mencionadas en el punto 2. Qué puede observar de ellos?"
   ]
  },
  {
   "cell_type": "code",
   "execution_count": 33,
   "metadata": {},
   "outputs": [
    {
     "data": {
      "text/plain": [
       "0     9\n",
       "1     0\n",
       "2     0\n",
       "3    19\n",
       "4     0\n",
       "Name: number_of_reviews, dtype: int64"
      ]
     },
     "execution_count": 33,
     "metadata": {},
     "output_type": "execute_result"
    }
   ],
   "source": [
    "df[\"number_of_reviews\"].head()"
   ]
  },
  {
   "cell_type": "code",
   "execution_count": 31,
   "metadata": {
    "id": "JizxJS_LjMuo"
   },
   "outputs": [
    {
     "data": {
      "text/plain": [
       "<AxesSubplot:xlabel='number_of_reviews', ylabel='Count'>"
      ]
     },
     "execution_count": 31,
     "metadata": {},
     "output_type": "execute_result"
    },
    {
     "data": {
      "image/png": "[encoded data removed]",
      "text/plain": [
       "<Figure size 1080x576 with 1 Axes>"
      ]
     },
     "metadata": {},
     "output_type": "display_data"
    }
   ],
   "source": [
    "plt.figure(figsize = (15,8))\n",
    "sns.histplot(data=df, x=\"number_of_reviews\")"
   ]
  },
  {
   "cell_type": "markdown",
   "metadata": {},
   "source": [
    "La mayoria de lugares para hospedarse tiene 0 reseñas y muy pocas del dataseet llegan a tener mas de 6 reseñas. "
   ]
  },
  {
   "cell_type": "code",
   "execution_count": 27,
   "metadata": {},
   "outputs": [
    {
     "data": {
      "text/plain": [
       "<AxesSubplot:xlabel='bedrooms', ylabel='Count'>"
      ]
     },
     "execution_count": 27,
     "metadata": {},
     "output_type": "execute_result"
    },
    {
     "data": {
      "image/png": "[encoded data removed]",
      "text/plain": [
       "<Figure size 1080x576 with 1 Axes>"
      ]
     },
     "metadata": {},
     "output_type": "display_data"
    }
   ],
   "source": [
    "plt.figure(figsize = (15,8))\n",
    "sns.histplot(data=df, x=\"bedrooms\")"
   ]
  },
  {
   "cell_type": "markdown",
   "metadata": {
    "id": "qk8QpxpPkpv1"
   },
   "source": [
    "R/ La mayoria de lugares tienen una habitacion. Y menos de 4500 lugares tienen 2 habitaciones y ya menos de 1300 lugares tienen entre 3 o mas habitaciones"
   ]
  },
  {
   "cell_type": "code",
   "execution_count": 35,
   "metadata": {},
   "outputs": [
    {
     "data": {
      "text/plain": [
       "bedrooms\n",
       "1     24254\n",
       "2      4321\n",
       "3      1241\n",
       "4       279\n",
       "5        62\n",
       "6        14\n",
       "7         4\n",
       "8         3\n",
       "11        1\n",
       "dtype: int64"
      ]
     },
     "execution_count": 35,
     "metadata": {},
     "output_type": "execute_result"
    }
   ],
   "source": [
    "df_bedrooms=df.groupby(\"bedrooms\").size()\n",
    "df_bedrooms"
   ]
  },
  {
   "cell_type": "code",
   "execution_count": 28,
   "metadata": {},
   "outputs": [
    {
     "data": {
      "text/plain": [
       "<AxesSubplot:xlabel='bathrooms', ylabel='Count'>"
      ]
     },
     "execution_count": 28,
     "metadata": {},
     "output_type": "execute_result"
    },
    {
     "data": {
      "image/png": "[encoded data removed]",
      "text/plain": [
       "<Figure size 1080x576 with 1 Axes>"
      ]
     },
     "metadata": {},
     "output_type": "display_data"
    }
   ],
   "source": [
    "plt.figure(figsize = (15,8))\n",
    "sns.histplot(data=df, x=\"bathrooms\")\n"
   ]
  },
  {
   "cell_type": "code",
   "execution_count": 36,
   "metadata": {},
   "outputs": [
    {
     "data": {
      "text/plain": [
       "bathrooms\n",
       "0.5       64\n",
       "1.0    25298\n",
       "1.5     1628\n",
       "2.0     2650\n",
       "2.5      272\n",
       "3.0      149\n",
       "3.5       35\n",
       "4.0       34\n",
       "4.5        3\n",
       "5.0        3\n",
       "5.5        1\n",
       "6.0       25\n",
       "6.5       14\n",
       "7.0        2\n",
       "7.5        1\n",
       "dtype: int64"
      ]
     },
     "execution_count": 36,
     "metadata": {},
     "output_type": "execute_result"
    }
   ],
   "source": [
    "df_bathrooms=df.groupby(\"bathrooms\").size()\n",
    "df_bathrooms"
   ]
  },
  {
   "cell_type": "markdown",
   "metadata": {},
   "source": [
    "R/ La mayoria de los lugares tienen entre 1 y dos baños, y alrededor de 500 lugares disponen de mas de 2 baños."
   ]
  },
  {
   "cell_type": "code",
   "execution_count": 39,
   "metadata": {},
   "outputs": [
    {
     "data": {
      "text/plain": [
       "<AxesSubplot:xlabel='price', ylabel='Count'>"
      ]
     },
     "execution_count": 39,
     "metadata": {},
     "output_type": "execute_result"
    },
    {
     "data": {
      "image/png": "[encoded data removed]",
      "text/plain": [
       "<Figure size 1080x576 with 1 Axes>"
      ]
     },
     "metadata": {},
     "output_type": "display_data"
    }
   ],
   "source": [
    "plt.figure(figsize = (15,8))\n",
    "sns.histplot(data=df, x=\"price\")"
   ]
  },
  {
   "cell_type": "markdown",
   "metadata": {},
   "source": [
    "R/ La mayoria de los lugares tienen un precio entre 30 y 100 dolares. Y aproximadamente 1000 lugares cobran menos de 30 dolares y ya el resto, cobran mas de 100 dolares."
   ]
  },
  {
   "cell_type": "code",
   "execution_count": 49,
   "metadata": {},
   "outputs": [
    {
     "data": {
      "image/png": "[encoded data removed]",
      "text/plain": [
       "<Figure size 1080x1080 with 4 Axes>"
      ]
     },
     "metadata": {},
     "output_type": "display_data"
    }
   ],
   "source": [
    "fig, axs = plt.subplots(2, 2, figsize=(15, 15))\n",
    "\n",
    "sns.histplot(data=df, x=\"number_of_reviews\", kde=True, color=\"skyblue\", ax=axs[0, 0])\n",
    "sns.histplot(data=df, x=\"bathrooms\", kde=True, color=\"olive\", ax=axs[0, 1])\n",
    "sns.histplot(data=df, x=\"bedrooms\", kde=True, color=\"gold\", ax=axs[1, 0])\n",
    "sns.histplot(data=df, x=\"price\", kde=True, color=\"teal\", ax=axs[1, 1])\n",
    "\n",
    "plt.show()"
   ]
  },
  {
   "cell_type": "markdown",
   "metadata": {
    "id": "qRZ_gpPDjyzQ"
   },
   "source": [
    "4. Cree diagramas de cajas y bigotes para:  price vs. bathrooms, price vs. number_of_reviews, and price vs. review_scores_cleanliness, price vs bedrooms. Qué puede observar en cada uno de ellos?"
   ]
  },
  {
   "cell_type": "code",
   "execution_count": 44,
   "metadata": {
    "id": "YAATXlZ2kszE"
   },
   "outputs": [
    {
     "data": {
      "text/plain": [
       "<AxesSubplot:xlabel='bathrooms', ylabel='price'>"
      ]
     },
     "execution_count": 44,
     "metadata": {},
     "output_type": "execute_result"
    },
    {
     "data": {
      "image/png": "[encoded data removed]",
      "text/plain": [
       "<Figure size 1080x576 with 1 Axes>"
      ]
     },
     "metadata": {},
     "output_type": "display_data"
    }
   ],
   "source": [
    "plt.figure(figsize = (15,8))\n",
    "sns.boxplot(x=\"bathrooms\", y=\"price\", data=df)"
   ]
  },
  {
   "cell_type": "markdown",
   "metadata": {
    "id": "sG4wpMrgjNTe"
   },
   "source": [
    "R/ Los lugares con un baño llegan a tener una mediana de precios entre 80 dolares y 100 dolares.Tambien podemos decir que hay lugares por encima de los 300 dolares que tienen solo un baño. Los lugares entre 2  y 3 baños llegan a tener una mediana de precios entre 170 y 200 dolares. Los lugares entre 3.5 y 5 baños tienen mucha dispersion en cuanto al precio  a excepcion de los que tienen 4.5 baños. Los lugares entre 5.5 baños en adelante la dispersion de los precios es muy bajita, hay unos con precios muy economicos y otros con precios muy elevados con respecto a la distribucion de los precios de los lugares.(hostales)"
   ]
  },
  {
   "cell_type": "code",
   "execution_count": 52,
   "metadata": {},
   "outputs": [
    {
     "data": {
      "text/plain": [
       "<AxesSubplot:xlabel='number_of_reviews', ylabel='price'>"
      ]
     },
     "execution_count": 52,
     "metadata": {},
     "output_type": "execute_result"
    },
    {
     "data": {
      "image/png": "[encoded data removed]",
      "text/plain": [
       "<Figure size 1080x576 with 1 Axes>"
      ]
     },
     "metadata": {},
     "output_type": "display_data"
    }
   ],
   "source": [
    "plt.figure(figsize = (15,8))\n",
    "sns.boxplot(x=\"number_of_reviews\", y=\"price\", data=df)"
   ]
  },
  {
   "cell_type": "markdown",
   "metadata": {},
   "source": [
    "R/ La distribucion de los precios por cada numero de reseña tiende a tener un comportamiento muy similar. Sin importar la calificacion de los lugares tiene un precio similar."
   ]
  },
  {
   "cell_type": "code",
   "execution_count": 54,
   "metadata": {},
   "outputs": [
    {
     "data": {
      "text/plain": [
       "<AxesSubplot:xlabel='review_scores_cleanliness', ylabel='price'>"
      ]
     },
     "execution_count": 54,
     "metadata": {},
     "output_type": "execute_result"
    },
    {
     "data": {
      "image/png": "[encoded data removed]",
      "text/plain": [
       "<Figure size 1080x576 with 1 Axes>"
      ]
     },
     "metadata": {},
     "output_type": "display_data"
    }
   ],
   "source": [
    "plt.figure(figsize = (15,8))\n",
    "sns.boxplot(x=\"review_scores_cleanliness\", y=\"price\", data=df)"
   ]
  },
  {
   "cell_type": "markdown",
   "metadata": {},
   "source": [
    "R/  Podemos decir que con respecto a los puntjaes de limpieza la mediana de los precios se comporta similar, y tambien, entre mas mas puntajes de limpieza tiende a ser mas costoso el lugar"
   ]
  },
  {
   "cell_type": "code",
   "execution_count": 57,
   "metadata": {},
   "outputs": [
    {
     "data": {
      "text/plain": [
       "<AxesSubplot:xlabel='bedrooms', ylabel='price'>"
      ]
     },
     "execution_count": 57,
     "metadata": {},
     "output_type": "execute_result"
    },
    {
     "data": {
      "image/png": "[encoded data removed]",
      "text/plain": [
       "<Figure size 1080x576 with 1 Axes>"
      ]
     },
     "metadata": {},
     "output_type": "display_data"
    }
   ],
   "source": [
    "plt.figure(figsize = (15,8))\n",
    "sns.boxplot(x=\"bedrooms\", y=\"price\", data=df)\n"
   ]
  },
  {
   "cell_type": "markdown",
   "metadata": {},
   "source": [
    "R/ Podemos decir que entre mas baños, el precio es mayor. Los lugares con mas de 8 baños tienden a tener un bajo precio con respecto a los otros, lo mas seguro es que sean hostales."
   ]
  },
  {
   "cell_type": "markdown",
   "metadata": {
    "id": "4ObnmYo_lHJk"
   },
   "source": [
    "5. Escriba un código para imprimir las columnas que están correlacionadas positivamente con el precio, de la más positiva a la menos positiva. Del mismo modo, imprima las columnas que están correlacionadas negativamente, de la más negativa a la menos negativa. (Pista: use el metodo corr()). A partir de las tablas anteriores, ¿qué factores están más correlacionados con el precio (positivo o negativo)? ¿Qué correlaciones son sorprendentes, y qué hipótesis podría explicarlas?"
   ]
  },
  {
   "cell_type": "code",
   "execution_count": 91,
   "metadata": {
    "id": "ugcAqlDdkroE"
   },
   "outputs": [
    {
     "data": {
      "text/html": [
       "<div>\n",
       "<style scoped>\n",
       "    .dataframe tbody tr th:only-of-type {\n",
       "        vertical-align: middle;\n",
       "    }\n",
       "\n",
       "    .dataframe tbody tr th {\n",
       "        vertical-align: top;\n",
       "    }\n",
       "\n",
       "    .dataframe thead th {\n",
       "        text-align: right;\n",
       "    }\n",
       "</style>\n",
       "<table border=\"1\" class=\"dataframe\">\n",
       "  <thead>\n",
       "    <tr style=\"text-align: right;\">\n",
       "      <th></th>\n",
       "      <th>price</th>\n",
       "    </tr>\n",
       "  </thead>\n",
       "  <tbody>\n",
       "    <tr>\n",
       "      <th>id</th>\n",
       "      <td>0.027533</td>\n",
       "    </tr>\n",
       "    <tr>\n",
       "      <th>host_id</th>\n",
       "      <td>0.028931</td>\n",
       "    </tr>\n",
       "    <tr>\n",
       "      <th>host_since</th>\n",
       "      <td>-0.009671</td>\n",
       "    </tr>\n",
       "    <tr>\n",
       "      <th>host_response_rate</th>\n",
       "      <td>0.034280</td>\n",
       "    </tr>\n",
       "    <tr>\n",
       "      <th>host_is_superhost</th>\n",
       "      <td>-0.016325</td>\n",
       "    </tr>\n",
       "  </tbody>\n",
       "</table>\n",
       "</div>"
      ],
      "text/plain": [
       "                       price\n",
       "id                  0.027533\n",
       "host_id             0.028931\n",
       "host_since         -0.009671\n",
       "host_response_rate  0.034280\n",
       "host_is_superhost  -0.016325"
      ]
     },
     "execution_count": 91,
     "metadata": {},
     "output_type": "execute_result"
    }
   ],
   "source": [
    "c = df.corr()\n",
    "df2 = pd.DataFrame(c['price'])\n",
    "df2.head()"
   ]
  },
  {
   "cell_type": "code",
   "execution_count": 100,
   "metadata": {},
   "outputs": [
    {
     "data": {
      "text/html": [
       "<div>\n",
       "<style scoped>\n",
       "    .dataframe tbody tr th:only-of-type {\n",
       "        vertical-align: middle;\n",
       "    }\n",
       "\n",
       "    .dataframe tbody tr th {\n",
       "        vertical-align: top;\n",
       "    }\n",
       "\n",
       "    .dataframe thead th {\n",
       "        text-align: right;\n",
       "    }\n",
       "</style>\n",
       "<table border=\"1\" class=\"dataframe\">\n",
       "  <thead>\n",
       "    <tr style=\"text-align: right;\">\n",
       "      <th></th>\n",
       "      <th>price</th>\n",
       "    </tr>\n",
       "  </thead>\n",
       "  <tbody>\n",
       "    <tr>\n",
       "      <th>price</th>\n",
       "      <td>1.000000</td>\n",
       "    </tr>\n",
       "    <tr>\n",
       "      <th>accommodates</th>\n",
       "      <td>0.571541</td>\n",
       "    </tr>\n",
       "    <tr>\n",
       "      <th>bedrooms</th>\n",
       "      <td>0.454539</td>\n",
       "    </tr>\n",
       "    <tr>\n",
       "      <th>beds</th>\n",
       "      <td>0.421355</td>\n",
       "    </tr>\n",
       "    <tr>\n",
       "      <th>guests_included</th>\n",
       "      <td>0.321970</td>\n",
       "    </tr>\n",
       "    <tr>\n",
       "      <th>tv</th>\n",
       "      <td>0.271563</td>\n",
       "    </tr>\n",
       "    <tr>\n",
       "      <th>elevator</th>\n",
       "      <td>0.229610</td>\n",
       "    </tr>\n",
       "    <tr>\n",
       "      <th>calculated_host_listings_count_entire_homes</th>\n",
       "      <td>0.218890</td>\n",
       "    </tr>\n",
       "    <tr>\n",
       "      <th>white_goods</th>\n",
       "      <td>0.214283</td>\n",
       "    </tr>\n",
       "    <tr>\n",
       "      <th>gym</th>\n",
       "      <td>0.209892</td>\n",
       "    </tr>\n",
       "    <tr>\n",
       "      <th>child_friendly</th>\n",
       "      <td>0.206189</td>\n",
       "    </tr>\n",
       "    <tr>\n",
       "      <th>air_conditioning</th>\n",
       "      <td>0.196582</td>\n",
       "    </tr>\n",
       "    <tr>\n",
       "      <th>host_listings_count</th>\n",
       "      <td>0.194891</td>\n",
       "    </tr>\n",
       "    <tr>\n",
       "      <th>calculated_host_listings_count</th>\n",
       "      <td>0.185098</td>\n",
       "    </tr>\n",
       "    <tr>\n",
       "      <th>bathrooms</th>\n",
       "      <td>0.163276</td>\n",
       "    </tr>\n",
       "    <tr>\n",
       "      <th>private_entrance</th>\n",
       "      <td>0.146453</td>\n",
       "    </tr>\n",
       "    <tr>\n",
       "      <th>review_scores_location</th>\n",
       "      <td>0.140308</td>\n",
       "    </tr>\n",
       "    <tr>\n",
       "      <th>coffee_machine</th>\n",
       "      <td>0.133457</td>\n",
       "    </tr>\n",
       "    <tr>\n",
       "      <th>availability_365</th>\n",
       "      <td>0.118864</td>\n",
       "    </tr>\n",
       "    <tr>\n",
       "      <th>bbq</th>\n",
       "      <td>0.110258</td>\n",
       "    </tr>\n",
       "    <tr>\n",
       "      <th>self_check_in</th>\n",
       "      <td>0.108914</td>\n",
       "    </tr>\n",
       "    <tr>\n",
       "      <th>bed_linen</th>\n",
       "      <td>0.105295</td>\n",
       "    </tr>\n",
       "    <tr>\n",
       "      <th>availability_60</th>\n",
       "      <td>0.099858</td>\n",
       "    </tr>\n",
       "    <tr>\n",
       "      <th>long_term_stays</th>\n",
       "      <td>0.096381</td>\n",
       "    </tr>\n",
       "    <tr>\n",
       "      <th>review_scores_cleanliness</th>\n",
       "      <td>0.095329</td>\n",
       "    </tr>\n",
       "    <tr>\n",
       "      <th>availability_90</th>\n",
       "      <td>0.093483</td>\n",
       "    </tr>\n",
       "    <tr>\n",
       "      <th>cooking_basics</th>\n",
       "      <td>0.087954</td>\n",
       "    </tr>\n",
       "    <tr>\n",
       "      <th>latitude</th>\n",
       "      <td>0.079542</td>\n",
       "    </tr>\n",
       "    <tr>\n",
       "      <th>balcony</th>\n",
       "      <td>0.079413</td>\n",
       "    </tr>\n",
       "    <tr>\n",
       "      <th>extra_people</th>\n",
       "      <td>0.075439</td>\n",
       "    </tr>\n",
       "    <tr>\n",
       "      <th>availability_30</th>\n",
       "      <td>0.075208</td>\n",
       "    </tr>\n",
       "    <tr>\n",
       "      <th>pets_allowed</th>\n",
       "      <td>0.070507</td>\n",
       "    </tr>\n",
       "    <tr>\n",
       "      <th>hot_tub_sauna_or_pool</th>\n",
       "      <td>0.064996</td>\n",
       "    </tr>\n",
       "    <tr>\n",
       "      <th>review_scores_rating</th>\n",
       "      <td>0.064228</td>\n",
       "    </tr>\n",
       "    <tr>\n",
       "      <th>reviews_per_month</th>\n",
       "      <td>0.063172</td>\n",
       "    </tr>\n",
       "    <tr>\n",
       "      <th>check_in_24h</th>\n",
       "      <td>0.053180</td>\n",
       "    </tr>\n",
       "    <tr>\n",
       "      <th>minimum_nights</th>\n",
       "      <td>0.048627</td>\n",
       "    </tr>\n",
       "    <tr>\n",
       "      <th>outdoor_space</th>\n",
       "      <td>0.046216</td>\n",
       "    </tr>\n",
       "    <tr>\n",
       "      <th>accessible</th>\n",
       "      <td>0.038301</td>\n",
       "    </tr>\n",
       "    <tr>\n",
       "      <th>host_response_rate</th>\n",
       "      <td>0.034280</td>\n",
       "    </tr>\n",
       "    <tr>\n",
       "      <th>review_scores_accuracy</th>\n",
       "      <td>0.033125</td>\n",
       "    </tr>\n",
       "    <tr>\n",
       "      <th>host_id</th>\n",
       "      <td>0.028931</td>\n",
       "    </tr>\n",
       "    <tr>\n",
       "      <th>high_end_electronics</th>\n",
       "      <td>0.027578</td>\n",
       "    </tr>\n",
       "    <tr>\n",
       "      <th>id</th>\n",
       "      <td>0.027533</td>\n",
       "    </tr>\n",
       "    <tr>\n",
       "      <th>instant_bookable</th>\n",
       "      <td>0.024415</td>\n",
       "    </tr>\n",
       "    <tr>\n",
       "      <th>internet</th>\n",
       "      <td>0.024220</td>\n",
       "    </tr>\n",
       "    <tr>\n",
       "      <th>secure</th>\n",
       "      <td>0.019678</td>\n",
       "    </tr>\n",
       "    <tr>\n",
       "      <th>review_scores_communication</th>\n",
       "      <td>0.017169</td>\n",
       "    </tr>\n",
       "    <tr>\n",
       "      <th>review_scores_checkin</th>\n",
       "      <td>0.014043</td>\n",
       "    </tr>\n",
       "    <tr>\n",
       "      <th>event_suitable</th>\n",
       "      <td>0.012606</td>\n",
       "    </tr>\n",
       "    <tr>\n",
       "      <th>breakfast</th>\n",
       "      <td>0.007514</td>\n",
       "    </tr>\n",
       "    <tr>\n",
       "      <th>nature_and_views</th>\n",
       "      <td>0.000173</td>\n",
       "    </tr>\n",
       "  </tbody>\n",
       "</table>\n",
       "</div>"
      ],
      "text/plain": [
       "                                                price\n",
       "price                                        1.000000\n",
       "accommodates                                 0.571541\n",
       "bedrooms                                     0.454539\n",
       "beds                                         0.421355\n",
       "guests_included                              0.321970\n",
       "tv                                           0.271563\n",
       "elevator                                     0.229610\n",
       "calculated_host_listings_count_entire_homes  0.218890\n",
       "white_goods                                  0.214283\n",
       "gym                                          0.209892\n",
       "child_friendly                               0.206189\n",
       "air_conditioning                             0.196582\n",
       "host_listings_count                          0.194891\n",
       "calculated_host_listings_count               0.185098\n",
       "bathrooms                                    0.163276\n",
       "private_entrance                             0.146453\n",
       "review_scores_location                       0.140308\n",
       "coffee_machine                               0.133457\n",
       "availability_365                             0.118864\n",
       "bbq                                          0.110258\n",
       "self_check_in                                0.108914\n",
       "bed_linen                                    0.105295\n",
       "availability_60                              0.099858\n",
       "long_term_stays                              0.096381\n",
       "review_scores_cleanliness                    0.095329\n",
       "availability_90                              0.093483\n",
       "cooking_basics                               0.087954\n",
       "latitude                                     0.079542\n",
       "balcony                                      0.079413\n",
       "extra_people                                 0.075439\n",
       "availability_30                              0.075208\n",
       "pets_allowed                                 0.070507\n",
       "hot_tub_sauna_or_pool                        0.064996\n",
       "review_scores_rating                         0.064228\n",
       "reviews_per_month                            0.063172\n",
       "check_in_24h                                 0.053180\n",
       "minimum_nights                               0.048627\n",
       "outdoor_space                                0.046216\n",
       "accessible                                   0.038301\n",
       "host_response_rate                           0.034280\n",
       "review_scores_accuracy                       0.033125\n",
       "host_id                                      0.028931\n",
       "high_end_electronics                         0.027578\n",
       "id                                           0.027533\n",
       "instant_bookable                             0.024415\n",
       "internet                                     0.024220\n",
       "secure                                       0.019678\n",
       "review_scores_communication                  0.017169\n",
       "review_scores_checkin                        0.014043\n",
       "event_suitable                               0.012606\n",
       "breakfast                                    0.007514\n",
       "nature_and_views                             0.000173"
      ]
     },
     "execution_count": 100,
     "metadata": {},
     "output_type": "execute_result"
    }
   ],
   "source": [
    "positivos = df2[(df2['price'] >0)].sort_values('price',ascending=False)\n",
    "positivos"
   ]
  },
  {
   "cell_type": "code",
   "execution_count": 101,
   "metadata": {},
   "outputs": [
    {
     "data": {
      "text/html": [
       "<div>\n",
       "<style scoped>\n",
       "    .dataframe tbody tr th:only-of-type {\n",
       "        vertical-align: middle;\n",
       "    }\n",
       "\n",
       "    .dataframe tbody tr th {\n",
       "        vertical-align: top;\n",
       "    }\n",
       "\n",
       "    .dataframe thead th {\n",
       "        text-align: right;\n",
       "    }\n",
       "</style>\n",
       "<table border=\"1\" class=\"dataframe\">\n",
       "  <thead>\n",
       "    <tr style=\"text-align: right;\">\n",
       "      <th></th>\n",
       "      <th>price</th>\n",
       "    </tr>\n",
       "  </thead>\n",
       "  <tbody>\n",
       "    <tr>\n",
       "      <th>longitude</th>\n",
       "      <td>-0.294196</td>\n",
       "    </tr>\n",
       "    <tr>\n",
       "      <th>calculated_host_listings_count_private_rooms</th>\n",
       "      <td>-0.127504</td>\n",
       "    </tr>\n",
       "    <tr>\n",
       "      <th>calculated_host_listings_count_shared_rooms</th>\n",
       "      <td>-0.101389</td>\n",
       "    </tr>\n",
       "    <tr>\n",
       "      <th>smoking_allowed</th>\n",
       "      <td>-0.054131</td>\n",
       "    </tr>\n",
       "    <tr>\n",
       "      <th>host_greeting</th>\n",
       "      <td>-0.051356</td>\n",
       "    </tr>\n",
       "    <tr>\n",
       "      <th>number_of_reviews</th>\n",
       "      <td>-0.029229</td>\n",
       "    </tr>\n",
       "    <tr>\n",
       "      <th>host_identity_verified</th>\n",
       "      <td>-0.022861</td>\n",
       "    </tr>\n",
       "    <tr>\n",
       "      <th>parking</th>\n",
       "      <td>-0.019383</td>\n",
       "    </tr>\n",
       "    <tr>\n",
       "      <th>host_is_superhost</th>\n",
       "      <td>-0.016325</td>\n",
       "    </tr>\n",
       "    <tr>\n",
       "      <th>number_of_reviews_ltm</th>\n",
       "      <td>-0.011481</td>\n",
       "    </tr>\n",
       "    <tr>\n",
       "      <th>host_since</th>\n",
       "      <td>-0.009671</td>\n",
       "    </tr>\n",
       "    <tr>\n",
       "      <th>review_scores_value</th>\n",
       "      <td>-0.005942</td>\n",
       "    </tr>\n",
       "  </tbody>\n",
       "</table>\n",
       "</div>"
      ],
      "text/plain": [
       "                                                 price\n",
       "longitude                                    -0.294196\n",
       "calculated_host_listings_count_private_rooms -0.127504\n",
       "calculated_host_listings_count_shared_rooms  -0.101389\n",
       "smoking_allowed                              -0.054131\n",
       "host_greeting                                -0.051356\n",
       "number_of_reviews                            -0.029229\n",
       "host_identity_verified                       -0.022861\n",
       "parking                                      -0.019383\n",
       "host_is_superhost                            -0.016325\n",
       "number_of_reviews_ltm                        -0.011481\n",
       "host_since                                   -0.009671\n",
       "review_scores_value                          -0.005942"
      ]
     },
     "execution_count": 101,
     "metadata": {},
     "output_type": "execute_result"
    }
   ],
   "source": [
    "negativos = df2[(df2['price'] <0)].sort_values('price',ascending=True)\n",
    "negativos"
   ]
  },
  {
   "cell_type": "markdown",
   "metadata": {
    "id": "SJWgH6LllO-e"
   },
   "source": [
    "R/"
   ]
  },
  {
   "cell_type": "markdown",
   "metadata": {
    "id": "C0hSMpeJnB69"
   },
   "source": [
    "### Mas herramientas para visualización. Mapas!"
   ]
  },
  {
   "cell_type": "markdown",
   "metadata": {
    "id": "kKn8U1xjnNM3"
   },
   "source": [
    "Creemos un mapa interactivo para visualizar nuestros datos ya que tenemos lat y long. Como nuestros datos son de NY podemos situarnos allí"
   ]
  },
  {
   "cell_type": "code",
   "execution_count": 102,
   "metadata": {
    "id": "LiCBbEYbmv9S"
   },
   "outputs": [
    {
     "data": {
      "text/html": [
       "<div style=\"width:100%;\"><div style=\"position:relative;width:100%;height:0;padding-bottom:60%;\"><span style=\"color:#565656\">Make this Notebook Trusted to load map: File -> Trust Notebook</span><iframe srcdoc=\"&lt;!DOCTYPE html&gt;\n",
       "&lt;head&gt;    \n",
       "    &lt;meta http-equiv=&quot;content-type&quot; content=&quot;text/html; charset=UTF-8&quot; /&gt;\n",
       "    \n",
       "        &lt;script&gt;\n",
       "            L_NO_TOUCH = false;\n",
       "            L_DISABLE_3D = false;\n",
       "        &lt;/script&gt;\n",
       "    \n",
       "    &lt;style&gt;html, body {width: 100%;height: 100%;margin: 0;padding: 0;}&lt;/style&gt;\n",
       "    &lt;style&gt;#map {position:absolute;top:0;bottom:0;right:0;left:0;}&lt;/style&gt;\n",
       "    &lt;script src=&quot;https://cdn.jsdelivr.net/npm/leaflet@1.6.0/dist/leaflet.js&quot;&gt;&lt;/script&gt;\n",
       "    &lt;script src=&quot;https://code.jquery.com/jquery-1.12.4.min.js&quot;&gt;&lt;/script&gt;\n",
       "    &lt;script src=&quot;https://maxcdn.bootstrapcdn.com/bootstrap/3.2.0/js/bootstrap.min.js&quot;&gt;&lt;/script&gt;\n",
       "    &lt;script src=&quot;https://cdnjs.cloudflare.com/ajax/libs/Leaflet.awesome-markers/2.0.2/leaflet.awesome-markers.js&quot;&gt;&lt;/script&gt;\n",
       "    &lt;link rel=&quot;stylesheet&quot; href=&quot;https://cdn.jsdelivr.net/npm/leaflet@1.6.0/dist/leaflet.css&quot;/&gt;\n",
       "    &lt;link rel=&quot;stylesheet&quot; href=&quot;https://maxcdn.bootstrapcdn.com/bootstrap/3.2.0/css/bootstrap.min.css&quot;/&gt;\n",
       "    &lt;link rel=&quot;stylesheet&quot; href=&quot;https://maxcdn.bootstrapcdn.com/bootstrap/3.2.0/css/bootstrap-theme.min.css&quot;/&gt;\n",
       "    &lt;link rel=&quot;stylesheet&quot; href=&quot;https://maxcdn.bootstrapcdn.com/font-awesome/4.6.3/css/font-awesome.min.css&quot;/&gt;\n",
       "    &lt;link rel=&quot;stylesheet&quot; href=&quot;https://cdnjs.cloudflare.com/ajax/libs/Leaflet.awesome-markers/2.0.2/leaflet.awesome-markers.css&quot;/&gt;\n",
       "    &lt;link rel=&quot;stylesheet&quot; href=&quot;https://cdn.jsdelivr.net/gh/python-visualization/folium/folium/templates/leaflet.awesome.rotate.min.css&quot;/&gt;\n",
       "    \n",
       "            &lt;meta name=&quot;viewport&quot; content=&quot;width=device-width,\n",
       "                initial-scale=1.0, maximum-scale=1.0, user-scalable=no&quot; /&gt;\n",
       "            &lt;style&gt;\n",
       "                #map_5c45785cde5c777176232f69fdc87907 {\n",
       "                    position: relative;\n",
       "                    width: 100.0%;\n",
       "                    height: 100.0%;\n",
       "                    left: 0.0%;\n",
       "                    top: 0.0%;\n",
       "                }\n",
       "            &lt;/style&gt;\n",
       "        \n",
       "&lt;/head&gt;\n",
       "&lt;body&gt;    \n",
       "    \n",
       "            &lt;div class=&quot;folium-map&quot; id=&quot;map_5c45785cde5c777176232f69fdc87907&quot; &gt;&lt;/div&gt;\n",
       "        \n",
       "&lt;/body&gt;\n",
       "&lt;script&gt;    \n",
       "    \n",
       "            var map_5c45785cde5c777176232f69fdc87907 = L.map(\n",
       "                &quot;map_5c45785cde5c777176232f69fdc87907&quot;,\n",
       "                {\n",
       "                    center: [40.738, -73.98],\n",
       "                    crs: L.CRS.EPSG3857,\n",
       "                    zoom: 13,\n",
       "                    zoomControl: true,\n",
       "                    preferCanvas: false,\n",
       "                }\n",
       "            );\n",
       "\n",
       "            \n",
       "\n",
       "        \n",
       "    \n",
       "            var tile_layer_84eec7597b0ab80a4396c470eac87859 = L.tileLayer(\n",
       "                &quot;https://{s}.tile.openstreetmap.org/{z}/{x}/{y}.png&quot;,\n",
       "                {&quot;attribution&quot;: &quot;Data by \\u0026copy; \\u003ca href=\\&quot;http://openstreetmap.org\\&quot;\\u003eOpenStreetMap\\u003c/a\\u003e, under \\u003ca href=\\&quot;http://www.openstreetmap.org/copyright\\&quot;\\u003eODbL\\u003c/a\\u003e.&quot;, &quot;detectRetina&quot;: false, &quot;maxNativeZoom&quot;: 18, &quot;maxZoom&quot;: 18, &quot;minZoom&quot;: 0, &quot;noWrap&quot;: false, &quot;opacity&quot;: 1, &quot;subdomains&quot;: &quot;abc&quot;, &quot;tms&quot;: false}\n",
       "            ).addTo(map_5c45785cde5c777176232f69fdc87907);\n",
       "        \n",
       "&lt;/script&gt;\" style=\"position:absolute;width:100%;height:100%;left:0;top:0;border:none !important;\" allowfullscreen webkitallowfullscreen mozallowfullscreen></iframe></div></div>"
      ],
      "text/plain": [
       "<folium.folium.Map at 0x29ccffdc5b0>"
      ]
     },
     "execution_count": 102,
     "metadata": {},
     "output_type": "execute_result"
    }
   ],
   "source": [
    "ny_coords = [40.738, -73.98] # lat, long\n",
    "folium_map = folium.Map(location=ny_coords,zoom_start=13)\n",
    "folium_map"
   ]
  },
  {
   "cell_type": "markdown",
   "metadata": {
    "id": "KXJQsjXuoPrj"
   },
   "source": [
    "Con la función zip podemos concatener las coordenadas junto con el precio de la vivienda para luego crear una lista. Nota: reemplazar data con el nombre de su dataframe"
   ]
  },
  {
   "cell_type": "code",
   "execution_count": 103,
   "metadata": {
    "id": "zfs13HScnSTQ"
   },
   "outputs": [
    {
     "data": {
      "text/plain": [
       "[(40.64749, -73.97237, 149),\n",
       " (40.80902, -73.9419, 150),\n",
       " (40.79685, -73.94872, 190),\n",
       " (40.65599, -73.97519, 60),\n",
       " (40.86754, -73.92639, 80),\n",
       " (40.63702, -73.96327, 150),\n",
       " (40.66278, -73.97966, 120),\n",
       " (40.65944, -73.96238, 150),\n",
       " (40.68554, -73.9409, 115),\n",
       " (40.73961, -73.98074, 200),\n",
       " (40.72004, -73.99104, 110),\n",
       " (40.6734299999999, -73.98338, 225),\n",
       " (40.65401, -73.96323, 130),\n",
       " (40.72912, -73.98057, 50),\n",
       " (40.68634, -73.966, 98)]"
      ]
     },
     "execution_count": 103,
     "metadata": {},
     "output_type": "execute_result"
    }
   ],
   "source": [
    "my_zip = zip(data['latitude'], data['longitude'], data['price'])\n",
    "list_of_my_zip = list(my_zip)\n",
    "list_of_my_zip[0:15]"
   ]
  },
  {
   "cell_type": "markdown",
   "metadata": {
    "id": "j0zGsMUioo0s"
   },
   "source": [
    "Finalmente crearemos un mapa de calor HeatMap, que nos ayudará a visualizar donde están las más costosas"
   ]
  },
  {
   "cell_type": "code",
   "execution_count": 106,
   "metadata": {
    "id": "2261_k73ow_g"
   },
   "outputs": [],
   "source": [
    "hm_layer = HeatMap(list_of_my_zip,\n",
    "                   min_opacity=0.2,\n",
    "                   radius=8,\n",
    "                   blur=6, \n",
    "                 )"
   ]
  },
  {
   "cell_type": "markdown",
   "metadata": {
    "id": "46RFTTLPo31s"
   },
   "source": [
    "Finalmente lo añadimos..."
   ]
  },
  {
   "cell_type": "code",
   "execution_count": 107,
   "metadata": {
    "id": "0wudIUoko3a0"
   },
   "outputs": [
    {
     "ename": "NameError",
     "evalue": "name 'folium_hmap' is not defined",
     "output_type": "error",
     "traceback": [
      "\u001b[1;31m---------------------------------------------------------------------------\u001b[0m",
      "\u001b[1;31mNameError\u001b[0m                                 Traceback (most recent call last)",
      "\u001b[1;32mC:\\Users\\SEBAST~1.GIR\\AppData\\Local\\Temp/ipykernel_9184/4201032395.py\u001b[0m in \u001b[0;36m<module>\u001b[1;34m\u001b[0m\n\u001b[1;32m----> 1\u001b[1;33m \u001b[0mfolium_hmap\u001b[0m\u001b[1;33m.\u001b[0m\u001b[0madd_child\u001b[0m\u001b[1;33m(\u001b[0m\u001b[0mhm_layer\u001b[0m\u001b[1;33m)\u001b[0m\u001b[1;33m\u001b[0m\u001b[1;33m\u001b[0m\u001b[0m\n\u001b[0m\u001b[0;32m      2\u001b[0m \u001b[0mfolium_hmap\u001b[0m\u001b[1;33m\u001b[0m\u001b[1;33m\u001b[0m\u001b[0m\n",
      "\u001b[1;31mNameError\u001b[0m: name 'folium_hmap' is not defined"
     ]
    }
   ],
   "source": [
    "folium_hmap.add_child(hm_layer)\n",
    "folium_hmap"
   ]
  },
  {
   "cell_type": "markdown",
   "metadata": {
    "id": "DF5r5fiXpTv8"
   },
   "source": [
    "6. Nombre los lugares de NY dondee son más caros y menos caros"
   ]
  },
  {
   "cell_type": "markdown",
   "metadata": {
    "id": "rhnJwKNpplFJ"
   },
   "source": [
    "R/"
   ]
  },
  {
   "cell_type": "markdown",
   "metadata": {
    "id": "UXTCzal5pmKx"
   },
   "source": [
    "7. Realizar los mismo que lo anterior pero ahora con review_score_rating en lugar de price. Nota: debes eliminar los NA's, asegurate de crear una copia de tu dataset original con el comando: data.copy() para evitar modificar el original "
   ]
  },
  {
   "cell_type": "code",
   "execution_count": null,
   "metadata": {
    "id": "o_AF27R1pkqr"
   },
   "outputs": [],
   "source": []
  }
 ],
 "metadata": {
  "colab": {
   "collapsed_sections": [],
   "name": "EDA Caso Airbnb.ipynb",
   "provenance": []
  },
  "kernelspec": {
   "display_name": "Python 3 (ipykernel)",
   "language": "python",
   "name": "python3"
  },
  "language_info": {
   "codemirror_mode": {
    "name": "ipython",
    "version": 3
   },
   "file_extension": ".py",
   "mimetype": "text/x-python",
   "name": "python",
   "nbconvert_exporter": "python",
   "pygments_lexer": "ipython3",
   "version": "3.9.7"
  }
 },
 "nbformat": 4,
 "nbformat_minor": 1
}
