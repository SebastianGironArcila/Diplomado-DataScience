{
 "cells": [
  {
   "cell_type": "markdown",
   "metadata": {
    "id": "7LfZ1LEdmIx2"
   },
   "source": [
    "# Naïve Bayes: Iris"
   ]
  },
  {
   "cell_type": "markdown",
   "metadata": {
    "id": "ElydP7EEmIx5"
   },
   "source": [
    "Vamos a crear un modelo de clasificación con Naïve Bayes para el dataset de Iris."
   ]
  },
  {
   "cell_type": "markdown",
   "metadata": {
    "id": "uIf9mb2PmIx6"
   },
   "source": [
    "Importamos las librerías que vamos a utilizar"
   ]
  },
  {
   "cell_type": "code",
   "execution_count": 4,
   "metadata": {
    "id": "oRUiyhlOmIx6"
   },
   "outputs": [],
   "source": [
    "import numpy as np #operaciones matriciales y con vectores\n",
    "import pandas as pd #tratamiento de datos\n",
    "import matplotlib.pyplot as plt #gráficos\n",
    "from sklearn import naive_bayes, neighbors, datasets, metrics\n",
    "from sklearn.model_selection import train_test_split #metodo de particionamiento de datasets para evaluación\n",
    "from sklearn.model_selection import cross_val_score, cross_validate #método para evaluar varios particionamientos de C-V\n",
    "from sklearn.model_selection import KFold, StratifiedKFold, RepeatedKFold, LeaveOneOut #Iteradores de C-V\n",
    "import seaborn as sns\n"
   ]
  },
  {
   "cell_type": "markdown",
   "metadata": {
    "id": "0PbOhoFDmIx7"
   },
   "source": [
    "## Preparación de los datos"
   ]
  },
  {
   "cell_type": "markdown",
   "metadata": {
    "id": "IzsfAVxcmIx7"
   },
   "source": [
    "Cargamos los datos y creamos una sola estructura con todos los datos para poder visualizarlos más fácilmente"
   ]
  },
  {
   "cell_type": "code",
   "execution_count": 5,
   "metadata": {
    "id": "AyIH3THEmIx8"
   },
   "outputs": [],
   "source": [
    "iris = pd.read_csv('iris.csv')"
   ]
  },
  {
   "cell_type": "code",
   "execution_count": 6,
   "metadata": {
    "colab": {
     "base_uri": "https://localhost:8080/",
     "height": 206
    },
    "id": "5c_gTQ8Dn1NU",
    "outputId": "f86008fb-11d7-4d1c-e93f-94119bdfa959"
   },
   "outputs": [
    {
     "data": {
      "text/html": [
       "<div>\n",
       "<style scoped>\n",
       "    .dataframe tbody tr th:only-of-type {\n",
       "        vertical-align: middle;\n",
       "    }\n",
       "\n",
       "    .dataframe tbody tr th {\n",
       "        vertical-align: top;\n",
       "    }\n",
       "\n",
       "    .dataframe thead th {\n",
       "        text-align: right;\n",
       "    }\n",
       "</style>\n",
       "<table border=\"1\" class=\"dataframe\">\n",
       "  <thead>\n",
       "    <tr style=\"text-align: right;\">\n",
       "      <th></th>\n",
       "      <th>sepal.length</th>\n",
       "      <th>sepal.width</th>\n",
       "      <th>petal.length</th>\n",
       "      <th>petal.width</th>\n",
       "      <th>variety</th>\n",
       "    </tr>\n",
       "  </thead>\n",
       "  <tbody>\n",
       "    <tr>\n",
       "      <th>0</th>\n",
       "      <td>5.1</td>\n",
       "      <td>3.5</td>\n",
       "      <td>1.4</td>\n",
       "      <td>0.2</td>\n",
       "      <td>Setosa</td>\n",
       "    </tr>\n",
       "    <tr>\n",
       "      <th>1</th>\n",
       "      <td>4.9</td>\n",
       "      <td>3.0</td>\n",
       "      <td>1.4</td>\n",
       "      <td>0.2</td>\n",
       "      <td>Setosa</td>\n",
       "    </tr>\n",
       "    <tr>\n",
       "      <th>2</th>\n",
       "      <td>4.7</td>\n",
       "      <td>3.2</td>\n",
       "      <td>1.3</td>\n",
       "      <td>0.2</td>\n",
       "      <td>Setosa</td>\n",
       "    </tr>\n",
       "    <tr>\n",
       "      <th>3</th>\n",
       "      <td>4.6</td>\n",
       "      <td>3.1</td>\n",
       "      <td>1.5</td>\n",
       "      <td>0.2</td>\n",
       "      <td>Setosa</td>\n",
       "    </tr>\n",
       "    <tr>\n",
       "      <th>4</th>\n",
       "      <td>5.0</td>\n",
       "      <td>3.6</td>\n",
       "      <td>1.4</td>\n",
       "      <td>0.2</td>\n",
       "      <td>Setosa</td>\n",
       "    </tr>\n",
       "  </tbody>\n",
       "</table>\n",
       "</div>"
      ],
      "text/plain": [
       "   sepal.length  sepal.width  petal.length  petal.width variety\n",
       "0           5.1          3.5           1.4          0.2  Setosa\n",
       "1           4.9          3.0           1.4          0.2  Setosa\n",
       "2           4.7          3.2           1.3          0.2  Setosa\n",
       "3           4.6          3.1           1.5          0.2  Setosa\n",
       "4           5.0          3.6           1.4          0.2  Setosa"
      ]
     },
     "execution_count": 6,
     "metadata": {},
     "output_type": "execute_result"
    }
   ],
   "source": [
    "iris.head()"
   ]
  },
  {
   "cell_type": "markdown",
   "metadata": {
    "id": "NAvSxnQxrf8V"
   },
   "source": [
    "## EDA"
   ]
  },
  {
   "cell_type": "markdown",
   "metadata": {
    "id": "jmRdnpTW1tO2"
   },
   "source": [
    "1. obtenga las estadisticas descriptivas de iris (describe). (Necesitariamos escalar si tuviesemos un algortimo como KNN?)"
   ]
  },
  {
   "cell_type": "code",
   "execution_count": null,
   "metadata": {
    "id": "0tqE-JSori2R"
   },
   "outputs": [],
   "source": [
    "iris.describe()"
   ]
  },
  {
   "cell_type": "markdown",
   "metadata": {
    "id": "6mQeLWA316YM"
   },
   "source": [
    "2. Hay datos duplicados?"
   ]
  },
  {
   "cell_type": "code",
   "execution_count": null,
   "metadata": {
    "id": "mwnJJ3KKrizp"
   },
   "outputs": [],
   "source": []
  },
  {
   "cell_type": "markdown",
   "metadata": {
    "id": "iD3nH-H_2672"
   },
   "source": [
    "3. Cree un grafico de barras donde se muestre el conteo de cada especie"
   ]
  },
  {
   "cell_type": "code",
   "execution_count": null,
   "metadata": {
    "id": "vtS_Z_myrixT"
   },
   "outputs": [],
   "source": []
  },
  {
   "cell_type": "markdown",
   "metadata": {
    "id": "a4jSctjJ3DsH"
   },
   "source": [
    "4. Genere dos scatter plot cuyas x y 'y'son sepal.width, sepal.length y petal.width, petal.length con la dimension target (es decir hue='target). Que diferencias encuentra entre los distintos tipos de especie? "
   ]
  },
  {
   "cell_type": "code",
   "execution_count": null,
   "metadata": {
    "id": "CvGOl0lDriuj"
   },
   "outputs": [],
   "source": []
  },
  {
   "cell_type": "markdown",
   "metadata": {
    "id": "1J1FeHg04n66"
   },
   "source": [
    "5. Cree un heatmap de correlación para todas las variables. Cual es la mas y menos correlacionada?"
   ]
  },
  {
   "cell_type": "code",
   "execution_count": null,
   "metadata": {
    "id": "hD_RxcgXrikZ"
   },
   "outputs": [],
   "source": []
  },
  {
   "cell_type": "markdown",
   "metadata": {
    "id": "Oe95Rxbj41Aa"
   },
   "source": [
    "6. Cree un diagrama de cajas y bigotes donde las x sean las especies y la y sean todas las variables. Nuestro propósito es analizar las distribuciones, que puede decir sobre ellas en cada variables con respecto a las distintas especies?"
   ]
  },
  {
   "cell_type": "code",
   "execution_count": null,
   "metadata": {
    "id": "72ojy7xx40wN"
   },
   "outputs": [],
   "source": [
    "#pista para hacer varios boxplot en cuadrilla\n",
    "#fig, axes = plt.subplots(2, 2, figsize=(16,9))\n",
    "#sns.boxplot(x=\"Species\", y=\"PetalWidthCm\", data=iris_data, orient=\"v\", ax=axes[0,0])"
   ]
  },
  {
   "cell_type": "markdown",
   "metadata": {
    "id": "YwtJhEyu5vT1"
   },
   "source": [
    "7. Cree un kdplot y grafique las variables discriminando por especie (hue). Son diferentes las distribuciones?"
   ]
  },
  {
   "cell_type": "code",
   "execution_count": null,
   "metadata": {
    "id": "7in8YgCGgr_C"
   },
   "outputs": [],
   "source": []
  },
  {
   "cell_type": "markdown",
   "metadata": {
    "id": "0l_ixyNNmIx9"
   },
   "source": [
    "## Clasificación a partir de Naïve Bayes"
   ]
  },
  {
   "cell_type": "markdown",
   "metadata": {
    "id": "uKL-LBQOmIx9"
   },
   "source": [
    "Vamos a utilizar un clasificador [Naïve Bayes](https://scikit-learn.org/stable/modules/naive_bayes.html#gaussian-naive-bayes) que supone una distribución Gaussiana de los datos numéricos, ya que los valores de las variables independientes son continuos."
   ]
  },
  {
   "cell_type": "markdown",
   "metadata": {
    "id": "nfACOA1hi6zK"
   },
   "source": [
    "8. Entrene un modelo de Naive Bayes, recuerde realizar el particionamiento con metodo train_test_split. Luego imprima el reporte de clasificación (classification report) visto en talleres anteriores."
   ]
  },
  {
   "cell_type": "code",
   "execution_count": null,
   "metadata": {
    "id": "5hG9UN6EmIx-"
   },
   "outputs": [],
   "source": [
    "# pista\n",
    "#gnb = naive_bayes.GaussianNB()\n",
    "#modeloGNB = gnb.fit(X, y)"
   ]
  },
  {
   "cell_type": "markdown",
   "metadata": {
    "id": "STcaMhnwpyD7"
   },
   "source": [
    "9. Entrene un modelo de Logistic Regression, recuerde realizar el particionamiento con metodo train_test_split. Luego imprima el reporte de clasificación (classification report) visto en talleres anteriores."
   ]
  },
  {
   "cell_type": "code",
   "execution_count": null,
   "metadata": {
    "id": "ZNLs149Npxxl"
   },
   "outputs": [],
   "source": []
  },
  {
   "cell_type": "markdown",
   "metadata": {
    "id": "g3GEQh9vp3ai"
   },
   "source": [
    "10. Entrene un modelo de KNN, recuerde realizar el particionamiento con metodo train_test_split. Es necesario estandarizar los datos? Luego imprima el reporte de clasificación (classification report) visto en talleres anteriores. Trate de buscar el mejor k..."
   ]
  },
  {
   "cell_type": "code",
   "execution_count": null,
   "metadata": {
    "id": "nYMDGoNGpG7Q"
   },
   "outputs": [],
   "source": []
  },
  {
   "cell_type": "markdown",
   "metadata": {
    "id": "wHPwDRIMqd0i"
   },
   "source": [
    "11. Realice un barplot cuyos ejes x sean los modelos y y el accuracy de estods mismos"
   ]
  },
  {
   "cell_type": "code",
   "execution_count": null,
   "metadata": {
    "id": "OSDyXN58pG4L"
   },
   "outputs": [],
   "source": []
  },
  {
   "cell_type": "markdown",
   "metadata": {
    "id": "xR_xolR1qkvT"
   },
   "source": [
    "12. Cuál cree que es el mejor modelo? Por qué?"
   ]
  },
  {
   "cell_type": "markdown",
   "metadata": {
    "id": "CkYzZryWqrhw"
   },
   "source": [
    "R/"
   ]
  },
  {
   "cell_type": "markdown",
   "metadata": {
    "id": "LZXdIftytDYI"
   },
   "source": [
    "13. Dado el caso que hayan modelos empatados, podemos utilizar CV para realizar un desempate (y que nuestro dataset es pequeño). Para los modelos que estuvieron muy cerca utilice CV con la metrica accuracy y saque el promedio para comaparar"
   ]
  },
  {
   "cell_type": "code",
   "execution_count": 45,
   "metadata": {
    "id": "BCrkiqIlpG1I"
   },
   "outputs": [],
   "source": [
    "#Pista\n",
    "#https://scikit-learn.org/stable/modules/generated/sklearn.model_selection.cross_val_score.html#sklearn.model_selection.cross_val_score\n",
    "#from sklearn.model_selection import cross_val_score\n",
    "#print(cross_val_score(modelo, X, y, cv=10))\n",
    "# modelo es nuestro modelo entrenado\n",
    "# X y y son el dataset completo (sin hacer split), ya que cross_val_score lo hace por nosotros\n"
   ]
  },
  {
   "cell_type": "code",
   "execution_count": null,
   "metadata": {
    "id": "l85JCpM-pGuK"
   },
   "outputs": [],
   "source": []
  }
 ],
 "metadata": {
  "colab": {
   "collapsed_sections": [],
   "name": "NaiveBayes ESTUD.ipynb",
   "provenance": []
  },
  "kernelspec": {
   "display_name": "Python 3 (ipykernel)",
   "language": "python",
   "name": "python3"
  },
  "language_info": {
   "codemirror_mode": {
    "name": "ipython",
    "version": 3
   },
   "file_extension": ".py",
   "mimetype": "text/x-python",
   "name": "python",
   "nbconvert_exporter": "python",
   "pygments_lexer": "ipython3",
   "version": "3.9.7"
  }
 },
 "nbformat": 4,
 "nbformat_minor": 1
}
