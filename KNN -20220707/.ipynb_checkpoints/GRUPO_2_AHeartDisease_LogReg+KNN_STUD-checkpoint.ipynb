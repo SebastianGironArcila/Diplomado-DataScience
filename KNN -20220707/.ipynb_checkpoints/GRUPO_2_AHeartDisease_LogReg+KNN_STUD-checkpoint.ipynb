{
 "cells": [
  {
   "cell_type": "markdown",
   "id": "286f0a51",
   "metadata": {
    "id": "286f0a51"
   },
   "source": [
    "# Taller de supervisado de enfermedades coronarias en Sudáfrica"
   ]
  },
  {
   "cell_type": "markdown",
   "id": "26826763",
   "metadata": {
    "id": "26826763"
   },
   "source": [
    "El objetivo de este taller es tener un acercamiento a los modelos de clasificación de regresión logística y K-NN, utilizando como caso de estudio una población sudafricana con alto riesgo de enfermedad coronaria. El dataset, que en cada registro presenta un individuo hombre, incluye las siguientes variables:"
   ]
  },
  {
   "cell_type": "markdown",
   "id": "0c6059b8",
   "metadata": {
    "id": "0c6059b8"
   },
   "source": [
    "- sbp: presión sanguínea sistólica\n",
    "- tobacco: cantidad de tabaco acumulada (en kg)\n",
    "- ldl: colesterol de lipoproteinas de baja densidad\n",
    "- adiposity: grado de tejido adiposo\n",
    "- famhist: indica si la familia del individuo tiene historia de enfermedades coronarias (“Present”) o no (“Absent”)\n",
    "- typea: comportamiento tipo A\n",
    "- obesidad: grado de obesidad\n",
    "- alcohol: consumo de alcohol actual\n",
    "- age: edad\n",
    "- chd: variable objetivo que indica si el individuo tiene enfermedad coronaria sí (1) o no (0)"
   ]
  },
  {
   "cell_type": "markdown",
   "id": "101ec1d6",
   "metadata": {
    "id": "101ec1d6"
   },
   "source": [
    "# 0. Librerías a importar"
   ]
  },
  {
   "cell_type": "code",
   "execution_count": 1,
   "id": "e1d8baa4",
   "metadata": {
    "id": "e1d8baa4"
   },
   "outputs": [],
   "source": [
    "import numpy as np \n",
    "import pandas as pd \n",
    "import math\n",
    "import matplotlib.pyplot as plt\n",
    "import seaborn as sns\n",
    "import statsmodels.api as sm\n",
    "from sklearn.preprocessing import StandardScaler\n",
    "from sklearn import neighbors, metrics\n",
    "from sklearn.linear_model import LogisticRegression\n",
    "import warnings\n",
    "warnings.filterwarnings('ignore')"
   ]
  },
  {
   "cell_type": "markdown",
   "id": "2730f2ff",
   "metadata": {
    "id": "2730f2ff"
   },
   "source": [
    "# 1. Cargar, explorar y preparar el dataset"
   ]
  },
  {
   "cell_type": "code",
   "execution_count": 2,
   "id": "f74204fc",
   "metadata": {
    "colab": {
     "base_uri": "https://localhost:8080/",
     "height": 206
    },
    "id": "f74204fc",
    "outputId": "d95178fb-934d-46e8-cb4a-40efe33e7e16"
   },
   "outputs": [
    {
     "data": {
      "text/html": [
       "<div>\n",
       "<style scoped>\n",
       "    .dataframe tbody tr th:only-of-type {\n",
       "        vertical-align: middle;\n",
       "    }\n",
       "\n",
       "    .dataframe tbody tr th {\n",
       "        vertical-align: top;\n",
       "    }\n",
       "\n",
       "    .dataframe thead th {\n",
       "        text-align: right;\n",
       "    }\n",
       "</style>\n",
       "<table border=\"1\" class=\"dataframe\">\n",
       "  <thead>\n",
       "    <tr style=\"text-align: right;\">\n",
       "      <th></th>\n",
       "      <th>sbp</th>\n",
       "      <th>tobacco</th>\n",
       "      <th>ldl</th>\n",
       "      <th>adiposity</th>\n",
       "      <th>famhist</th>\n",
       "      <th>typea</th>\n",
       "      <th>obesity</th>\n",
       "      <th>alcohol</th>\n",
       "      <th>age</th>\n",
       "      <th>chd</th>\n",
       "    </tr>\n",
       "  </thead>\n",
       "  <tbody>\n",
       "    <tr>\n",
       "      <th>0</th>\n",
       "      <td>160</td>\n",
       "      <td>12.00</td>\n",
       "      <td>5.73</td>\n",
       "      <td>23.11</td>\n",
       "      <td>Present</td>\n",
       "      <td>49</td>\n",
       "      <td>25.30</td>\n",
       "      <td>97.20</td>\n",
       "      <td>52</td>\n",
       "      <td>Si</td>\n",
       "    </tr>\n",
       "    <tr>\n",
       "      <th>1</th>\n",
       "      <td>144</td>\n",
       "      <td>0.01</td>\n",
       "      <td>4.41</td>\n",
       "      <td>28.61</td>\n",
       "      <td>Absent</td>\n",
       "      <td>55</td>\n",
       "      <td>28.87</td>\n",
       "      <td>2.06</td>\n",
       "      <td>63</td>\n",
       "      <td>Si</td>\n",
       "    </tr>\n",
       "    <tr>\n",
       "      <th>2</th>\n",
       "      <td>118</td>\n",
       "      <td>0.08</td>\n",
       "      <td>3.48</td>\n",
       "      <td>32.28</td>\n",
       "      <td>Present</td>\n",
       "      <td>52</td>\n",
       "      <td>29.14</td>\n",
       "      <td>3.81</td>\n",
       "      <td>46</td>\n",
       "      <td>No</td>\n",
       "    </tr>\n",
       "    <tr>\n",
       "      <th>3</th>\n",
       "      <td>170</td>\n",
       "      <td>7.50</td>\n",
       "      <td>6.41</td>\n",
       "      <td>38.03</td>\n",
       "      <td>Present</td>\n",
       "      <td>51</td>\n",
       "      <td>31.99</td>\n",
       "      <td>24.26</td>\n",
       "      <td>58</td>\n",
       "      <td>Si</td>\n",
       "    </tr>\n",
       "    <tr>\n",
       "      <th>4</th>\n",
       "      <td>134</td>\n",
       "      <td>13.60</td>\n",
       "      <td>3.50</td>\n",
       "      <td>27.78</td>\n",
       "      <td>Present</td>\n",
       "      <td>60</td>\n",
       "      <td>25.99</td>\n",
       "      <td>57.34</td>\n",
       "      <td>49</td>\n",
       "      <td>Si</td>\n",
       "    </tr>\n",
       "  </tbody>\n",
       "</table>\n",
       "</div>"
      ],
      "text/plain": [
       "   sbp  tobacco   ldl  adiposity  famhist  typea  obesity  alcohol  age chd\n",
       "0  160    12.00  5.73      23.11  Present     49    25.30    97.20   52  Si\n",
       "1  144     0.01  4.41      28.61   Absent     55    28.87     2.06   63  Si\n",
       "2  118     0.08  3.48      32.28  Present     52    29.14     3.81   46  No\n",
       "3  170     7.50  6.41      38.03  Present     51    31.99    24.26   58  Si\n",
       "4  134    13.60  3.50      27.78  Present     60    25.99    57.34   49  Si"
      ]
     },
     "execution_count": 2,
     "metadata": {},
     "output_type": "execute_result"
    }
   ],
   "source": [
    "corazon = pd.read_csv('SAheart.csv')\n",
    "corazon.head()"
   ]
  },
  {
   "cell_type": "code",
   "execution_count": 3,
   "id": "451984ea",
   "metadata": {
    "colab": {
     "base_uri": "https://localhost:8080/"
    },
    "id": "451984ea",
    "outputId": "1c71aec2-34fc-41ee-ca1b-5b7e3663d55e"
   },
   "outputs": [
    {
     "name": "stdout",
     "output_type": "stream",
     "text": [
      "<class 'pandas.core.frame.DataFrame'>\n",
      "RangeIndex: 462 entries, 0 to 461\n",
      "Data columns (total 10 columns):\n",
      " #   Column     Non-Null Count  Dtype  \n",
      "---  ------     --------------  -----  \n",
      " 0   sbp        462 non-null    int64  \n",
      " 1   tobacco    462 non-null    float64\n",
      " 2   ldl        462 non-null    float64\n",
      " 3   adiposity  462 non-null    float64\n",
      " 4   famhist    462 non-null    object \n",
      " 5   typea      462 non-null    int64  \n",
      " 6   obesity    462 non-null    float64\n",
      " 7   alcohol    462 non-null    float64\n",
      " 8   age        462 non-null    int64  \n",
      " 9   chd        462 non-null    object \n",
      "dtypes: float64(5), int64(3), object(2)\n",
      "memory usage: 36.2+ KB\n"
     ]
    }
   ],
   "source": [
    "corazon.info()"
   ]
  },
  {
   "cell_type": "code",
   "execution_count": 4,
   "id": "04b45477",
   "metadata": {
    "colab": {
     "base_uri": "https://localhost:8080/",
     "height": 394
    },
    "id": "04b45477",
    "outputId": "0397d464-4209-4726-960d-96aebf308e72"
   },
   "outputs": [
    {
     "data": {
      "text/html": [
       "<div>\n",
       "<style scoped>\n",
       "    .dataframe tbody tr th:only-of-type {\n",
       "        vertical-align: middle;\n",
       "    }\n",
       "\n",
       "    .dataframe tbody tr th {\n",
       "        vertical-align: top;\n",
       "    }\n",
       "\n",
       "    .dataframe thead th {\n",
       "        text-align: right;\n",
       "    }\n",
       "</style>\n",
       "<table border=\"1\" class=\"dataframe\">\n",
       "  <thead>\n",
       "    <tr style=\"text-align: right;\">\n",
       "      <th></th>\n",
       "      <th>sbp</th>\n",
       "      <th>tobacco</th>\n",
       "      <th>ldl</th>\n",
       "      <th>adiposity</th>\n",
       "      <th>famhist</th>\n",
       "      <th>typea</th>\n",
       "      <th>obesity</th>\n",
       "      <th>alcohol</th>\n",
       "      <th>age</th>\n",
       "      <th>chd</th>\n",
       "    </tr>\n",
       "  </thead>\n",
       "  <tbody>\n",
       "    <tr>\n",
       "      <th>count</th>\n",
       "      <td>462.000000</td>\n",
       "      <td>462.000000</td>\n",
       "      <td>462.000000</td>\n",
       "      <td>462.000000</td>\n",
       "      <td>462</td>\n",
       "      <td>462.000000</td>\n",
       "      <td>462.000000</td>\n",
       "      <td>462.000000</td>\n",
       "      <td>462.000000</td>\n",
       "      <td>462</td>\n",
       "    </tr>\n",
       "    <tr>\n",
       "      <th>unique</th>\n",
       "      <td>NaN</td>\n",
       "      <td>NaN</td>\n",
       "      <td>NaN</td>\n",
       "      <td>NaN</td>\n",
       "      <td>2</td>\n",
       "      <td>NaN</td>\n",
       "      <td>NaN</td>\n",
       "      <td>NaN</td>\n",
       "      <td>NaN</td>\n",
       "      <td>2</td>\n",
       "    </tr>\n",
       "    <tr>\n",
       "      <th>top</th>\n",
       "      <td>NaN</td>\n",
       "      <td>NaN</td>\n",
       "      <td>NaN</td>\n",
       "      <td>NaN</td>\n",
       "      <td>Absent</td>\n",
       "      <td>NaN</td>\n",
       "      <td>NaN</td>\n",
       "      <td>NaN</td>\n",
       "      <td>NaN</td>\n",
       "      <td>No</td>\n",
       "    </tr>\n",
       "    <tr>\n",
       "      <th>freq</th>\n",
       "      <td>NaN</td>\n",
       "      <td>NaN</td>\n",
       "      <td>NaN</td>\n",
       "      <td>NaN</td>\n",
       "      <td>270</td>\n",
       "      <td>NaN</td>\n",
       "      <td>NaN</td>\n",
       "      <td>NaN</td>\n",
       "      <td>NaN</td>\n",
       "      <td>302</td>\n",
       "    </tr>\n",
       "    <tr>\n",
       "      <th>mean</th>\n",
       "      <td>138.326840</td>\n",
       "      <td>3.635649</td>\n",
       "      <td>4.740325</td>\n",
       "      <td>25.406732</td>\n",
       "      <td>NaN</td>\n",
       "      <td>53.103896</td>\n",
       "      <td>26.044113</td>\n",
       "      <td>17.044394</td>\n",
       "      <td>42.816017</td>\n",
       "      <td>NaN</td>\n",
       "    </tr>\n",
       "    <tr>\n",
       "      <th>std</th>\n",
       "      <td>20.496317</td>\n",
       "      <td>4.593024</td>\n",
       "      <td>2.070909</td>\n",
       "      <td>7.780699</td>\n",
       "      <td>NaN</td>\n",
       "      <td>9.817534</td>\n",
       "      <td>4.213680</td>\n",
       "      <td>24.481059</td>\n",
       "      <td>14.608956</td>\n",
       "      <td>NaN</td>\n",
       "    </tr>\n",
       "    <tr>\n",
       "      <th>min</th>\n",
       "      <td>101.000000</td>\n",
       "      <td>0.000000</td>\n",
       "      <td>0.980000</td>\n",
       "      <td>6.740000</td>\n",
       "      <td>NaN</td>\n",
       "      <td>13.000000</td>\n",
       "      <td>14.700000</td>\n",
       "      <td>0.000000</td>\n",
       "      <td>15.000000</td>\n",
       "      <td>NaN</td>\n",
       "    </tr>\n",
       "    <tr>\n",
       "      <th>25%</th>\n",
       "      <td>124.000000</td>\n",
       "      <td>0.052500</td>\n",
       "      <td>3.282500</td>\n",
       "      <td>19.775000</td>\n",
       "      <td>NaN</td>\n",
       "      <td>47.000000</td>\n",
       "      <td>22.985000</td>\n",
       "      <td>0.510000</td>\n",
       "      <td>31.000000</td>\n",
       "      <td>NaN</td>\n",
       "    </tr>\n",
       "    <tr>\n",
       "      <th>50%</th>\n",
       "      <td>134.000000</td>\n",
       "      <td>2.000000</td>\n",
       "      <td>4.340000</td>\n",
       "      <td>26.115000</td>\n",
       "      <td>NaN</td>\n",
       "      <td>53.000000</td>\n",
       "      <td>25.805000</td>\n",
       "      <td>7.510000</td>\n",
       "      <td>45.000000</td>\n",
       "      <td>NaN</td>\n",
       "    </tr>\n",
       "    <tr>\n",
       "      <th>75%</th>\n",
       "      <td>148.000000</td>\n",
       "      <td>5.500000</td>\n",
       "      <td>5.790000</td>\n",
       "      <td>31.227500</td>\n",
       "      <td>NaN</td>\n",
       "      <td>60.000000</td>\n",
       "      <td>28.497500</td>\n",
       "      <td>23.892500</td>\n",
       "      <td>55.000000</td>\n",
       "      <td>NaN</td>\n",
       "    </tr>\n",
       "    <tr>\n",
       "      <th>max</th>\n",
       "      <td>218.000000</td>\n",
       "      <td>31.200000</td>\n",
       "      <td>15.330000</td>\n",
       "      <td>42.490000</td>\n",
       "      <td>NaN</td>\n",
       "      <td>78.000000</td>\n",
       "      <td>46.580000</td>\n",
       "      <td>147.190000</td>\n",
       "      <td>64.000000</td>\n",
       "      <td>NaN</td>\n",
       "    </tr>\n",
       "  </tbody>\n",
       "</table>\n",
       "</div>"
      ],
      "text/plain": [
       "               sbp     tobacco         ldl   adiposity famhist       typea  \\\n",
       "count   462.000000  462.000000  462.000000  462.000000     462  462.000000   \n",
       "unique         NaN         NaN         NaN         NaN       2         NaN   \n",
       "top            NaN         NaN         NaN         NaN  Absent         NaN   \n",
       "freq           NaN         NaN         NaN         NaN     270         NaN   \n",
       "mean    138.326840    3.635649    4.740325   25.406732     NaN   53.103896   \n",
       "std      20.496317    4.593024    2.070909    7.780699     NaN    9.817534   \n",
       "min     101.000000    0.000000    0.980000    6.740000     NaN   13.000000   \n",
       "25%     124.000000    0.052500    3.282500   19.775000     NaN   47.000000   \n",
       "50%     134.000000    2.000000    4.340000   26.115000     NaN   53.000000   \n",
       "75%     148.000000    5.500000    5.790000   31.227500     NaN   60.000000   \n",
       "max     218.000000   31.200000   15.330000   42.490000     NaN   78.000000   \n",
       "\n",
       "           obesity     alcohol         age  chd  \n",
       "count   462.000000  462.000000  462.000000  462  \n",
       "unique         NaN         NaN         NaN    2  \n",
       "top            NaN         NaN         NaN   No  \n",
       "freq           NaN         NaN         NaN  302  \n",
       "mean     26.044113   17.044394   42.816017  NaN  \n",
       "std       4.213680   24.481059   14.608956  NaN  \n",
       "min      14.700000    0.000000   15.000000  NaN  \n",
       "25%      22.985000    0.510000   31.000000  NaN  \n",
       "50%      25.805000    7.510000   45.000000  NaN  \n",
       "75%      28.497500   23.892500   55.000000  NaN  \n",
       "max      46.580000  147.190000   64.000000  NaN  "
      ]
     },
     "execution_count": 4,
     "metadata": {},
     "output_type": "execute_result"
    }
   ],
   "source": [
    "corazon.describe(include='all')"
   ]
  },
  {
   "cell_type": "code",
   "execution_count": 5,
   "id": "e71d51ef",
   "metadata": {
    "colab": {
     "base_uri": "https://localhost:8080/",
     "height": 363
    },
    "id": "e71d51ef",
    "outputId": "997bf4d3-238a-4698-be0b-98fa5f239ac2"
   },
   "outputs": [
    {
     "data": {
      "text/html": [
       "<div>\n",
       "<style scoped>\n",
       "    .dataframe tbody tr th:only-of-type {\n",
       "        vertical-align: middle;\n",
       "    }\n",
       "\n",
       "    .dataframe tbody tr th {\n",
       "        vertical-align: top;\n",
       "    }\n",
       "\n",
       "    .dataframe thead th {\n",
       "        text-align: right;\n",
       "    }\n",
       "</style>\n",
       "<table border=\"1\" class=\"dataframe\">\n",
       "  <thead>\n",
       "    <tr style=\"text-align: right;\">\n",
       "      <th></th>\n",
       "      <th>sbp</th>\n",
       "      <th>tobacco</th>\n",
       "      <th>ldl</th>\n",
       "      <th>adiposity</th>\n",
       "      <th>typea</th>\n",
       "      <th>obesity</th>\n",
       "      <th>alcohol</th>\n",
       "      <th>age</th>\n",
       "    </tr>\n",
       "  </thead>\n",
       "  <tbody>\n",
       "    <tr>\n",
       "      <th>0.0</th>\n",
       "      <td>101.0</td>\n",
       "      <td>0.000</td>\n",
       "      <td>0.980</td>\n",
       "      <td>6.740</td>\n",
       "      <td>13.0</td>\n",
       "      <td>14.700</td>\n",
       "      <td>0.000</td>\n",
       "      <td>15.0</td>\n",
       "    </tr>\n",
       "    <tr>\n",
       "      <th>0.1</th>\n",
       "      <td>118.0</td>\n",
       "      <td>0.000</td>\n",
       "      <td>2.510</td>\n",
       "      <td>13.713</td>\n",
       "      <td>41.0</td>\n",
       "      <td>21.142</td>\n",
       "      <td>0.000</td>\n",
       "      <td>18.0</td>\n",
       "    </tr>\n",
       "    <tr>\n",
       "      <th>0.2</th>\n",
       "      <td>122.0</td>\n",
       "      <td>0.000</td>\n",
       "      <td>3.104</td>\n",
       "      <td>17.930</td>\n",
       "      <td>46.0</td>\n",
       "      <td>22.320</td>\n",
       "      <td>0.000</td>\n",
       "      <td>28.0</td>\n",
       "    </tr>\n",
       "    <tr>\n",
       "      <th>0.3</th>\n",
       "      <td>126.0</td>\n",
       "      <td>0.400</td>\n",
       "      <td>3.543</td>\n",
       "      <td>21.145</td>\n",
       "      <td>49.0</td>\n",
       "      <td>23.633</td>\n",
       "      <td>1.385</td>\n",
       "      <td>34.0</td>\n",
       "    </tr>\n",
       "    <tr>\n",
       "      <th>0.4</th>\n",
       "      <td>130.0</td>\n",
       "      <td>1.024</td>\n",
       "      <td>3.950</td>\n",
       "      <td>23.874</td>\n",
       "      <td>51.0</td>\n",
       "      <td>24.804</td>\n",
       "      <td>3.248</td>\n",
       "      <td>40.0</td>\n",
       "    </tr>\n",
       "    <tr>\n",
       "      <th>0.5</th>\n",
       "      <td>134.0</td>\n",
       "      <td>2.000</td>\n",
       "      <td>4.340</td>\n",
       "      <td>26.115</td>\n",
       "      <td>53.0</td>\n",
       "      <td>25.805</td>\n",
       "      <td>7.510</td>\n",
       "      <td>45.0</td>\n",
       "    </tr>\n",
       "    <tr>\n",
       "      <th>0.6</th>\n",
       "      <td>138.0</td>\n",
       "      <td>3.436</td>\n",
       "      <td>4.890</td>\n",
       "      <td>28.082</td>\n",
       "      <td>56.0</td>\n",
       "      <td>26.706</td>\n",
       "      <td>11.830</td>\n",
       "      <td>49.0</td>\n",
       "    </tr>\n",
       "    <tr>\n",
       "      <th>0.7</th>\n",
       "      <td>144.0</td>\n",
       "      <td>4.500</td>\n",
       "      <td>5.457</td>\n",
       "      <td>30.057</td>\n",
       "      <td>58.0</td>\n",
       "      <td>27.807</td>\n",
       "      <td>19.298</td>\n",
       "      <td>54.0</td>\n",
       "    </tr>\n",
       "    <tr>\n",
       "      <th>0.8</th>\n",
       "      <td>154.0</td>\n",
       "      <td>6.156</td>\n",
       "      <td>6.138</td>\n",
       "      <td>32.472</td>\n",
       "      <td>61.0</td>\n",
       "      <td>29.114</td>\n",
       "      <td>27.770</td>\n",
       "      <td>58.0</td>\n",
       "    </tr>\n",
       "    <tr>\n",
       "      <th>0.9</th>\n",
       "      <td>166.0</td>\n",
       "      <td>9.090</td>\n",
       "      <td>7.383</td>\n",
       "      <td>35.352</td>\n",
       "      <td>65.0</td>\n",
       "      <td>30.965</td>\n",
       "      <td>47.510</td>\n",
       "      <td>61.0</td>\n",
       "    </tr>\n",
       "  </tbody>\n",
       "</table>\n",
       "</div>"
      ],
      "text/plain": [
       "       sbp  tobacco    ldl  adiposity  typea  obesity  alcohol   age\n",
       "0.0  101.0    0.000  0.980      6.740   13.0   14.700    0.000  15.0\n",
       "0.1  118.0    0.000  2.510     13.713   41.0   21.142    0.000  18.0\n",
       "0.2  122.0    0.000  3.104     17.930   46.0   22.320    0.000  28.0\n",
       "0.3  126.0    0.400  3.543     21.145   49.0   23.633    1.385  34.0\n",
       "0.4  130.0    1.024  3.950     23.874   51.0   24.804    3.248  40.0\n",
       "0.5  134.0    2.000  4.340     26.115   53.0   25.805    7.510  45.0\n",
       "0.6  138.0    3.436  4.890     28.082   56.0   26.706   11.830  49.0\n",
       "0.7  144.0    4.500  5.457     30.057   58.0   27.807   19.298  54.0\n",
       "0.8  154.0    6.156  6.138     32.472   61.0   29.114   27.770  58.0\n",
       "0.9  166.0    9.090  7.383     35.352   65.0   30.965   47.510  61.0"
      ]
     },
     "execution_count": 5,
     "metadata": {},
     "output_type": "execute_result"
    }
   ],
   "source": [
    "corazon.quantile(np.arange(0,1,0.1))"
   ]
  },
  {
   "cell_type": "code",
   "execution_count": 6,
   "id": "93f50350",
   "metadata": {
    "colab": {
     "base_uri": "https://localhost:8080/",
     "height": 175
    },
    "id": "93f50350",
    "outputId": "1f7f98d2-d6de-4075-e92d-bcb2df76ea58"
   },
   "outputs": [
    {
     "data": {
      "text/html": [
       "<div>\n",
       "<style scoped>\n",
       "    .dataframe tbody tr th:only-of-type {\n",
       "        vertical-align: middle;\n",
       "    }\n",
       "\n",
       "    .dataframe tbody tr th {\n",
       "        vertical-align: top;\n",
       "    }\n",
       "\n",
       "    .dataframe thead th {\n",
       "        text-align: right;\n",
       "    }\n",
       "</style>\n",
       "<table border=\"1\" class=\"dataframe\">\n",
       "  <thead>\n",
       "    <tr style=\"text-align: right;\">\n",
       "      <th></th>\n",
       "      <th>famhist</th>\n",
       "      <th>chd</th>\n",
       "    </tr>\n",
       "  </thead>\n",
       "  <tbody>\n",
       "    <tr>\n",
       "      <th>count</th>\n",
       "      <td>462</td>\n",
       "      <td>462</td>\n",
       "    </tr>\n",
       "    <tr>\n",
       "      <th>unique</th>\n",
       "      <td>2</td>\n",
       "      <td>2</td>\n",
       "    </tr>\n",
       "    <tr>\n",
       "      <th>top</th>\n",
       "      <td>Absent</td>\n",
       "      <td>No</td>\n",
       "    </tr>\n",
       "    <tr>\n",
       "      <th>freq</th>\n",
       "      <td>270</td>\n",
       "      <td>302</td>\n",
       "    </tr>\n",
       "  </tbody>\n",
       "</table>\n",
       "</div>"
      ],
      "text/plain": [
       "       famhist  chd\n",
       "count      462  462\n",
       "unique       2    2\n",
       "top     Absent   No\n",
       "freq       270  302"
      ]
     },
     "execution_count": 6,
     "metadata": {},
     "output_type": "execute_result"
    }
   ],
   "source": [
    "corazon.describe(include=['O'])"
   ]
  },
  {
   "cell_type": "code",
   "execution_count": 7,
   "id": "22ccea12",
   "metadata": {
    "colab": {
     "base_uri": "https://localhost:8080/"
    },
    "id": "22ccea12",
    "outputId": "eb2d36c2-22a1-4bd1-9da4-19a9855c7a6e"
   },
   "outputs": [
    {
     "data": {
      "text/plain": [
       "No    302\n",
       "Si    160\n",
       "Name: chd, dtype: int64"
      ]
     },
     "execution_count": 7,
     "metadata": {},
     "output_type": "execute_result"
    }
   ],
   "source": [
    "corazon['chd'].value_counts()"
   ]
  },
  {
   "cell_type": "code",
   "execution_count": 8,
   "id": "621d1db9",
   "metadata": {
    "colab": {
     "base_uri": "https://localhost:8080/"
    },
    "id": "621d1db9",
    "outputId": "40712898-e832-418e-dcc7-ad5d83ca7eb0"
   },
   "outputs": [
    {
     "data": {
      "text/plain": [
       "No    0.65368\n",
       "Si    0.34632\n",
       "Name: chd, dtype: float64"
      ]
     },
     "execution_count": 8,
     "metadata": {},
     "output_type": "execute_result"
    }
   ],
   "source": [
    "tab = corazon['chd'].value_counts()\n",
    "tab/tab.sum()"
   ]
  },
  {
   "cell_type": "markdown",
   "id": "b22cb21e",
   "metadata": {
    "id": "b22cb21e"
   },
   "source": [
    "### PREGUNTA: \n",
    "\n",
    "¿Qué ven de particular en los datos?\n",
    "\n",
    "\n",
    "Por un lado encontramos que la variable objetivo no está completamente balanceada (65% vs 35% de proporciones para las dos categorías). La diferencia no es, en todo caso, grave, pues hay una gran proporción de la clase minoritaria\n"
   ]
  },
  {
   "cell_type": "code",
   "execution_count": 9,
   "id": "8d161c0c",
   "metadata": {
    "colab": {
     "base_uri": "https://localhost:8080/",
     "height": 424
    },
    "id": "8d161c0c",
    "outputId": "f96a8395-2763-4bff-a227-7e664a31509f"
   },
   "outputs": [
    {
     "data": {
      "text/html": [
       "<div>\n",
       "<style scoped>\n",
       "    .dataframe tbody tr th:only-of-type {\n",
       "        vertical-align: middle;\n",
       "    }\n",
       "\n",
       "    .dataframe tbody tr th {\n",
       "        vertical-align: top;\n",
       "    }\n",
       "\n",
       "    .dataframe thead th {\n",
       "        text-align: right;\n",
       "    }\n",
       "</style>\n",
       "<table border=\"1\" class=\"dataframe\">\n",
       "  <thead>\n",
       "    <tr style=\"text-align: right;\">\n",
       "      <th></th>\n",
       "      <th>sbp</th>\n",
       "      <th>tobacco</th>\n",
       "      <th>ldl</th>\n",
       "      <th>adiposity</th>\n",
       "      <th>famhist</th>\n",
       "      <th>typea</th>\n",
       "      <th>obesity</th>\n",
       "      <th>alcohol</th>\n",
       "      <th>age</th>\n",
       "      <th>chd</th>\n",
       "    </tr>\n",
       "  </thead>\n",
       "  <tbody>\n",
       "    <tr>\n",
       "      <th>0</th>\n",
       "      <td>160</td>\n",
       "      <td>12.00</td>\n",
       "      <td>5.73</td>\n",
       "      <td>23.11</td>\n",
       "      <td>Present</td>\n",
       "      <td>49</td>\n",
       "      <td>25.30</td>\n",
       "      <td>97.20</td>\n",
       "      <td>52</td>\n",
       "      <td>Si</td>\n",
       "    </tr>\n",
       "    <tr>\n",
       "      <th>1</th>\n",
       "      <td>144</td>\n",
       "      <td>0.01</td>\n",
       "      <td>4.41</td>\n",
       "      <td>28.61</td>\n",
       "      <td>Absent</td>\n",
       "      <td>55</td>\n",
       "      <td>28.87</td>\n",
       "      <td>2.06</td>\n",
       "      <td>63</td>\n",
       "      <td>Si</td>\n",
       "    </tr>\n",
       "    <tr>\n",
       "      <th>2</th>\n",
       "      <td>118</td>\n",
       "      <td>0.08</td>\n",
       "      <td>3.48</td>\n",
       "      <td>32.28</td>\n",
       "      <td>Present</td>\n",
       "      <td>52</td>\n",
       "      <td>29.14</td>\n",
       "      <td>3.81</td>\n",
       "      <td>46</td>\n",
       "      <td>No</td>\n",
       "    </tr>\n",
       "    <tr>\n",
       "      <th>3</th>\n",
       "      <td>170</td>\n",
       "      <td>7.50</td>\n",
       "      <td>6.41</td>\n",
       "      <td>38.03</td>\n",
       "      <td>Present</td>\n",
       "      <td>51</td>\n",
       "      <td>31.99</td>\n",
       "      <td>24.26</td>\n",
       "      <td>58</td>\n",
       "      <td>Si</td>\n",
       "    </tr>\n",
       "    <tr>\n",
       "      <th>4</th>\n",
       "      <td>134</td>\n",
       "      <td>13.60</td>\n",
       "      <td>3.50</td>\n",
       "      <td>27.78</td>\n",
       "      <td>Present</td>\n",
       "      <td>60</td>\n",
       "      <td>25.99</td>\n",
       "      <td>57.34</td>\n",
       "      <td>49</td>\n",
       "      <td>Si</td>\n",
       "    </tr>\n",
       "    <tr>\n",
       "      <th>...</th>\n",
       "      <td>...</td>\n",
       "      <td>...</td>\n",
       "      <td>...</td>\n",
       "      <td>...</td>\n",
       "      <td>...</td>\n",
       "      <td>...</td>\n",
       "      <td>...</td>\n",
       "      <td>...</td>\n",
       "      <td>...</td>\n",
       "      <td>...</td>\n",
       "    </tr>\n",
       "    <tr>\n",
       "      <th>457</th>\n",
       "      <td>214</td>\n",
       "      <td>0.40</td>\n",
       "      <td>5.98</td>\n",
       "      <td>31.72</td>\n",
       "      <td>Absent</td>\n",
       "      <td>64</td>\n",
       "      <td>28.45</td>\n",
       "      <td>0.00</td>\n",
       "      <td>58</td>\n",
       "      <td>No</td>\n",
       "    </tr>\n",
       "    <tr>\n",
       "      <th>458</th>\n",
       "      <td>182</td>\n",
       "      <td>4.20</td>\n",
       "      <td>4.41</td>\n",
       "      <td>32.10</td>\n",
       "      <td>Absent</td>\n",
       "      <td>52</td>\n",
       "      <td>28.61</td>\n",
       "      <td>18.72</td>\n",
       "      <td>52</td>\n",
       "      <td>Si</td>\n",
       "    </tr>\n",
       "    <tr>\n",
       "      <th>459</th>\n",
       "      <td>108</td>\n",
       "      <td>3.00</td>\n",
       "      <td>1.59</td>\n",
       "      <td>15.23</td>\n",
       "      <td>Absent</td>\n",
       "      <td>40</td>\n",
       "      <td>20.09</td>\n",
       "      <td>26.64</td>\n",
       "      <td>55</td>\n",
       "      <td>No</td>\n",
       "    </tr>\n",
       "    <tr>\n",
       "      <th>460</th>\n",
       "      <td>118</td>\n",
       "      <td>5.40</td>\n",
       "      <td>11.61</td>\n",
       "      <td>30.79</td>\n",
       "      <td>Absent</td>\n",
       "      <td>64</td>\n",
       "      <td>27.35</td>\n",
       "      <td>23.97</td>\n",
       "      <td>40</td>\n",
       "      <td>No</td>\n",
       "    </tr>\n",
       "    <tr>\n",
       "      <th>461</th>\n",
       "      <td>132</td>\n",
       "      <td>0.00</td>\n",
       "      <td>4.82</td>\n",
       "      <td>33.41</td>\n",
       "      <td>Present</td>\n",
       "      <td>62</td>\n",
       "      <td>14.70</td>\n",
       "      <td>0.00</td>\n",
       "      <td>46</td>\n",
       "      <td>Si</td>\n",
       "    </tr>\n",
       "  </tbody>\n",
       "</table>\n",
       "<p>462 rows × 10 columns</p>\n",
       "</div>"
      ],
      "text/plain": [
       "     sbp  tobacco    ldl  adiposity  famhist  typea  obesity  alcohol  age chd\n",
       "0    160    12.00   5.73      23.11  Present     49    25.30    97.20   52  Si\n",
       "1    144     0.01   4.41      28.61   Absent     55    28.87     2.06   63  Si\n",
       "2    118     0.08   3.48      32.28  Present     52    29.14     3.81   46  No\n",
       "3    170     7.50   6.41      38.03  Present     51    31.99    24.26   58  Si\n",
       "4    134    13.60   3.50      27.78  Present     60    25.99    57.34   49  Si\n",
       "..   ...      ...    ...        ...      ...    ...      ...      ...  ...  ..\n",
       "457  214     0.40   5.98      31.72   Absent     64    28.45     0.00   58  No\n",
       "458  182     4.20   4.41      32.10   Absent     52    28.61    18.72   52  Si\n",
       "459  108     3.00   1.59      15.23   Absent     40    20.09    26.64   55  No\n",
       "460  118     5.40  11.61      30.79   Absent     64    27.35    23.97   40  No\n",
       "461  132     0.00   4.82      33.41  Present     62    14.70     0.00   46  Si\n",
       "\n",
       "[462 rows x 10 columns]"
      ]
     },
     "execution_count": 9,
     "metadata": {},
     "output_type": "execute_result"
    }
   ],
   "source": [
    "corazon"
   ]
  },
  {
   "cell_type": "code",
   "execution_count": 10,
   "id": "3a8e13d7",
   "metadata": {
    "colab": {
     "base_uri": "https://localhost:8080/"
    },
    "id": "3a8e13d7",
    "outputId": "8219c6a1-fa73-45cb-8614-5e68d037f17a"
   },
   "outputs": [
    {
     "name": "stdout",
     "output_type": "stream",
     "text": [
      "Min ldl: 0.98, Max ldl: 15.33\n",
      "Min sbp: 101, Max sbp: 218\n"
     ]
    }
   ],
   "source": [
    "print(f\"Min ldl: {corazon['ldl'].min()}, Max ldl: {corazon['ldl'].max()}\")\n",
    "print(f\"Min sbp: {corazon['sbp'].min()}, Max sbp: {corazon['sbp'].max()}\")"
   ]
  },
  {
   "cell_type": "markdown",
   "id": "40951d98",
   "metadata": {
    "id": "40951d98"
   },
   "source": [
    "También vemos que las escalas de las variables numéricas son bien diferentes, con variables como ldl que van de 0.98 a 15.3 y otras como sbp que van de 101 a 218. Esto implica que, con modelos sensibles a las escalas como K-NN, es necesario reescalar los valores de las variables, para que todas tengan la misma importancia en los modelos finales. En el caso de la regresión logística, el modelo no es sensible a la escala, pero los coeficientes de las variables predictivas no podrán ser comparados directamente para entender las variables mas sensibles en la predicción de la variable dependiente.\n",
    "\n",
    "Vamos a estandarizar los datos para poder aplicar el modelo K-nn sin problemas, y poder interpretar más fácilmente los coeficientes del modelo de regresión logística."
   ]
  },
  {
   "cell_type": "code",
   "execution_count": 11,
   "id": "b23b7c87",
   "metadata": {
    "colab": {
     "base_uri": "https://localhost:8080/",
     "height": 300
    },
    "id": "b23b7c87",
    "outputId": "a32e2406-3407-4b2b-ccf4-84631a7a73e3"
   },
   "outputs": [
    {
     "data": {
      "text/html": [
       "<div>\n",
       "<style scoped>\n",
       "    .dataframe tbody tr th:only-of-type {\n",
       "        vertical-align: middle;\n",
       "    }\n",
       "\n",
       "    .dataframe tbody tr th {\n",
       "        vertical-align: top;\n",
       "    }\n",
       "\n",
       "    .dataframe thead th {\n",
       "        text-align: right;\n",
       "    }\n",
       "</style>\n",
       "<table border=\"1\" class=\"dataframe\">\n",
       "  <thead>\n",
       "    <tr style=\"text-align: right;\">\n",
       "      <th></th>\n",
       "      <th>sbp</th>\n",
       "      <th>tobacco</th>\n",
       "      <th>ldl</th>\n",
       "      <th>adiposity</th>\n",
       "      <th>typea</th>\n",
       "      <th>obesity</th>\n",
       "      <th>alcohol</th>\n",
       "      <th>age</th>\n",
       "    </tr>\n",
       "  </thead>\n",
       "  <tbody>\n",
       "    <tr>\n",
       "      <th>count</th>\n",
       "      <td>4.620000e+02</td>\n",
       "      <td>4.620000e+02</td>\n",
       "      <td>4.620000e+02</td>\n",
       "      <td>4.620000e+02</td>\n",
       "      <td>4.620000e+02</td>\n",
       "      <td>4.620000e+02</td>\n",
       "      <td>4.620000e+02</td>\n",
       "      <td>4.620000e+02</td>\n",
       "    </tr>\n",
       "    <tr>\n",
       "      <th>mean</th>\n",
       "      <td>-2.398274e-16</td>\n",
       "      <td>8.170472e-18</td>\n",
       "      <td>3.737841e-16</td>\n",
       "      <td>1.686962e-16</td>\n",
       "      <td>-1.684559e-16</td>\n",
       "      <td>6.046150e-16</td>\n",
       "      <td>3.102376e-16</td>\n",
       "      <td>6.728624e-18</td>\n",
       "    </tr>\n",
       "    <tr>\n",
       "      <th>std</th>\n",
       "      <td>1.001084e+00</td>\n",
       "      <td>1.001084e+00</td>\n",
       "      <td>1.001084e+00</td>\n",
       "      <td>1.001084e+00</td>\n",
       "      <td>1.001084e+00</td>\n",
       "      <td>1.001084e+00</td>\n",
       "      <td>1.001084e+00</td>\n",
       "      <td>1.001084e+00</td>\n",
       "    </tr>\n",
       "    <tr>\n",
       "      <th>min</th>\n",
       "      <td>-1.823123e+00</td>\n",
       "      <td>-7.924170e-01</td>\n",
       "      <td>-1.817753e+00</td>\n",
       "      <td>-2.401708e+00</td>\n",
       "      <td>-4.089354e+00</td>\n",
       "      <td>-2.695129e+00</td>\n",
       "      <td>-6.969825e-01</td>\n",
       "      <td>-1.906103e+00</td>\n",
       "    </tr>\n",
       "    <tr>\n",
       "      <th>25%</th>\n",
       "      <td>-6.997535e-01</td>\n",
       "      <td>-7.809742e-01</td>\n",
       "      <td>-7.047170e-01</td>\n",
       "      <td>-7.245926e-01</td>\n",
       "      <td>-6.224081e-01</td>\n",
       "      <td>-7.267824e-01</td>\n",
       "      <td>-6.761275e-01</td>\n",
       "      <td>-8.096968e-01</td>\n",
       "    </tr>\n",
       "    <tr>\n",
       "      <th>50%</th>\n",
       "      <td>-2.113321e-01</td>\n",
       "      <td>-3.565020e-01</td>\n",
       "      <td>-1.935182e-01</td>\n",
       "      <td>9.112757e-02</td>\n",
       "      <td>-1.059418e-02</td>\n",
       "      <td>-5.680824e-02</td>\n",
       "      <td>-3.898822e-01</td>\n",
       "      <td>1.496582e-01</td>\n",
       "    </tr>\n",
       "    <tr>\n",
       "      <th>75%</th>\n",
       "      <td>4.724579e-01</td>\n",
       "      <td>4.063492e-01</td>\n",
       "      <td>5.074164e-01</td>\n",
       "      <td>7.489145e-01</td>\n",
       "      <td>7.031887e-01</td>\n",
       "      <td>5.828745e-01</td>\n",
       "      <td>2.800340e-01</td>\n",
       "      <td>8.349118e-01</td>\n",
       "    </tr>\n",
       "    <tr>\n",
       "      <th>max</th>\n",
       "      <td>3.891408e+00</td>\n",
       "      <td>6.007857e+00</td>\n",
       "      <td>5.119082e+00</td>\n",
       "      <td>2.197976e+00</td>\n",
       "      <td>2.538631e+00</td>\n",
       "      <td>4.878906e+00</td>\n",
       "      <td>5.321938e+00</td>\n",
       "      <td>1.451640e+00</td>\n",
       "    </tr>\n",
       "  </tbody>\n",
       "</table>\n",
       "</div>"
      ],
      "text/plain": [
       "                sbp       tobacco           ldl     adiposity         typea  \\\n",
       "count  4.620000e+02  4.620000e+02  4.620000e+02  4.620000e+02  4.620000e+02   \n",
       "mean  -2.398274e-16  8.170472e-18  3.737841e-16  1.686962e-16 -1.684559e-16   \n",
       "std    1.001084e+00  1.001084e+00  1.001084e+00  1.001084e+00  1.001084e+00   \n",
       "min   -1.823123e+00 -7.924170e-01 -1.817753e+00 -2.401708e+00 -4.089354e+00   \n",
       "25%   -6.997535e-01 -7.809742e-01 -7.047170e-01 -7.245926e-01 -6.224081e-01   \n",
       "50%   -2.113321e-01 -3.565020e-01 -1.935182e-01  9.112757e-02 -1.059418e-02   \n",
       "75%    4.724579e-01  4.063492e-01  5.074164e-01  7.489145e-01  7.031887e-01   \n",
       "max    3.891408e+00  6.007857e+00  5.119082e+00  2.197976e+00  2.538631e+00   \n",
       "\n",
       "            obesity       alcohol           age  \n",
       "count  4.620000e+02  4.620000e+02  4.620000e+02  \n",
       "mean   6.046150e-16  3.102376e-16  6.728624e-18  \n",
       "std    1.001084e+00  1.001084e+00  1.001084e+00  \n",
       "min   -2.695129e+00 -6.969825e-01 -1.906103e+00  \n",
       "25%   -7.267824e-01 -6.761275e-01 -8.096968e-01  \n",
       "50%   -5.680824e-02 -3.898822e-01  1.496582e-01  \n",
       "75%    5.828745e-01  2.800340e-01  8.349118e-01  \n",
       "max    4.878906e+00  5.321938e+00  1.451640e+00  "
      ]
     },
     "execution_count": 11,
     "metadata": {},
     "output_type": "execute_result"
    }
   ],
   "source": [
    "vars = corazon.columns\n",
    "numericVars = corazon.select_dtypes(include='number')\n",
    "categoricalVars = corazon.select_dtypes(include='object')\n",
    "numericVars[numericVars.columns] = StandardScaler().fit_transform(numericVars)\n",
    "corazonStd = pd.concat([numericVars,categoricalVars], axis=1)\n",
    "corazonStd.describe()"
   ]
  },
  {
   "cell_type": "code",
   "execution_count": 12,
   "id": "Z5ZfHW5PcXPt",
   "metadata": {
    "colab": {
     "base_uri": "https://localhost:8080/",
     "height": 424
    },
    "id": "Z5ZfHW5PcXPt",
    "outputId": "ca99aea5-bd96-48ae-860a-953fea2985d8"
   },
   "outputs": [
    {
     "data": {
      "text/html": [
       "<div>\n",
       "<style scoped>\n",
       "    .dataframe tbody tr th:only-of-type {\n",
       "        vertical-align: middle;\n",
       "    }\n",
       "\n",
       "    .dataframe tbody tr th {\n",
       "        vertical-align: top;\n",
       "    }\n",
       "\n",
       "    .dataframe thead th {\n",
       "        text-align: right;\n",
       "    }\n",
       "</style>\n",
       "<table border=\"1\" class=\"dataframe\">\n",
       "  <thead>\n",
       "    <tr style=\"text-align: right;\">\n",
       "      <th></th>\n",
       "      <th>sbp</th>\n",
       "      <th>tobacco</th>\n",
       "      <th>ldl</th>\n",
       "      <th>adiposity</th>\n",
       "      <th>typea</th>\n",
       "      <th>obesity</th>\n",
       "      <th>alcohol</th>\n",
       "      <th>age</th>\n",
       "      <th>famhist</th>\n",
       "      <th>chd</th>\n",
       "    </tr>\n",
       "  </thead>\n",
       "  <tbody>\n",
       "    <tr>\n",
       "      <th>0</th>\n",
       "      <td>1.058564</td>\n",
       "      <td>1.823073</td>\n",
       "      <td>0.478412</td>\n",
       "      <td>-0.295503</td>\n",
       "      <td>-0.418470</td>\n",
       "      <td>-0.176786</td>\n",
       "      <td>3.277738</td>\n",
       "      <td>0.629336</td>\n",
       "      <td>Present</td>\n",
       "      <td>Si</td>\n",
       "    </tr>\n",
       "    <tr>\n",
       "      <th>1</th>\n",
       "      <td>0.277089</td>\n",
       "      <td>-0.790237</td>\n",
       "      <td>-0.159680</td>\n",
       "      <td>0.412140</td>\n",
       "      <td>0.193344</td>\n",
       "      <td>0.671373</td>\n",
       "      <td>-0.612745</td>\n",
       "      <td>1.383115</td>\n",
       "      <td>Absent</td>\n",
       "      <td>Si</td>\n",
       "    </tr>\n",
       "    <tr>\n",
       "      <th>2</th>\n",
       "      <td>-0.992806</td>\n",
       "      <td>-0.774980</td>\n",
       "      <td>-0.609245</td>\n",
       "      <td>0.884332</td>\n",
       "      <td>-0.112563</td>\n",
       "      <td>0.735519</td>\n",
       "      <td>-0.541183</td>\n",
       "      <td>0.218184</td>\n",
       "      <td>Present</td>\n",
       "      <td>No</td>\n",
       "    </tr>\n",
       "    <tr>\n",
       "      <th>3</th>\n",
       "      <td>1.546985</td>\n",
       "      <td>0.842264</td>\n",
       "      <td>0.807126</td>\n",
       "      <td>1.624141</td>\n",
       "      <td>-0.214532</td>\n",
       "      <td>1.412621</td>\n",
       "      <td>0.295062</td>\n",
       "      <td>1.040488</td>\n",
       "      <td>Present</td>\n",
       "      <td>Si</td>\n",
       "    </tr>\n",
       "    <tr>\n",
       "      <th>4</th>\n",
       "      <td>-0.211332</td>\n",
       "      <td>2.171805</td>\n",
       "      <td>-0.599577</td>\n",
       "      <td>0.305351</td>\n",
       "      <td>0.703189</td>\n",
       "      <td>-0.012856</td>\n",
       "      <td>1.647775</td>\n",
       "      <td>0.423760</td>\n",
       "      <td>Present</td>\n",
       "      <td>Si</td>\n",
       "    </tr>\n",
       "    <tr>\n",
       "      <th>...</th>\n",
       "      <td>...</td>\n",
       "      <td>...</td>\n",
       "      <td>...</td>\n",
       "      <td>...</td>\n",
       "      <td>...</td>\n",
       "      <td>...</td>\n",
       "      <td>...</td>\n",
       "      <td>...</td>\n",
       "      <td>...</td>\n",
       "      <td>...</td>\n",
       "    </tr>\n",
       "    <tr>\n",
       "      <th>457</th>\n",
       "      <td>3.696039</td>\n",
       "      <td>-0.705234</td>\n",
       "      <td>0.599263</td>\n",
       "      <td>0.812281</td>\n",
       "      <td>1.111065</td>\n",
       "      <td>0.571590</td>\n",
       "      <td>-0.696983</td>\n",
       "      <td>1.040488</td>\n",
       "      <td>Absent</td>\n",
       "      <td>No</td>\n",
       "    </tr>\n",
       "    <tr>\n",
       "      <th>458</th>\n",
       "      <td>2.133091</td>\n",
       "      <td>0.123004</td>\n",
       "      <td>-0.159680</td>\n",
       "      <td>0.861173</td>\n",
       "      <td>-0.112563</td>\n",
       "      <td>0.609602</td>\n",
       "      <td>0.068519</td>\n",
       "      <td>0.629336</td>\n",
       "      <td>Absent</td>\n",
       "      <td>Si</td>\n",
       "    </tr>\n",
       "    <tr>\n",
       "      <th>459</th>\n",
       "      <td>-1.481228</td>\n",
       "      <td>-0.138545</td>\n",
       "      <td>-1.522877</td>\n",
       "      <td>-1.309364</td>\n",
       "      <td>-1.336191</td>\n",
       "      <td>-1.414575</td>\n",
       "      <td>0.392385</td>\n",
       "      <td>0.834912</td>\n",
       "      <td>Absent</td>\n",
       "      <td>No</td>\n",
       "    </tr>\n",
       "    <tr>\n",
       "      <th>460</th>\n",
       "      <td>-0.992806</td>\n",
       "      <td>0.384553</td>\n",
       "      <td>3.320823</td>\n",
       "      <td>0.692625</td>\n",
       "      <td>1.111065</td>\n",
       "      <td>0.310252</td>\n",
       "      <td>0.283203</td>\n",
       "      <td>-0.192969</td>\n",
       "      <td>Absent</td>\n",
       "      <td>No</td>\n",
       "    </tr>\n",
       "    <tr>\n",
       "      <th>461</th>\n",
       "      <td>-0.309016</td>\n",
       "      <td>-0.792417</td>\n",
       "      <td>0.038515</td>\n",
       "      <td>1.029720</td>\n",
       "      <td>0.907127</td>\n",
       "      <td>-2.695129</td>\n",
       "      <td>-0.696983</td>\n",
       "      <td>0.218184</td>\n",
       "      <td>Present</td>\n",
       "      <td>Si</td>\n",
       "    </tr>\n",
       "  </tbody>\n",
       "</table>\n",
       "<p>462 rows × 10 columns</p>\n",
       "</div>"
      ],
      "text/plain": [
       "          sbp   tobacco       ldl  adiposity     typea   obesity   alcohol  \\\n",
       "0    1.058564  1.823073  0.478412  -0.295503 -0.418470 -0.176786  3.277738   \n",
       "1    0.277089 -0.790237 -0.159680   0.412140  0.193344  0.671373 -0.612745   \n",
       "2   -0.992806 -0.774980 -0.609245   0.884332 -0.112563  0.735519 -0.541183   \n",
       "3    1.546985  0.842264  0.807126   1.624141 -0.214532  1.412621  0.295062   \n",
       "4   -0.211332  2.171805 -0.599577   0.305351  0.703189 -0.012856  1.647775   \n",
       "..        ...       ...       ...        ...       ...       ...       ...   \n",
       "457  3.696039 -0.705234  0.599263   0.812281  1.111065  0.571590 -0.696983   \n",
       "458  2.133091  0.123004 -0.159680   0.861173 -0.112563  0.609602  0.068519   \n",
       "459 -1.481228 -0.138545 -1.522877  -1.309364 -1.336191 -1.414575  0.392385   \n",
       "460 -0.992806  0.384553  3.320823   0.692625  1.111065  0.310252  0.283203   \n",
       "461 -0.309016 -0.792417  0.038515   1.029720  0.907127 -2.695129 -0.696983   \n",
       "\n",
       "          age  famhist chd  \n",
       "0    0.629336  Present  Si  \n",
       "1    1.383115   Absent  Si  \n",
       "2    0.218184  Present  No  \n",
       "3    1.040488  Present  Si  \n",
       "4    0.423760  Present  Si  \n",
       "..        ...      ...  ..  \n",
       "457  1.040488   Absent  No  \n",
       "458  0.629336   Absent  Si  \n",
       "459  0.834912   Absent  No  \n",
       "460 -0.192969   Absent  No  \n",
       "461  0.218184  Present  Si  \n",
       "\n",
       "[462 rows x 10 columns]"
      ]
     },
     "execution_count": 12,
     "metadata": {},
     "output_type": "execute_result"
    }
   ],
   "source": [
    "corazonStd"
   ]
  },
  {
   "cell_type": "markdown",
   "id": "bb80986c",
   "metadata": {
    "id": "bb80986c"
   },
   "source": [
    "Vamos ahora a explorar las distribuciones de los valores de las variables numéricas del dataset a partir de un diagrama de boxplot:"
   ]
  },
  {
   "cell_type": "code",
   "execution_count": 13,
   "id": "27d38f51",
   "metadata": {
    "colab": {
     "base_uri": "https://localhost:8080/",
     "height": 609
    },
    "id": "27d38f51",
    "outputId": "3162e345-e63e-4d77-eb44-207941a0f02f"
   },
   "outputs": [
    {
     "data": {
      "text/plain": [
       "<AxesSubplot:>"
      ]
     },
     "execution_count": 13,
     "metadata": {},
     "output_type": "execute_result"
    },
    {
     "data": {
      "image/png": "[encoded data removed]",
      "text/plain": [
       "<Figure size 1080x720 with 1 Axes>"
      ]
     },
     "metadata": {
      "needs_background": "light"
     },
     "output_type": "display_data"
    }
   ],
   "source": [
    "corazonStd[numericVars.columns].boxplot(figsize=(15,10))"
   ]
  },
  {
   "cell_type": "markdown",
   "id": "4ed4fce6",
   "metadata": {
    "id": "4ed4fce6"
   },
   "source": [
    "Encontramos que hay valores excepcionales pero no consideramos que sean anómalos, por lo que no eliminamos registros.\n",
    "\n",
    "Podemos tratar de entender la influencia de cada variable predictiva en la predicción de la variable objetivo, de manera aislada e independiente de las otras variables, a partir de un plot de densidad. Visualicemos la distribución de los valores de la variable age para los individuos con y sin problemas cardiacos:"
   ]
  },
  {
   "cell_type": "code",
   "execution_count": 14,
   "id": "879aa091",
   "metadata": {
    "colab": {
     "base_uri": "https://localhost:8080/",
     "height": 386
    },
    "id": "879aa091",
    "outputId": "aaed4294-1622-4775-efbb-ce201e19ff38"
   },
   "outputs": [
    {
     "data": {
      "text/plain": [
       "<seaborn.axisgrid.FacetGrid at 0x25fd5602b80>"
      ]
     },
     "execution_count": 14,
     "metadata": {},
     "output_type": "execute_result"
    },
    {
     "data": {
      "image/png": "[encoded data removed]",
      "text/plain": [
       "<Figure size 409.5x360 with 1 Axes>"
      ]
     },
     "metadata": {
      "needs_background": "light"
     },
     "output_type": "display_data"
    }
   ],
   "source": [
    "sns.displot(corazon,x='age',hue='chd',kind='kde',fill=True)"
   ]
  },
  {
   "cell_type": "markdown",
   "id": "83f4f80d",
   "metadata": {
    "id": "83f4f80d"
   },
   "source": [
    "En el gráfico anterior podemos ver que las personas de mayor edad son más propensas a desarrollar enfermedades cardíacas\n",
    "\n",
    "Veamos como se comporta la variable tobacco:"
   ]
  },
  {
   "cell_type": "code",
   "execution_count": 15,
   "id": "dea92198",
   "metadata": {
    "colab": {
     "base_uri": "https://localhost:8080/",
     "height": 386
    },
    "id": "dea92198",
    "outputId": "c71acd39-918a-474a-ff8e-0bae6988508d"
   },
   "outputs": [
    {
     "data": {
      "text/plain": [
       "<seaborn.axisgrid.FacetGrid at 0x25fd563ebb0>"
      ]
     },
     "execution_count": 15,
     "metadata": {},
     "output_type": "execute_result"
    },
    {
     "data": {
      "image/png": "[encoded data removed]",
      "text/plain": [
       "<Figure size 409.5x360 with 1 Axes>"
      ]
     },
     "metadata": {
      "needs_background": "light"
     },
     "output_type": "display_data"
    }
   ],
   "source": [
    "sns.displot(corazon,x='tobacco',hue='chd',kind='kde',fill=True)"
   ]
  },
  {
   "cell_type": "markdown",
   "id": "7e0f4504",
   "metadata": {
    "id": "7e0f4504"
   },
   "source": [
    "Vemos que las personas que consumen muy poco tabaco son muchísimo menos propensas a desarrollar enfermedades cardiacas, y vicecersa."
   ]
  },
  {
   "cell_type": "markdown",
   "id": "5c075db5",
   "metadata": {
    "id": "5c075db5"
   },
   "source": [
    "# 2. Modelo de regresión logística"
   ]
  },
  {
   "cell_type": "markdown",
   "id": "562f2ede",
   "metadata": {
    "id": "562f2ede"
   },
   "source": [
    "Vale la pena recalcar el hecho de que no vamos a seguir aún ningún protocolo de evaluación que permita obtener una idea clara de las capacidades de generalización del modelo a datos diferentes a los del dataset de entrenamiento: vamos a entrenar y a evaluar el modelo sobre el mismo dataset.\n",
    "\n",
    "Utilizaremos el LogisticRegression del paquete sklearn. Algunos de los parámetros del método son los siguientes:\n",
    "- penalty: término de fenalización para realizar regularización.\n",
    "- fit_intercept: para especificar si una constante (el intercepto o sesgo) se debe añadir a la función\n",
    "- random_state: establece la semilla al generador aleatorio de tal manera que los resultados sean deterministas (se puedan replicar)\n",
    "- solver: algoritmo a utilizarse en el problema de optimización\n",
    "\n",
    "Vamos a entrenar un primer modelo de regresión logística sobre el dataset, utilizando solamente la variable ldl, sobre el dataset sin estandarizar:\n",
    "\n",
    "Para ello haremos uso de la función fit a la cual le pasaremos una matriz de forma (n,m), donde n es la cantidad de muestras y m la cantidad de predictores, y un vector de etiquetas de forma (n,).\n",
    "\n",
    "Además, podemos ver los coeficientes asociados a cada variable predictiva. En este caso hay una sola variable predictiva, ldl, que presenta un coeficiente de 0.2739.\n"
   ]
  },
  {
   "cell_type": "code",
   "execution_count": 16,
   "id": "MGZCV8kG3Q1k",
   "metadata": {
    "id": "MGZCV8kG3Q1k"
   },
   "outputs": [],
   "source": [
    "from sklearn.model_selection import train_test_split\n",
    "from sklearn.metrics import classification_report"
   ]
  },
  {
   "cell_type": "code",
   "execution_count": 17,
   "id": "8fc6a068",
   "metadata": {
    "id": "8fc6a068"
   },
   "outputs": [],
   "source": [
    "X1 = pd.DataFrame(corazon['ldl'])\n",
    "y = corazon['chd']\n",
    "X_train, X_test, y_train, y_test = train_test_split(X1, y, test_size=0.2)"
   ]
  },
  {
   "cell_type": "code",
   "execution_count": 18,
   "id": "4kR3te7J3VAx",
   "metadata": {
    "colab": {
     "base_uri": "https://localhost:8080/"
    },
    "id": "4kR3te7J3VAx",
    "outputId": "ff6ecede-d04d-4253-acfb-6c3de35e0117"
   },
   "outputs": [
    {
     "data": {
      "text/plain": [
       "0.27814384063806075"
      ]
     },
     "execution_count": 18,
     "metadata": {},
     "output_type": "execute_result"
    }
   ],
   "source": [
    "logReg1 = LogisticRegression(random_state=0).fit(X_train,y_train)\n",
    "logReg1.coef_[0][0]"
   ]
  },
  {
   "cell_type": "markdown",
   "id": "5a3d98d0",
   "metadata": {
    "id": "5a3d98d0"
   },
   "source": [
    "Para poder realizar las predicciones se utiliza el método predict. Se recibe como parámetro la matriz de variables independientes, aunque en este caso tan solo involucra la variable independiente ldl.\n",
    "\n",
    "Se pueden observar las primeras 5 predicciones."
   ]
  },
  {
   "cell_type": "code",
   "execution_count": 19,
   "id": "bbf4c190",
   "metadata": {
    "colab": {
     "base_uri": "https://localhost:8080/"
    },
    "id": "bbf4c190",
    "outputId": "b4462865-70a8-4991-e05b-b8704494a72e"
   },
   "outputs": [
    {
     "data": {
      "text/plain": [
       "array(['No', 'Si', 'No', 'No', 'No'], dtype=object)"
      ]
     },
     "execution_count": 19,
     "metadata": {},
     "output_type": "execute_result"
    }
   ],
   "source": [
    "preds1 = logReg1.predict(X_test)\n",
    "preds1[0:5]"
   ]
  },
  {
   "cell_type": "markdown",
   "id": "f96cc3d6",
   "metadata": {
    "id": "f96cc3d6"
   },
   "source": [
    "Con el método predict_proba obtenemos la probabilidad de pertenecer a cada categoría de la clase. En este caso particular podemos observar la probabilidad de que el resultado sea Si"
   ]
  },
  {
   "cell_type": "code",
   "execution_count": 20,
   "id": "3a25100b",
   "metadata": {
    "colab": {
     "base_uri": "https://localhost:8080/"
    },
    "id": "3a25100b",
    "outputId": "da7de12c-6ad8-4fc0-afde-6342e244fc82"
   },
   "outputs": [
    {
     "data": {
      "text/plain": [
       "array([0.20168228, 0.66304388, 0.49121096, 0.26561071, 0.2749357 ])"
      ]
     },
     "execution_count": 20,
     "metadata": {},
     "output_type": "execute_result"
    }
   ],
   "source": [
    "preds1_prob = logReg1.predict_proba(X_test)\n",
    "preds1_prob[0:5,1]"
   ]
  },
  {
   "cell_type": "markdown",
   "id": "72d5acea",
   "metadata": {
    "id": "72d5acea"
   },
   "source": [
    "Con el método score obtenemos la exactitud o accuracy de nuestro modelo, en este caso el 66.6%"
   ]
  },
  {
   "cell_type": "code",
   "execution_count": 21,
   "id": "ee2e6dc1",
   "metadata": {
    "colab": {
     "base_uri": "https://localhost:8080/"
    },
    "id": "ee2e6dc1",
    "outputId": "a7a70611-59b7-4cfa-c9fa-a8434ee761fd"
   },
   "outputs": [
    {
     "data": {
      "text/plain": [
       "0.6344086021505376"
      ]
     },
     "execution_count": 21,
     "metadata": {},
     "output_type": "execute_result"
    }
   ],
   "source": [
    "logReg1.score(X_test,y_test)"
   ]
  },
  {
   "cell_type": "code",
   "execution_count": 22,
   "id": "xCoc8a0_5cGf",
   "metadata": {
    "colab": {
     "base_uri": "https://localhost:8080/"
    },
    "id": "xCoc8a0_5cGf",
    "outputId": "37843af2-fc24-4122-dec2-947fdde24ab2"
   },
   "outputs": [
    {
     "data": {
      "text/plain": [
       "No    55\n",
       "Si    38\n",
       "Name: chd, dtype: int64"
      ]
     },
     "execution_count": 22,
     "metadata": {},
     "output_type": "execute_result"
    }
   ],
   "source": [
    "y_test.value_counts()"
   ]
  },
  {
   "cell_type": "code",
   "execution_count": 23,
   "id": "lhheVILi32fC",
   "metadata": {
    "colab": {
     "base_uri": "https://localhost:8080/"
    },
    "id": "lhheVILi32fC",
    "outputId": "76d0b94b-363d-46c6-98e9-38e1bc51d449"
   },
   "outputs": [
    {
     "name": "stdout",
     "output_type": "stream",
     "text": [
      "              precision    recall  f1-score   support\n",
      "\n",
      "          No       0.63      0.95      0.75        55\n",
      "          Si       0.70      0.18      0.29        38\n",
      "\n",
      "    accuracy                           0.63        93\n",
      "   macro avg       0.66      0.56      0.52        93\n",
      "weighted avg       0.66      0.63      0.56        93\n",
      "\n",
      "[[52  3]\n",
      " [31  7]]\n"
     ]
    }
   ],
   "source": [
    "from sklearn.metrics import confusion_matrix\n",
    "print(classification_report(y_test, preds1))\n",
    "print(confusion_matrix(y_test, preds1))"
   ]
  },
  {
   "cell_type": "markdown",
   "id": "96309047",
   "metadata": {
    "id": "96309047"
   },
   "source": [
    "En este caso, en vez de utilizar la variable ldl para implementar nuestro modelo, lo hacemos con age"
   ]
  },
  {
   "cell_type": "code",
   "execution_count": 24,
   "id": "e74b281e",
   "metadata": {
    "colab": {
     "base_uri": "https://localhost:8080/"
    },
    "id": "e74b281e",
    "outputId": "f1628649-572f-459c-8f22-a1e20bcb0786"
   },
   "outputs": [
    {
     "data": {
      "text/plain": [
       "array(['No', 'No', 'Si', 'Si', 'No'], dtype=object)"
      ]
     },
     "execution_count": 24,
     "metadata": {},
     "output_type": "execute_result"
    }
   ],
   "source": [
    "X2 = pd.DataFrame(corazon['age'])\n",
    "\n",
    "X_train, X_test, y_train, y_test = train_test_split(X2, y, test_size=0.2)\n",
    "logReg2 = LogisticRegression(random_state=0).fit(X_train,y_train)\n",
    "preds2 = logReg2.predict(X_test)\n",
    "preds2[0:5]"
   ]
  },
  {
   "cell_type": "code",
   "execution_count": 25,
   "id": "f9d5ec8a",
   "metadata": {
    "colab": {
     "base_uri": "https://localhost:8080/"
    },
    "id": "f9d5ec8a",
    "outputId": "08ada4ba-df1d-43a1-8eac-54067b042cfc"
   },
   "outputs": [
    {
     "data": {
      "text/plain": [
       "array([0.33693517, 0.16932763, 0.59071544, 0.57485307, 0.11434484])"
      ]
     },
     "execution_count": 25,
     "metadata": {},
     "output_type": "execute_result"
    }
   ],
   "source": [
    "preds2_prob = logReg2.predict_proba(X_test)\n",
    "preds2_prob[0:5,1]"
   ]
  },
  {
   "cell_type": "markdown",
   "id": "2b6710cf",
   "metadata": {
    "id": "2b6710cf"
   },
   "source": [
    "Se tiene un mejor ajuste de acuerdo con el nivel de accuracy de "
   ]
  },
  {
   "cell_type": "code",
   "execution_count": 26,
   "id": "MWNs1tBNR2Nw",
   "metadata": {
    "colab": {
     "base_uri": "https://localhost:8080/"
    },
    "id": "MWNs1tBNR2Nw",
    "outputId": "84464898-6811-4946-c154-1accd895f006"
   },
   "outputs": [
    {
     "name": "stdout",
     "output_type": "stream",
     "text": [
      "              precision    recall  f1-score   support\n",
      "\n",
      "          No       0.74      0.86      0.79        58\n",
      "          Si       0.68      0.49      0.57        35\n",
      "\n",
      "    accuracy                           0.72        93\n",
      "   macro avg       0.71      0.67      0.68        93\n",
      "weighted avg       0.71      0.72      0.71        93\n",
      "\n"
     ]
    }
   ],
   "source": [
    "print(classification_report(y_test, preds2))"
   ]
  },
  {
   "cell_type": "code",
   "execution_count": 27,
   "id": "4ab5b496",
   "metadata": {
    "colab": {
     "base_uri": "https://localhost:8080/"
    },
    "id": "4ab5b496",
    "outputId": "11df64da-b6d6-48a0-8cc6-cc47f9a8de88"
   },
   "outputs": [
    {
     "data": {
      "text/plain": [
       "0.7204301075268817"
      ]
     },
     "execution_count": 27,
     "metadata": {},
     "output_type": "execute_result"
    }
   ],
   "source": [
    "logReg2.score(X_test,y_test)"
   ]
  },
  {
   "cell_type": "markdown",
   "id": "eb92de0a",
   "metadata": {
    "id": "eb92de0a"
   },
   "source": [
    "Utilizamos en este caso todas las variables numéricas para implementar el modelo."
   ]
  },
  {
   "cell_type": "code",
   "execution_count": 28,
   "id": "5fc64ff5",
   "metadata": {
    "colab": {
     "base_uri": "https://localhost:8080/"
    },
    "id": "5fc64ff5",
    "outputId": "a8f46b15-1c3a-451e-8384-0a024d7dcaaa"
   },
   "outputs": [
    {
     "data": {
      "text/plain": [
       "array(['Si', 'No', 'No', 'No', 'No'], dtype=object)"
      ]
     },
     "execution_count": 28,
     "metadata": {},
     "output_type": "execute_result"
    }
   ],
   "source": [
    "X3 = pd.DataFrame(corazon[numericVars.columns])\n",
    "y = corazon['chd']\n",
    "X_train, X_test, y_train, y_test = train_test_split(X3, y, test_size=0.2)\n",
    "logReg3 = LogisticRegression(random_state=0).fit(X_train,y_train)\n",
    "preds3 = logReg3.predict(X_test)\n",
    "preds3[0:5]"
   ]
  },
  {
   "cell_type": "code",
   "execution_count": 29,
   "id": "b427de52",
   "metadata": {
    "colab": {
     "base_uri": "https://localhost:8080/"
    },
    "id": "b427de52",
    "outputId": "7c74d91b-4568-4759-9e86-8eadfcca7968"
   },
   "outputs": [
    {
     "data": {
      "text/plain": [
       "array([0.87779488, 0.39060195, 0.47610466, 0.46971463, 0.37086275])"
      ]
     },
     "execution_count": 29,
     "metadata": {},
     "output_type": "execute_result"
    }
   ],
   "source": [
    "preds3_prob = logReg3.predict_proba(X_test)\n",
    "preds3_prob[0:5,1]"
   ]
  },
  {
   "cell_type": "markdown",
   "id": "4a925d55",
   "metadata": {
    "id": "4a925d55"
   },
   "source": [
    "Se obtiene un accuracy del"
   ]
  },
  {
   "cell_type": "code",
   "execution_count": 30,
   "id": "RxsdyqexTG7y",
   "metadata": {
    "colab": {
     "base_uri": "https://localhost:8080/"
    },
    "id": "RxsdyqexTG7y",
    "outputId": "cbfd1457-558d-43fc-8efe-93cd66b0f2e0"
   },
   "outputs": [
    {
     "name": "stdout",
     "output_type": "stream",
     "text": [
      "              precision    recall  f1-score   support\n",
      "\n",
      "          No       0.76      0.89      0.82        63\n",
      "          Si       0.63      0.40      0.49        30\n",
      "\n",
      "    accuracy                           0.73        93\n",
      "   macro avg       0.69      0.64      0.65        93\n",
      "weighted avg       0.72      0.73      0.71        93\n",
      "\n"
     ]
    }
   ],
   "source": [
    "print(classification_report(y_test, preds3))"
   ]
  },
  {
   "cell_type": "code",
   "execution_count": 31,
   "id": "baebd3a0",
   "metadata": {
    "colab": {
     "base_uri": "https://localhost:8080/"
    },
    "id": "baebd3a0",
    "outputId": "93356db3-a32a-415c-f43f-60647b4d70bb"
   },
   "outputs": [
    {
     "data": {
      "text/plain": [
       "0.7311827956989247"
      ]
     },
     "execution_count": 31,
     "metadata": {},
     "output_type": "execute_result"
    }
   ],
   "source": [
    "logReg3.score(X_test,y_test)"
   ]
  },
  {
   "cell_type": "markdown",
   "id": "6f47f715",
   "metadata": {
    "id": "6f47f715"
   },
   "source": [
    "# 3. Modelo KNN"
   ]
  },
  {
   "cell_type": "markdown",
   "id": "a3d64d49",
   "metadata": {
    "id": "a3d64d49"
   },
   "source": [
    "Vamos a utilizar ahora el [KNeighborsClassifier](https://scikit-learn.org/stable/modules/generated/sklearn.neighbors.KNeighborsClassifier.html) de sklearn. Algunos parámetros de este método son:\n",
    "\n",
    "- n_neighbors: la cantidad de vecinos a utilizar para realizar la predicción\n",
    "- algorithm: algoritmo utilizado para computar los vecinos más cercanos\n",
    "- metric: métrica para establecer la distancia entre las observaciones\n",
    "\n",
    "1. Vamos a entrenar un primer modelo de KNN sobre el dataset sin estandarizar. Hay que tener en cuenta que la variable famhist es categórica con dos variables, por lo que no la vamos a tener en cuenta.\n",
    "\n",
    "Vamos a considerar las primeras 362 instancias como set de entrenamieno y las últimas como set de test. Cuidado: esto se puede hacer cuando se sabe que los datos no están ordenados. Separamos las variables predictivas de la objetivo."
   ]
  },
  {
   "cell_type": "code",
   "execution_count": 79,
   "id": "bba38611",
   "metadata": {
    "colab": {
     "base_uri": "https://localhost:8080/"
    },
    "id": "bba38611",
    "outputId": "fbdd61ae-f932-4da1-8bbd-bafb45d731c6"
   },
   "outputs": [
    {
     "data": {
      "text/plain": [
       "Index(['sbp', 'tobacco', 'ldl', 'adiposity', 'famhist', 'typea', 'obesity',\n",
       "       'alcohol', 'age', 'chd'],\n",
       "      dtype='object')"
      ]
     },
     "execution_count": 79,
     "metadata": {},
     "output_type": "execute_result"
    }
   ],
   "source": [
    "corazon.shape\n",
    "corazon.columns"
   ]
  },
  {
   "cell_type": "code",
   "execution_count": 80,
   "id": "c5d1f057",
   "metadata": {
    "id": "c5d1f057"
   },
   "outputs": [],
   "source": [
    "train_X = corazon.iloc[0:362, [0,1,2,3,5,6,7,8]]\n",
    "train_y = corazon.iloc[0:362, 9]"
   ]
  },
  {
   "cell_type": "code",
   "execution_count": 81,
   "id": "9f963c87",
   "metadata": {
    "id": "9f963c87"
   },
   "outputs": [],
   "source": [
    "test_X = corazon.iloc[362:, [0,1,2,3,5,6,7,8]]\n",
    "test_y = corazon.iloc[362:, 9]"
   ]
  },
  {
   "cell_type": "markdown",
   "id": "0084e137",
   "metadata": {
    "id": "0084e137"
   },
   "source": [
    "Vamos ahora a predecir la clase de las instancias del test set, utilizando el modelo knn con k=5. Entrene y genere el reporte de clasificación"
   ]
  },
  {
   "cell_type": "code",
   "execution_count": null,
   "id": "7dd8edf8",
   "metadata": {
    "id": "7dd8edf8"
   },
   "outputs": [],
   "source": [
    "k = 5\n",
    "\n",
    "\n"
   ]
  },
  {
   "cell_type": "markdown",
   "id": "ulJRoBJ5Vbin",
   "metadata": {
    "id": "ulJRoBJ5Vbin"
   },
   "source": [
    "Zhora con k=15"
   ]
  },
  {
   "cell_type": "code",
   "execution_count": null,
   "id": "8d90f275",
   "metadata": {
    "id": "8d90f275"
   },
   "outputs": [],
   "source": [
    "k = 15\n",
    "\n",
    "\n",
    "\n"
   ]
  },
  {
   "cell_type": "markdown",
   "id": "f58855e7",
   "metadata": {
    "id": "f58855e7"
   },
   "source": [
    "Qué modelo es mejor? Tenga en cuenta el contexto del problema"
   ]
  },
  {
   "cell_type": "markdown",
   "id": "wwMdS5khVnLS",
   "metadata": {
    "id": "wwMdS5khVnLS"
   },
   "source": [
    "Intente buscar un k mejor "
   ]
  },
  {
   "cell_type": "code",
   "execution_count": null,
   "id": "ErBmzcLrVmdV",
   "metadata": {
    "id": "ErBmzcLrVmdV"
   },
   "outputs": [],
   "source": []
  }
 ],
 "metadata": {
  "colab": {
   "collapsed_sections": [],
   "name": "03-02-SAHeartDisease-LogReg+KNN_STUD.ipynb",
   "provenance": []
  },
  "kernelspec": {
   "display_name": "Python 3 (ipykernel)",
   "language": "python",
   "name": "python3"
  },
  "language_info": {
   "codemirror_mode": {
    "name": "ipython",
    "version": 3
   },
   "file_extension": ".py",
   "mimetype": "text/x-python",
   "name": "python",
   "nbconvert_exporter": "python",
   "pygments_lexer": "ipython3",
   "version": "3.9.7"
  }
 },
 "nbformat": 4,
 "nbformat_minor": 5
}
