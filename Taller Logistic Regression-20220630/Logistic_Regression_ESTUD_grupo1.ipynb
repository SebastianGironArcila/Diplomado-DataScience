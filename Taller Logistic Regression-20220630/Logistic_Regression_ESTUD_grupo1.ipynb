{
 "cells": [
  {
   "cell_type": "markdown",
   "metadata": {
    "id": "CkvnpAlVyef5"
   },
   "source": [
    "En este caso, llevaremos a cabo un recorrido exhaustivo de un problema de ciencia de datos de clasificación binaria. Nuestro objetivo es combinar las diversas técnicas de pre-modelado que hemos aprendido con la validación cruzada para afinar un modelo de regresión logística.\n",
    "Además, introducimos varias métricas (ROC/AUC) para evaluar el rendimiento de nuestro modelo de clasificación, que es intrínsecamente diferente de los anteriores modelos de regresión lineal que hemos encontrado. Este objetivo puede parecer un poco intimidante o técnico, pero al final del caso, todos estos términos deberían estar claros para usted."
   ]
  },
  {
   "cell_type": "code",
   "execution_count": 1,
   "metadata": {
    "id": "MGbfIPIkyCfJ"
   },
   "outputs": [],
   "source": [
    "### Load relevant packages\n",
    "import pandas                  as pd\n",
    "import numpy                   as np\n",
    "import matplotlib.pyplot       as plt\n",
    "import seaborn                 as sns\n",
    "import os\n",
    "\n",
    "from scipy import stats\n",
    "from sklearn.model_selection import train_test_split\n",
    "\n",
    "%matplotlib inline\n",
    "plt.style.use('ggplot')\n",
    "\n",
    "import warnings\n",
    "warnings.filterwarnings('ignore')"
   ]
  },
  {
   "cell_type": "markdown",
   "metadata": {
    "id": "JJ6QGHejyn82"
   },
   "source": [
    "## Contexto"
   ]
  },
  {
   "cell_type": "markdown",
   "metadata": {
    "id": "ShEhWipwysBR"
   },
   "source": [
    "Los bancos comerciales tradicionales no solían basarse en modelos estadísticos para decidir si debían emitirse préstamos personales, aunque esto está cambiando rápidamente en la actualidad. Usted es un científico de datos que trabaja en un banco comercial moderno. Su equipo de ciencia de datos ya ha construido modelos de regresión sencillos para predecir la probabilidad de que esos préstamos sean incumplidos. Sin embargo, ha observado que muchos de estos modelos funcionan mucho peor en producción que en las pruebas."
   ]
  },
  {
   "cell_type": "markdown",
   "metadata": {
    "id": "2AjPLVGDy8ce"
   },
   "source": [
    "Su tarea consiste en crear un modelo de probabilidad de incumplimiento que le resulte cómodo poner en producción."
   ]
  },
  {
   "cell_type": "markdown",
   "metadata": {
    "id": "iacAY8U1zBJK"
   },
   "source": [
    "El conjunto de datos contiene los detalles de 5.000 solicitudes de préstamo que han sido emitidas previamente por su banco. Para cada préstamo, también se dispone del estado final del mismo (es decir, si el préstamo ha entrado en mora):\n",
    "El archivo \"loan_light.csv\" contiene los detalles de 5000 préstamos\n",
    "El archivo \"loan_param.xlsx\" contiene la descripción de cada covariable\n",
    "El caso se desarrollará de la siguiente manera: 1) realizará una exploración de los datos para determinar las transformaciones adecuadas de las variables; 2) ajustará algunos modelos simples; 3) aprenderá sobre la validación cruzada y la utilizará para seleccionar el mejor modelo simple; y finalmente 4) construirá responsablemente modelos más complejos utilizando la validación cruzada."
   ]
  },
  {
   "cell_type": "markdown",
   "metadata": {
    "id": "HDGSDV19zeVJ"
   },
   "source": [
    "## Ejericios"
   ]
  },
  {
   "cell_type": "markdown",
   "metadata": {
    "id": "MuHat4PkzgVA"
   },
   "source": [
    "1. Cargue los datos y el diccionario de variables."
   ]
  },
  {
   "cell_type": "code",
   "execution_count": 2,
   "metadata": {
    "id": "VjnZoF79yjou"
   },
   "outputs": [
    {
     "data": {
      "text/html": [
       "<style type=\"text/css\">\n",
       "#T_deb68_row0_col1, #T_deb68_row1_col1, #T_deb68_row2_col1, #T_deb68_row3_col1, #T_deb68_row4_col1, #T_deb68_row5_col1, #T_deb68_row6_col1, #T_deb68_row7_col1, #T_deb68_row8_col1, #T_deb68_row9_col1, #T_deb68_row10_col1, #T_deb68_row11_col1, #T_deb68_row12_col1, #T_deb68_row13_col1, #T_deb68_row14_col1, #T_deb68_row15_col1, #T_deb68_row16_col1, #T_deb68_row17_col1, #T_deb68_row18_col1, #T_deb68_row19_col1, #T_deb68_row20_col1 {\n",
       "  width: 1000px;\n",
       "}\n",
       "</style>\n",
       "<table id=\"T_deb68_\">\n",
       "  <thead>\n",
       "    <tr>\n",
       "      <th class=\"blank level0\" >&nbsp;</th>\n",
       "      <th class=\"col_heading level0 col0\" >BrowseNotesFile</th>\n",
       "      <th class=\"col_heading level0 col1\" >Description</th>\n",
       "    </tr>\n",
       "  </thead>\n",
       "  <tbody>\n",
       "    <tr>\n",
       "      <th id=\"T_deb68_level0_row0\" class=\"row_heading level0 row0\" >0</th>\n",
       "      <td id=\"T_deb68_row0_col0\" class=\"data row0 col0\" >loanAmnt</td>\n",
       "      <td id=\"T_deb68_row0_col1\" class=\"data row0 col1\" >The listed amount of the loan applied for by the borrower. If at some point in time, the credit department reduces the loan amount, then it will be reflected in this value.</td>\n",
       "    </tr>\n",
       "    <tr>\n",
       "      <th id=\"T_deb68_level0_row1\" class=\"row_heading level0 row1\" >1</th>\n",
       "      <td id=\"T_deb68_row1_col0\" class=\"data row1 col0\" >annualInc</td>\n",
       "      <td id=\"T_deb68_row1_col1\" class=\"data row1 col1\" >The self-reported annual income provided by the borrower during registration.</td>\n",
       "    </tr>\n",
       "    <tr>\n",
       "      <th id=\"T_deb68_level0_row2\" class=\"row_heading level0 row2\" >2</th>\n",
       "      <td id=\"T_deb68_row2_col0\" class=\"data row2 col0\" >application_type</td>\n",
       "      <td id=\"T_deb68_row2_col1\" class=\"data row2 col1\" >Indicates whether the loan is an individual application or a joint application with two co-borrowers</td>\n",
       "    </tr>\n",
       "    <tr>\n",
       "      <th id=\"T_deb68_level0_row3\" class=\"row_heading level0 row3\" >3</th>\n",
       "      <td id=\"T_deb68_row3_col0\" class=\"data row3 col0\" >avg_cur_bal</td>\n",
       "      <td id=\"T_deb68_row3_col1\" class=\"data row3 col1\" >Average current balance of all accounts</td>\n",
       "    </tr>\n",
       "    <tr>\n",
       "      <th id=\"T_deb68_level0_row4\" class=\"row_heading level0 row4\" >4</th>\n",
       "      <td id=\"T_deb68_row4_col0\" class=\"data row4 col0\" >chargeoff_within_12_mths</td>\n",
       "      <td id=\"T_deb68_row4_col1\" class=\"data row4 col1\" >Number of charge-offs within 12 months</td>\n",
       "    </tr>\n",
       "    <tr>\n",
       "      <th id=\"T_deb68_level0_row5\" class=\"row_heading level0 row5\" >5</th>\n",
       "      <td id=\"T_deb68_row5_col0\" class=\"data row5 col0\" >delinq2Yrs</td>\n",
       "      <td id=\"T_deb68_row5_col1\" class=\"data row5 col1\" >The number of 30+ days past-due incidences of delinquency in the borrower's credit file for the past 2 years</td>\n",
       "    </tr>\n",
       "    <tr>\n",
       "      <th id=\"T_deb68_level0_row6\" class=\"row_heading level0 row6\" >6</th>\n",
       "      <td id=\"T_deb68_row6_col0\" class=\"data row6 col0\" >dti</td>\n",
       "      <td id=\"T_deb68_row6_col1\" class=\"data row6 col1\" >A ratio calculated using the borrower’s total monthly debt payments on the total debt obligations, excluding mortgage and the requested LC loan, divided by the borrower’s self-reported monthly income.</td>\n",
       "    </tr>\n",
       "    <tr>\n",
       "      <th id=\"T_deb68_level0_row7\" class=\"row_heading level0 row7\" >7</th>\n",
       "      <td id=\"T_deb68_row7_col0\" class=\"data row7 col0\" >emp_length</td>\n",
       "      <td id=\"T_deb68_row7_col1\" class=\"data row7 col1\" >Employment length in years. Possible values are between 0 and 10 where 0 means less than one year and 10 means ten or more years.</td>\n",
       "    </tr>\n",
       "    <tr>\n",
       "      <th id=\"T_deb68_level0_row8\" class=\"row_heading level0 row8\" >8</th>\n",
       "      <td id=\"T_deb68_row8_col0\" class=\"data row8 col0\" >grade</td>\n",
       "      <td id=\"T_deb68_row8_col1\" class=\"data row8 col1\" >LC assigned loan grade</td>\n",
       "    </tr>\n",
       "    <tr>\n",
       "      <th id=\"T_deb68_level0_row9\" class=\"row_heading level0 row9\" >9</th>\n",
       "      <td id=\"T_deb68_row9_col0\" class=\"data row9 col0\" >homeOwnership</td>\n",
       "      <td id=\"T_deb68_row9_col1\" class=\"data row9 col1\" >The home ownership status provided by the borrower during registration. Our values are: RENT, OWN, MORTGAGE, OTHER.</td>\n",
       "    </tr>\n",
       "    <tr>\n",
       "      <th id=\"T_deb68_level0_row10\" class=\"row_heading level0 row10\" >10</th>\n",
       "      <td id=\"T_deb68_row10_col0\" class=\"data row10 col0\" >inq_last_12m</td>\n",
       "      <td id=\"T_deb68_row10_col1\" class=\"data row10 col1\" >Number of credit inquiries in past 12 months</td>\n",
       "    </tr>\n",
       "    <tr>\n",
       "      <th id=\"T_deb68_level0_row11\" class=\"row_heading level0 row11\" >11</th>\n",
       "      <td id=\"T_deb68_row11_col0\" class=\"data row11 col0\" >installment</td>\n",
       "      <td id=\"T_deb68_row11_col1\" class=\"data row11 col1\" >The monthly payment owed by the borrower if the loan originates.</td>\n",
       "    </tr>\n",
       "    <tr>\n",
       "      <th id=\"T_deb68_level0_row12\" class=\"row_heading level0 row12\" >12</th>\n",
       "      <td id=\"T_deb68_row12_col0\" class=\"data row12 col0\" >job</td>\n",
       "      <td id=\"T_deb68_row12_col1\" class=\"data row12 col1\" >Job Description</td>\n",
       "    </tr>\n",
       "    <tr>\n",
       "      <th id=\"T_deb68_level0_row13\" class=\"row_heading level0 row13\" >13</th>\n",
       "      <td id=\"T_deb68_row13_col0\" class=\"data row13 col0\" >loanAmnt</td>\n",
       "      <td id=\"T_deb68_row13_col1\" class=\"data row13 col1\" >The listed amount of the loan applied for by the borrower. If at some point in time, the credit department reduces the loan amount, then it will be reflected in this value.</td>\n",
       "    </tr>\n",
       "    <tr>\n",
       "      <th id=\"T_deb68_level0_row14\" class=\"row_heading level0 row14\" >14</th>\n",
       "      <td id=\"T_deb68_row14_col0\" class=\"data row14 col0\" >loanDefault</td>\n",
       "      <td id=\"T_deb68_row14_col1\" class=\"data row14 col1\" >0: Loan was uptimated paid in full. 1: A default even occurred</td>\n",
       "    </tr>\n",
       "    <tr>\n",
       "      <th id=\"T_deb68_level0_row15\" class=\"row_heading level0 row15\" >15</th>\n",
       "      <td id=\"T_deb68_row15_col0\" class=\"data row15 col0\" >mortAcc</td>\n",
       "      <td id=\"T_deb68_row15_col1\" class=\"data row15 col1\" >Number of mortgage accounts.</td>\n",
       "    </tr>\n",
       "    <tr>\n",
       "      <th id=\"T_deb68_level0_row16\" class=\"row_heading level0 row16\" >16</th>\n",
       "      <td id=\"T_deb68_row16_col0\" class=\"data row16 col0\" >num_tl_90g_dpd_24m</td>\n",
       "      <td id=\"T_deb68_row16_col1\" class=\"data row16 col1\" >Number of accounts 90 or more days past due in last 24 months</td>\n",
       "    </tr>\n",
       "    <tr>\n",
       "      <th id=\"T_deb68_level0_row17\" class=\"row_heading level0 row17\" >17</th>\n",
       "      <td id=\"T_deb68_row17_col0\" class=\"data row17 col0\" >pub_rec_bankruptcies</td>\n",
       "      <td id=\"T_deb68_row17_col1\" class=\"data row17 col1\" >Number of public record bankruptcies</td>\n",
       "    </tr>\n",
       "    <tr>\n",
       "      <th id=\"T_deb68_level0_row18\" class=\"row_heading level0 row18\" >18</th>\n",
       "      <td id=\"T_deb68_row18_col0\" class=\"data row18 col0\" >purpose</td>\n",
       "      <td id=\"T_deb68_row18_col1\" class=\"data row18 col1\" >A category provided by the borrower for the loan request. </td>\n",
       "    </tr>\n",
       "    <tr>\n",
       "      <th id=\"T_deb68_level0_row19\" class=\"row_heading level0 row19\" >19</th>\n",
       "      <td id=\"T_deb68_row19_col0\" class=\"data row19 col0\" >term</td>\n",
       "      <td id=\"T_deb68_row19_col1\" class=\"data row19 col1\" >The number of payments on the loan. Values are in months and can be either 36 or 60.</td>\n",
       "    </tr>\n",
       "    <tr>\n",
       "      <th id=\"T_deb68_level0_row20\" class=\"row_heading level0 row20\" >20</th>\n",
       "      <td id=\"T_deb68_row20_col0\" class=\"data row20 col0\" >Year</td>\n",
       "      <td id=\"T_deb68_row20_col1\" class=\"data row20 col1\" >Year of Issue of the loan</td>\n",
       "    </tr>\n",
       "  </tbody>\n",
       "</table>\n"
      ],
      "text/plain": [
       "<pandas.io.formats.style.Styler at 0x1a4363e1160>"
      ]
     },
     "execution_count": 2,
     "metadata": {},
     "output_type": "execute_result"
    }
   ],
   "source": [
    "#Cargar csv\n",
    "\n",
    "data = pd.read_csv(\"loan_light.csv\")\n",
    "\n",
    "#pista para diccionario\n",
    "df_description = pd.read_excel('loan_param.xlsx').dropna()\n",
    "df_description.style.set_properties(subset=['Description'], **{'width': '1000px'})\n",
    "\n",
    "\n",
    "\n"
   ]
  },
  {
   "cell_type": "code",
   "execution_count": 3,
   "metadata": {
    "scrolled": true
   },
   "outputs": [
    {
     "data": {
      "text/html": [
       "<div>\n",
       "<style scoped>\n",
       "    .dataframe tbody tr th:only-of-type {\n",
       "        vertical-align: middle;\n",
       "    }\n",
       "\n",
       "    .dataframe tbody tr th {\n",
       "        vertical-align: top;\n",
       "    }\n",
       "\n",
       "    .dataframe thead th {\n",
       "        text-align: right;\n",
       "    }\n",
       "</style>\n",
       "<table border=\"1\" class=\"dataframe\">\n",
       "  <thead>\n",
       "    <tr style=\"text-align: right;\">\n",
       "      <th></th>\n",
       "      <th>annual_inc</th>\n",
       "      <th>application_type</th>\n",
       "      <th>avg_cur_bal</th>\n",
       "      <th>chargeoff_within_12_mths</th>\n",
       "      <th>delinq_2yrs</th>\n",
       "      <th>dti</th>\n",
       "      <th>emp_length</th>\n",
       "      <th>grade</th>\n",
       "      <th>inq_last_12m</th>\n",
       "      <th>installment</th>\n",
       "      <th>...</th>\n",
       "      <th>num_actv_bc_tl</th>\n",
       "      <th>pub_rec_bankruptcies</th>\n",
       "      <th>home_ownership</th>\n",
       "      <th>term</th>\n",
       "      <th>mort_acc</th>\n",
       "      <th>num_tl_90g_dpd_24m</th>\n",
       "      <th>purpose</th>\n",
       "      <th>year</th>\n",
       "      <th>loan_default</th>\n",
       "      <th>job</th>\n",
       "    </tr>\n",
       "  </thead>\n",
       "  <tbody>\n",
       "    <tr>\n",
       "      <th>0</th>\n",
       "      <td>80000.0</td>\n",
       "      <td>Individual</td>\n",
       "      <td>6746.0</td>\n",
       "      <td>0.0</td>\n",
       "      <td>0.0</td>\n",
       "      <td>15.12</td>\n",
       "      <td>10</td>\n",
       "      <td>B</td>\n",
       "      <td>1.0</td>\n",
       "      <td>743.75</td>\n",
       "      <td>...</td>\n",
       "      <td>1.0</td>\n",
       "      <td>0.0</td>\n",
       "      <td>OWN</td>\n",
       "      <td>36</td>\n",
       "      <td>0.0</td>\n",
       "      <td>0.0</td>\n",
       "      <td>debt_consolidation</td>\n",
       "      <td>2016</td>\n",
       "      <td>1</td>\n",
       "      <td>principal</td>\n",
       "    </tr>\n",
       "    <tr>\n",
       "      <th>1</th>\n",
       "      <td>60000.0</td>\n",
       "      <td>Individual</td>\n",
       "      <td>13623.0</td>\n",
       "      <td>0.0</td>\n",
       "      <td>0.0</td>\n",
       "      <td>12.32</td>\n",
       "      <td>7</td>\n",
       "      <td>D</td>\n",
       "      <td>0.0</td>\n",
       "      <td>286.73</td>\n",
       "      <td>...</td>\n",
       "      <td>3.0</td>\n",
       "      <td>0.0</td>\n",
       "      <td>MORTGAGE</td>\n",
       "      <td>60</td>\n",
       "      <td>1.0</td>\n",
       "      <td>0.0</td>\n",
       "      <td>credit_card</td>\n",
       "      <td>2017</td>\n",
       "      <td>0</td>\n",
       "      <td>other</td>\n",
       "    </tr>\n",
       "    <tr>\n",
       "      <th>2</th>\n",
       "      <td>78000.0</td>\n",
       "      <td>Individual</td>\n",
       "      <td>11011.0</td>\n",
       "      <td>0.0</td>\n",
       "      <td>0.0</td>\n",
       "      <td>25.00</td>\n",
       "      <td>1</td>\n",
       "      <td>D</td>\n",
       "      <td>6.0</td>\n",
       "      <td>869.66</td>\n",
       "      <td>...</td>\n",
       "      <td>4.0</td>\n",
       "      <td>0.0</td>\n",
       "      <td>MORTGAGE</td>\n",
       "      <td>60</td>\n",
       "      <td>3.0</td>\n",
       "      <td>0.0</td>\n",
       "      <td>debt_consolidation</td>\n",
       "      <td>2015</td>\n",
       "      <td>0</td>\n",
       "      <td>analyst</td>\n",
       "    </tr>\n",
       "    <tr>\n",
       "      <th>3</th>\n",
       "      <td>62000.0</td>\n",
       "      <td>Individual</td>\n",
       "      <td>9679.0</td>\n",
       "      <td>0.0</td>\n",
       "      <td>0.0</td>\n",
       "      <td>22.32</td>\n",
       "      <td>9</td>\n",
       "      <td>D</td>\n",
       "      <td>7.0</td>\n",
       "      <td>713.96</td>\n",
       "      <td>...</td>\n",
       "      <td>2.0</td>\n",
       "      <td>0.0</td>\n",
       "      <td>RENT</td>\n",
       "      <td>36</td>\n",
       "      <td>4.0</td>\n",
       "      <td>0.0</td>\n",
       "      <td>debt_consolidation</td>\n",
       "      <td>2017</td>\n",
       "      <td>1</td>\n",
       "      <td>other</td>\n",
       "    </tr>\n",
       "    <tr>\n",
       "      <th>4</th>\n",
       "      <td>49000.0</td>\n",
       "      <td>Individual</td>\n",
       "      <td>4925.0</td>\n",
       "      <td>0.0</td>\n",
       "      <td>0.0</td>\n",
       "      <td>32.43</td>\n",
       "      <td>10</td>\n",
       "      <td>D</td>\n",
       "      <td>0.0</td>\n",
       "      <td>366.51</td>\n",
       "      <td>...</td>\n",
       "      <td>4.0</td>\n",
       "      <td>0.0</td>\n",
       "      <td>RENT</td>\n",
       "      <td>36</td>\n",
       "      <td>0.0</td>\n",
       "      <td>0.0</td>\n",
       "      <td>debt_consolidation</td>\n",
       "      <td>2017</td>\n",
       "      <td>1</td>\n",
       "      <td>driver</td>\n",
       "    </tr>\n",
       "  </tbody>\n",
       "</table>\n",
       "<p>5 rows × 21 columns</p>\n",
       "</div>"
      ],
      "text/plain": [
       "   annual_inc application_type  avg_cur_bal  chargeoff_within_12_mths  \\\n",
       "0     80000.0       Individual       6746.0                       0.0   \n",
       "1     60000.0       Individual      13623.0                       0.0   \n",
       "2     78000.0       Individual      11011.0                       0.0   \n",
       "3     62000.0       Individual       9679.0                       0.0   \n",
       "4     49000.0       Individual       4925.0                       0.0   \n",
       "\n",
       "   delinq_2yrs    dti  emp_length grade  inq_last_12m  installment  ...  \\\n",
       "0          0.0  15.12          10     B           1.0       743.75  ...   \n",
       "1          0.0  12.32           7     D           0.0       286.73  ...   \n",
       "2          0.0  25.00           1     D           6.0       869.66  ...   \n",
       "3          0.0  22.32           9     D           7.0       713.96  ...   \n",
       "4          0.0  32.43          10     D           0.0       366.51  ...   \n",
       "\n",
       "   num_actv_bc_tl  pub_rec_bankruptcies  home_ownership term  mort_acc  \\\n",
       "0             1.0                   0.0             OWN   36       0.0   \n",
       "1             3.0                   0.0        MORTGAGE   60       1.0   \n",
       "2             4.0                   0.0        MORTGAGE   60       3.0   \n",
       "3             2.0                   0.0            RENT   36       4.0   \n",
       "4             4.0                   0.0            RENT   36       0.0   \n",
       "\n",
       "   num_tl_90g_dpd_24m             purpose  year  loan_default        job  \n",
       "0                 0.0  debt_consolidation  2016             1  principal  \n",
       "1                 0.0         credit_card  2017             0      other  \n",
       "2                 0.0  debt_consolidation  2015             0    analyst  \n",
       "3                 0.0  debt_consolidation  2017             1      other  \n",
       "4                 0.0  debt_consolidation  2017             1     driver  \n",
       "\n",
       "[5 rows x 21 columns]"
      ]
     },
     "execution_count": 3,
     "metadata": {},
     "output_type": "execute_result"
    }
   ],
   "source": [
    "data.head()"
   ]
  },
  {
   "cell_type": "markdown",
   "metadata": {
    "id": "zGDJLibtzzV1"
   },
   "source": [
    "2. Cree un gráfico de barras que muestre el número de préstamos que han entrado en mora y los que no."
   ]
  },
  {
   "cell_type": "code",
   "execution_count": 4,
   "metadata": {
    "id": "L3GWOfmoz0cp"
   },
   "outputs": [
    {
     "data": {
      "text/plain": [
       "<AxesSubplot:xlabel='loan_default', ylabel='count'>"
      ]
     },
     "execution_count": 4,
     "metadata": {},
     "output_type": "execute_result"
    },
    {
     "data": {
      "image/png": "[encoded data removed]",
      "text/plain": [
       "<Figure size 432x288 with 1 Axes>"
      ]
     },
     "metadata": {},
     "output_type": "display_data"
    }
   ],
   "source": [
    "\n",
    "sns.countplot(x='loan_default', data=data)\n"
   ]
  },
  {
   "cell_type": "markdown",
   "metadata": {
    "id": "SdKOrEUHz1dg"
   },
   "source": [
    "3. Crea un histograma de los ingresos anuales y describelo."
   ]
  },
  {
   "cell_type": "code",
   "execution_count": 5,
   "metadata": {
    "id": "ngbIGxmGz9AK"
   },
   "outputs": [
    {
     "data": {
      "text/plain": [
       "<AxesSubplot:xlabel='annual_inc', ylabel='Count'>"
      ]
     },
     "execution_count": 5,
     "metadata": {},
     "output_type": "execute_result"
    },
    {
     "data": {
      "image/png": "[encoded data removed]",
      "text/plain": [
       "<Figure size 1080x576 with 1 Axes>"
      ]
     },
     "metadata": {},
     "output_type": "display_data"
    }
   ],
   "source": [
    "plt.figure(figsize = (15,8))\n",
    "sns.histplot(data=data, x=\"annual_inc\")"
   ]
  },
  {
   "cell_type": "markdown",
   "metadata": {},
   "source": [
    "R// Se puede observar que las personas con bajos ingresos son las que mas solicitan prestamos; las personas con un ingreso de menos de $200.000."
   ]
  },
  {
   "cell_type": "markdown",
   "metadata": {
    "id": "OwhAWqBlz9uC"
   },
   "source": [
    "4. Explora la asociación entre los ingresos anuales y la cuota mensual (scatterplot)."
   ]
  },
  {
   "cell_type": "code",
   "execution_count": 6,
   "metadata": {
    "id": "M-adHEau0JJ4"
   },
   "outputs": [
    {
     "data": {
      "text/plain": [
       "<AxesSubplot:xlabel='annual_inc', ylabel='installment'>"
      ]
     },
     "execution_count": 6,
     "metadata": {},
     "output_type": "execute_result"
    },
    {
     "data": {
      "image/png": "[encoded data removed]",
      "text/plain": [
       "<Figure size 432x288 with 1 Axes>"
      ]
     },
     "metadata": {},
     "output_type": "display_data"
    }
   ],
   "source": [
    "sns.scatterplot(data=data, x=\"annual_inc\", y=\"installment\")   "
   ]
  },
  {
   "cell_type": "markdown",
   "metadata": {},
   "source": [
    "R// No hay ninguna asocacion.  Porque vemos que algunas personas con pocos ingresos tienen cuotas tanto altas como bajas y lo mismo resulta para la personas con ingresos mas elevados."
   ]
  },
  {
   "cell_type": "markdown",
   "metadata": {
    "id": "hvfX8_Oc0PeA"
   },
   "source": [
    "5. Visualice la matriz de correlación en todas las características numéricas utilizando el comando sns.heatmap()"
   ]
  },
  {
   "cell_type": "code",
   "execution_count": 7,
   "metadata": {
    "id": "jCf132SR0eI7"
   },
   "outputs": [
    {
     "data": {
      "text/plain": [
       "<AxesSubplot:>"
      ]
     },
     "execution_count": 7,
     "metadata": {},
     "output_type": "execute_result"
    },
    {
     "data": {
      "image/png": "[encoded data removed]",
      "text/plain": [
       "<Figure size 432x288 with 2 Axes>"
      ]
     },
     "metadata": {},
     "output_type": "display_data"
    }
   ],
   "source": [
    "sns.heatmap(data.corr())"
   ]
  },
  {
   "cell_type": "markdown",
   "metadata": {},
   "source": [
    "R// Se puede observar que casi no hay correlacion entre las variables, pero la variable installment y loam_amnt tiene la correcion mas positiva. "
   ]
  },
  {
   "cell_type": "markdown",
   "metadata": {
    "id": "Ki7mz6Zn0eoW"
   },
   "source": [
    "6. Cree un modelo básico de regresión logística para predecir el incumplimiento del préstamo con una sola característica: installment. Llame a este modelo modelo1. Utilice una división 70/30 de los datos entre el entrenamiento y la prueba."
   ]
  },
  {
   "cell_type": "code",
   "execution_count": 8,
   "metadata": {
    "id": "Ijfz3jb32PlE"
   },
   "outputs": [
    {
     "data": {
      "text/html": [
       "<div>\n",
       "<style scoped>\n",
       "    .dataframe tbody tr th:only-of-type {\n",
       "        vertical-align: middle;\n",
       "    }\n",
       "\n",
       "    .dataframe tbody tr th {\n",
       "        vertical-align: top;\n",
       "    }\n",
       "\n",
       "    .dataframe thead th {\n",
       "        text-align: right;\n",
       "    }\n",
       "</style>\n",
       "<table border=\"1\" class=\"dataframe\">\n",
       "  <thead>\n",
       "    <tr style=\"text-align: right;\">\n",
       "      <th></th>\n",
       "      <th>installment</th>\n",
       "      <th>loan_default</th>\n",
       "    </tr>\n",
       "  </thead>\n",
       "  <tbody>\n",
       "    <tr>\n",
       "      <th>0</th>\n",
       "      <td>743.75</td>\n",
       "      <td>1</td>\n",
       "    </tr>\n",
       "    <tr>\n",
       "      <th>1</th>\n",
       "      <td>286.73</td>\n",
       "      <td>0</td>\n",
       "    </tr>\n",
       "    <tr>\n",
       "      <th>2</th>\n",
       "      <td>869.66</td>\n",
       "      <td>0</td>\n",
       "    </tr>\n",
       "    <tr>\n",
       "      <th>3</th>\n",
       "      <td>713.96</td>\n",
       "      <td>1</td>\n",
       "    </tr>\n",
       "    <tr>\n",
       "      <th>4</th>\n",
       "      <td>366.51</td>\n",
       "      <td>1</td>\n",
       "    </tr>\n",
       "    <tr>\n",
       "      <th>...</th>\n",
       "      <td>...</td>\n",
       "      <td>...</td>\n",
       "    </tr>\n",
       "    <tr>\n",
       "      <th>4995</th>\n",
       "      <td>49.46</td>\n",
       "      <td>0</td>\n",
       "    </tr>\n",
       "    <tr>\n",
       "      <th>4996</th>\n",
       "      <td>155.51</td>\n",
       "      <td>0</td>\n",
       "    </tr>\n",
       "    <tr>\n",
       "      <th>4997</th>\n",
       "      <td>250.66</td>\n",
       "      <td>0</td>\n",
       "    </tr>\n",
       "    <tr>\n",
       "      <th>4998</th>\n",
       "      <td>69.38</td>\n",
       "      <td>0</td>\n",
       "    </tr>\n",
       "    <tr>\n",
       "      <th>4999</th>\n",
       "      <td>199.06</td>\n",
       "      <td>0</td>\n",
       "    </tr>\n",
       "  </tbody>\n",
       "</table>\n",
       "<p>5000 rows × 2 columns</p>\n",
       "</div>"
      ],
      "text/plain": [
       "      installment  loan_default\n",
       "0          743.75             1\n",
       "1          286.73             0\n",
       "2          869.66             0\n",
       "3          713.96             1\n",
       "4          366.51             1\n",
       "...           ...           ...\n",
       "4995        49.46             0\n",
       "4996       155.51             0\n",
       "4997       250.66             0\n",
       "4998        69.38             0\n",
       "4999       199.06             0\n",
       "\n",
       "[5000 rows x 2 columns]"
      ]
     },
     "execution_count": 8,
     "metadata": {},
     "output_type": "execute_result"
    }
   ],
   "source": [
    "installment = data[[\"installment\",\"loan_default\"]]\n",
    "installment"
   ]
  },
  {
   "cell_type": "code",
   "execution_count": 9,
   "metadata": {},
   "outputs": [],
   "source": [
    "X = installment[[\"installment\"]]\n",
    "y = installment[\"loan_default\"]\n"
   ]
  },
  {
   "cell_type": "code",
   "execution_count": 10,
   "metadata": {},
   "outputs": [],
   "source": [
    "X_train, X_test, y_train, y_test = train_test_split(X, y, test_size=0.3)"
   ]
  },
  {
   "cell_type": "code",
   "execution_count": 11,
   "metadata": {},
   "outputs": [
    {
     "data": {
      "text/plain": [
       "LogisticRegression()"
      ]
     },
     "execution_count": 11,
     "metadata": {},
     "output_type": "execute_result"
    }
   ],
   "source": [
    "from sklearn.linear_model import LogisticRegression\n",
    "model1 = LogisticRegression()\n",
    "model1.fit(X_train, y_train)"
   ]
  },
  {
   "cell_type": "markdown",
   "metadata": {
    "id": "dMBAV7-S2RvK"
   },
   "source": [
    "7. Trace la curva [ROC](https://towardsdatascience.com/understanding-auc-roc-curve-68b2303cc9c5) del modelo1 y encuentre el área bajo la curva."
   ]
  },
  {
   "cell_type": "code",
   "execution_count": 12,
   "metadata": {
    "id": "iv8gBzIZ2iFv"
   },
   "outputs": [
    {
     "data": {
      "image/png": "[encoded data removed]",
      "text/plain": [
       "<Figure size 432x288 with 1 Axes>"
      ]
     },
     "metadata": {},
     "output_type": "display_data"
    }
   ],
   "source": [
    "#pista\n",
    "from sklearn import metrics\n",
    "y_pred_prob = model1.predict_proba(X_test)[::,1]\n",
    "fpr, tpr, _ = metrics.roc_curve(y_test,  y_pred_prob)\n",
    "auc = metrics.roc_auc_score(y_test, y_pred_prob)\n",
    "\n",
    "plt.plot(fpr,tpr,label=\"AUC=\"+str(auc))\n",
    "plt.ylabel('True Positive Rate')\n",
    "plt.xlabel('False Positive Rate')\n",
    "plt.legend(loc=4)\n",
    "plt.show()"
   ]
  },
  {
   "cell_type": "markdown",
   "metadata": {},
   "source": [
    "R//  Como el AUC  es del 56%, el modelo no esta clasificando bien teniendo encuenta solo la variable installemt. No dice mucho sobre como podemos clasificar las personas. "
   ]
  },
  {
   "cell_type": "markdown",
   "metadata": {
    "id": "f4jD-aEN3AfL"
   },
   "source": [
    "8. Cree un modelo básico de regresión logística para predecir el incumplimiento del préstamo solo con las caracteristicas numericas. Llame a este modelo modelo2. Utilice una división 70/30 de los datos entre el entrenamiento y la prueba."
   ]
  },
  {
   "cell_type": "code",
   "execution_count": 13,
   "metadata": {
    "id": "PoF0QEe2_0TK"
   },
   "outputs": [
    {
     "data": {
      "text/html": [
       "<div>\n",
       "<style scoped>\n",
       "    .dataframe tbody tr th:only-of-type {\n",
       "        vertical-align: middle;\n",
       "    }\n",
       "\n",
       "    .dataframe tbody tr th {\n",
       "        vertical-align: top;\n",
       "    }\n",
       "\n",
       "    .dataframe thead th {\n",
       "        text-align: right;\n",
       "    }\n",
       "</style>\n",
       "<table border=\"1\" class=\"dataframe\">\n",
       "  <thead>\n",
       "    <tr style=\"text-align: right;\">\n",
       "      <th></th>\n",
       "      <th>annual_inc</th>\n",
       "      <th>avg_cur_bal</th>\n",
       "      <th>chargeoff_within_12_mths</th>\n",
       "      <th>delinq_2yrs</th>\n",
       "      <th>dti</th>\n",
       "      <th>emp_length</th>\n",
       "      <th>inq_last_12m</th>\n",
       "      <th>installment</th>\n",
       "      <th>loan_amnt</th>\n",
       "      <th>num_actv_bc_tl</th>\n",
       "      <th>pub_rec_bankruptcies</th>\n",
       "      <th>term</th>\n",
       "      <th>mort_acc</th>\n",
       "      <th>num_tl_90g_dpd_24m</th>\n",
       "      <th>year</th>\n",
       "      <th>loan_default</th>\n",
       "    </tr>\n",
       "  </thead>\n",
       "  <tbody>\n",
       "    <tr>\n",
       "      <th>0</th>\n",
       "      <td>80000.0</td>\n",
       "      <td>6746.0</td>\n",
       "      <td>0.0</td>\n",
       "      <td>0.0</td>\n",
       "      <td>15.12</td>\n",
       "      <td>10</td>\n",
       "      <td>1.0</td>\n",
       "      <td>743.75</td>\n",
       "      <td>22800</td>\n",
       "      <td>1.0</td>\n",
       "      <td>0.0</td>\n",
       "      <td>36</td>\n",
       "      <td>0.0</td>\n",
       "      <td>0.0</td>\n",
       "      <td>2016</td>\n",
       "      <td>1</td>\n",
       "    </tr>\n",
       "    <tr>\n",
       "      <th>1</th>\n",
       "      <td>60000.0</td>\n",
       "      <td>13623.0</td>\n",
       "      <td>0.0</td>\n",
       "      <td>0.0</td>\n",
       "      <td>12.32</td>\n",
       "      <td>7</td>\n",
       "      <td>0.0</td>\n",
       "      <td>286.73</td>\n",
       "      <td>10500</td>\n",
       "      <td>3.0</td>\n",
       "      <td>0.0</td>\n",
       "      <td>60</td>\n",
       "      <td>1.0</td>\n",
       "      <td>0.0</td>\n",
       "      <td>2017</td>\n",
       "      <td>0</td>\n",
       "    </tr>\n",
       "    <tr>\n",
       "      <th>2</th>\n",
       "      <td>78000.0</td>\n",
       "      <td>11011.0</td>\n",
       "      <td>0.0</td>\n",
       "      <td>0.0</td>\n",
       "      <td>25.00</td>\n",
       "      <td>1</td>\n",
       "      <td>6.0</td>\n",
       "      <td>869.66</td>\n",
       "      <td>35000</td>\n",
       "      <td>4.0</td>\n",
       "      <td>0.0</td>\n",
       "      <td>60</td>\n",
       "      <td>3.0</td>\n",
       "      <td>0.0</td>\n",
       "      <td>2015</td>\n",
       "      <td>0</td>\n",
       "    </tr>\n",
       "    <tr>\n",
       "      <th>3</th>\n",
       "      <td>62000.0</td>\n",
       "      <td>9679.0</td>\n",
       "      <td>0.0</td>\n",
       "      <td>0.0</td>\n",
       "      <td>22.32</td>\n",
       "      <td>9</td>\n",
       "      <td>7.0</td>\n",
       "      <td>713.96</td>\n",
       "      <td>20000</td>\n",
       "      <td>2.0</td>\n",
       "      <td>0.0</td>\n",
       "      <td>36</td>\n",
       "      <td>4.0</td>\n",
       "      <td>0.0</td>\n",
       "      <td>2017</td>\n",
       "      <td>1</td>\n",
       "    </tr>\n",
       "    <tr>\n",
       "      <th>4</th>\n",
       "      <td>49000.0</td>\n",
       "      <td>4925.0</td>\n",
       "      <td>0.0</td>\n",
       "      <td>0.0</td>\n",
       "      <td>32.43</td>\n",
       "      <td>10</td>\n",
       "      <td>0.0</td>\n",
       "      <td>366.51</td>\n",
       "      <td>10000</td>\n",
       "      <td>4.0</td>\n",
       "      <td>0.0</td>\n",
       "      <td>36</td>\n",
       "      <td>0.0</td>\n",
       "      <td>0.0</td>\n",
       "      <td>2017</td>\n",
       "      <td>1</td>\n",
       "    </tr>\n",
       "    <tr>\n",
       "      <th>...</th>\n",
       "      <td>...</td>\n",
       "      <td>...</td>\n",
       "      <td>...</td>\n",
       "      <td>...</td>\n",
       "      <td>...</td>\n",
       "      <td>...</td>\n",
       "      <td>...</td>\n",
       "      <td>...</td>\n",
       "      <td>...</td>\n",
       "      <td>...</td>\n",
       "      <td>...</td>\n",
       "      <td>...</td>\n",
       "      <td>...</td>\n",
       "      <td>...</td>\n",
       "      <td>...</td>\n",
       "      <td>...</td>\n",
       "    </tr>\n",
       "    <tr>\n",
       "      <th>4995</th>\n",
       "      <td>90000.0</td>\n",
       "      <td>47759.0</td>\n",
       "      <td>0.0</td>\n",
       "      <td>0.0</td>\n",
       "      <td>15.88</td>\n",
       "      <td>3</td>\n",
       "      <td>3.0</td>\n",
       "      <td>49.46</td>\n",
       "      <td>1600</td>\n",
       "      <td>1.0</td>\n",
       "      <td>0.0</td>\n",
       "      <td>36</td>\n",
       "      <td>3.0</td>\n",
       "      <td>0.0</td>\n",
       "      <td>2017</td>\n",
       "      <td>0</td>\n",
       "    </tr>\n",
       "    <tr>\n",
       "      <th>4996</th>\n",
       "      <td>43000.0</td>\n",
       "      <td>11702.0</td>\n",
       "      <td>0.0</td>\n",
       "      <td>0.0</td>\n",
       "      <td>14.09</td>\n",
       "      <td>10</td>\n",
       "      <td>1.0</td>\n",
       "      <td>155.51</td>\n",
       "      <td>5000</td>\n",
       "      <td>2.0</td>\n",
       "      <td>0.0</td>\n",
       "      <td>36</td>\n",
       "      <td>2.0</td>\n",
       "      <td>0.0</td>\n",
       "      <td>2016</td>\n",
       "      <td>0</td>\n",
       "    </tr>\n",
       "    <tr>\n",
       "      <th>4997</th>\n",
       "      <td>70000.0</td>\n",
       "      <td>16495.0</td>\n",
       "      <td>0.0</td>\n",
       "      <td>0.0</td>\n",
       "      <td>24.02</td>\n",
       "      <td>1</td>\n",
       "      <td>0.0</td>\n",
       "      <td>250.66</td>\n",
       "      <td>8000</td>\n",
       "      <td>2.0</td>\n",
       "      <td>0.0</td>\n",
       "      <td>36</td>\n",
       "      <td>1.0</td>\n",
       "      <td>0.0</td>\n",
       "      <td>2016</td>\n",
       "      <td>0</td>\n",
       "    </tr>\n",
       "    <tr>\n",
       "      <th>4998</th>\n",
       "      <td>50000.0</td>\n",
       "      <td>24012.0</td>\n",
       "      <td>0.0</td>\n",
       "      <td>0.0</td>\n",
       "      <td>17.33</td>\n",
       "      <td>4</td>\n",
       "      <td>1.0</td>\n",
       "      <td>69.38</td>\n",
       "      <td>2000</td>\n",
       "      <td>4.0</td>\n",
       "      <td>0.0</td>\n",
       "      <td>36</td>\n",
       "      <td>2.0</td>\n",
       "      <td>0.0</td>\n",
       "      <td>2017</td>\n",
       "      <td>0</td>\n",
       "    </tr>\n",
       "    <tr>\n",
       "      <th>4999</th>\n",
       "      <td>83000.0</td>\n",
       "      <td>18385.0</td>\n",
       "      <td>1.0</td>\n",
       "      <td>2.0</td>\n",
       "      <td>12.49</td>\n",
       "      <td>10</td>\n",
       "      <td>4.0</td>\n",
       "      <td>199.06</td>\n",
       "      <td>6400</td>\n",
       "      <td>1.0</td>\n",
       "      <td>0.0</td>\n",
       "      <td>36</td>\n",
       "      <td>5.0</td>\n",
       "      <td>1.0</td>\n",
       "      <td>2017</td>\n",
       "      <td>0</td>\n",
       "    </tr>\n",
       "  </tbody>\n",
       "</table>\n",
       "<p>5000 rows × 16 columns</p>\n",
       "</div>"
      ],
      "text/plain": [
       "      annual_inc  avg_cur_bal  chargeoff_within_12_mths  delinq_2yrs    dti  \\\n",
       "0        80000.0       6746.0                       0.0          0.0  15.12   \n",
       "1        60000.0      13623.0                       0.0          0.0  12.32   \n",
       "2        78000.0      11011.0                       0.0          0.0  25.00   \n",
       "3        62000.0       9679.0                       0.0          0.0  22.32   \n",
       "4        49000.0       4925.0                       0.0          0.0  32.43   \n",
       "...          ...          ...                       ...          ...    ...   \n",
       "4995     90000.0      47759.0                       0.0          0.0  15.88   \n",
       "4996     43000.0      11702.0                       0.0          0.0  14.09   \n",
       "4997     70000.0      16495.0                       0.0          0.0  24.02   \n",
       "4998     50000.0      24012.0                       0.0          0.0  17.33   \n",
       "4999     83000.0      18385.0                       1.0          2.0  12.49   \n",
       "\n",
       "      emp_length  inq_last_12m  installment  loan_amnt  num_actv_bc_tl  \\\n",
       "0             10           1.0       743.75      22800             1.0   \n",
       "1              7           0.0       286.73      10500             3.0   \n",
       "2              1           6.0       869.66      35000             4.0   \n",
       "3              9           7.0       713.96      20000             2.0   \n",
       "4             10           0.0       366.51      10000             4.0   \n",
       "...          ...           ...          ...        ...             ...   \n",
       "4995           3           3.0        49.46       1600             1.0   \n",
       "4996          10           1.0       155.51       5000             2.0   \n",
       "4997           1           0.0       250.66       8000             2.0   \n",
       "4998           4           1.0        69.38       2000             4.0   \n",
       "4999          10           4.0       199.06       6400             1.0   \n",
       "\n",
       "      pub_rec_bankruptcies  term  mort_acc  num_tl_90g_dpd_24m  year  \\\n",
       "0                      0.0    36       0.0                 0.0  2016   \n",
       "1                      0.0    60       1.0                 0.0  2017   \n",
       "2                      0.0    60       3.0                 0.0  2015   \n",
       "3                      0.0    36       4.0                 0.0  2017   \n",
       "4                      0.0    36       0.0                 0.0  2017   \n",
       "...                    ...   ...       ...                 ...   ...   \n",
       "4995                   0.0    36       3.0                 0.0  2017   \n",
       "4996                   0.0    36       2.0                 0.0  2016   \n",
       "4997                   0.0    36       1.0                 0.0  2016   \n",
       "4998                   0.0    36       2.0                 0.0  2017   \n",
       "4999                   0.0    36       5.0                 1.0  2017   \n",
       "\n",
       "      loan_default  \n",
       "0                1  \n",
       "1                0  \n",
       "2                0  \n",
       "3                1  \n",
       "4                1  \n",
       "...            ...  \n",
       "4995             0  \n",
       "4996             0  \n",
       "4997             0  \n",
       "4998             0  \n",
       "4999             0  \n",
       "\n",
       "[5000 rows x 16 columns]"
      ]
     },
     "execution_count": 13,
     "metadata": {},
     "output_type": "execute_result"
    }
   ],
   "source": [
    "dataNumeric =  data._get_numeric_data()\n",
    "dataNumeric"
   ]
  },
  {
   "cell_type": "code",
   "execution_count": 14,
   "metadata": {},
   "outputs": [
    {
     "data": {
      "text/html": [
       "<div>\n",
       "<style scoped>\n",
       "    .dataframe tbody tr th:only-of-type {\n",
       "        vertical-align: middle;\n",
       "    }\n",
       "\n",
       "    .dataframe tbody tr th {\n",
       "        vertical-align: top;\n",
       "    }\n",
       "\n",
       "    .dataframe thead th {\n",
       "        text-align: right;\n",
       "    }\n",
       "</style>\n",
       "<table border=\"1\" class=\"dataframe\">\n",
       "  <thead>\n",
       "    <tr style=\"text-align: right;\">\n",
       "      <th></th>\n",
       "      <th>annual_inc</th>\n",
       "      <th>avg_cur_bal</th>\n",
       "      <th>chargeoff_within_12_mths</th>\n",
       "      <th>delinq_2yrs</th>\n",
       "      <th>dti</th>\n",
       "      <th>emp_length</th>\n",
       "      <th>inq_last_12m</th>\n",
       "      <th>installment</th>\n",
       "      <th>loan_amnt</th>\n",
       "      <th>num_actv_bc_tl</th>\n",
       "      <th>pub_rec_bankruptcies</th>\n",
       "      <th>term</th>\n",
       "      <th>mort_acc</th>\n",
       "      <th>num_tl_90g_dpd_24m</th>\n",
       "      <th>year</th>\n",
       "    </tr>\n",
       "  </thead>\n",
       "  <tbody>\n",
       "    <tr>\n",
       "      <th>0</th>\n",
       "      <td>80000.0</td>\n",
       "      <td>6746.0</td>\n",
       "      <td>0.0</td>\n",
       "      <td>0.0</td>\n",
       "      <td>15.12</td>\n",
       "      <td>10</td>\n",
       "      <td>1.0</td>\n",
       "      <td>743.75</td>\n",
       "      <td>22800</td>\n",
       "      <td>1.0</td>\n",
       "      <td>0.0</td>\n",
       "      <td>36</td>\n",
       "      <td>0.0</td>\n",
       "      <td>0.0</td>\n",
       "      <td>2016</td>\n",
       "    </tr>\n",
       "    <tr>\n",
       "      <th>1</th>\n",
       "      <td>60000.0</td>\n",
       "      <td>13623.0</td>\n",
       "      <td>0.0</td>\n",
       "      <td>0.0</td>\n",
       "      <td>12.32</td>\n",
       "      <td>7</td>\n",
       "      <td>0.0</td>\n",
       "      <td>286.73</td>\n",
       "      <td>10500</td>\n",
       "      <td>3.0</td>\n",
       "      <td>0.0</td>\n",
       "      <td>60</td>\n",
       "      <td>1.0</td>\n",
       "      <td>0.0</td>\n",
       "      <td>2017</td>\n",
       "    </tr>\n",
       "    <tr>\n",
       "      <th>2</th>\n",
       "      <td>78000.0</td>\n",
       "      <td>11011.0</td>\n",
       "      <td>0.0</td>\n",
       "      <td>0.0</td>\n",
       "      <td>25.00</td>\n",
       "      <td>1</td>\n",
       "      <td>6.0</td>\n",
       "      <td>869.66</td>\n",
       "      <td>35000</td>\n",
       "      <td>4.0</td>\n",
       "      <td>0.0</td>\n",
       "      <td>60</td>\n",
       "      <td>3.0</td>\n",
       "      <td>0.0</td>\n",
       "      <td>2015</td>\n",
       "    </tr>\n",
       "    <tr>\n",
       "      <th>3</th>\n",
       "      <td>62000.0</td>\n",
       "      <td>9679.0</td>\n",
       "      <td>0.0</td>\n",
       "      <td>0.0</td>\n",
       "      <td>22.32</td>\n",
       "      <td>9</td>\n",
       "      <td>7.0</td>\n",
       "      <td>713.96</td>\n",
       "      <td>20000</td>\n",
       "      <td>2.0</td>\n",
       "      <td>0.0</td>\n",
       "      <td>36</td>\n",
       "      <td>4.0</td>\n",
       "      <td>0.0</td>\n",
       "      <td>2017</td>\n",
       "    </tr>\n",
       "    <tr>\n",
       "      <th>4</th>\n",
       "      <td>49000.0</td>\n",
       "      <td>4925.0</td>\n",
       "      <td>0.0</td>\n",
       "      <td>0.0</td>\n",
       "      <td>32.43</td>\n",
       "      <td>10</td>\n",
       "      <td>0.0</td>\n",
       "      <td>366.51</td>\n",
       "      <td>10000</td>\n",
       "      <td>4.0</td>\n",
       "      <td>0.0</td>\n",
       "      <td>36</td>\n",
       "      <td>0.0</td>\n",
       "      <td>0.0</td>\n",
       "      <td>2017</td>\n",
       "    </tr>\n",
       "    <tr>\n",
       "      <th>...</th>\n",
       "      <td>...</td>\n",
       "      <td>...</td>\n",
       "      <td>...</td>\n",
       "      <td>...</td>\n",
       "      <td>...</td>\n",
       "      <td>...</td>\n",
       "      <td>...</td>\n",
       "      <td>...</td>\n",
       "      <td>...</td>\n",
       "      <td>...</td>\n",
       "      <td>...</td>\n",
       "      <td>...</td>\n",
       "      <td>...</td>\n",
       "      <td>...</td>\n",
       "      <td>...</td>\n",
       "    </tr>\n",
       "    <tr>\n",
       "      <th>4995</th>\n",
       "      <td>90000.0</td>\n",
       "      <td>47759.0</td>\n",
       "      <td>0.0</td>\n",
       "      <td>0.0</td>\n",
       "      <td>15.88</td>\n",
       "      <td>3</td>\n",
       "      <td>3.0</td>\n",
       "      <td>49.46</td>\n",
       "      <td>1600</td>\n",
       "      <td>1.0</td>\n",
       "      <td>0.0</td>\n",
       "      <td>36</td>\n",
       "      <td>3.0</td>\n",
       "      <td>0.0</td>\n",
       "      <td>2017</td>\n",
       "    </tr>\n",
       "    <tr>\n",
       "      <th>4996</th>\n",
       "      <td>43000.0</td>\n",
       "      <td>11702.0</td>\n",
       "      <td>0.0</td>\n",
       "      <td>0.0</td>\n",
       "      <td>14.09</td>\n",
       "      <td>10</td>\n",
       "      <td>1.0</td>\n",
       "      <td>155.51</td>\n",
       "      <td>5000</td>\n",
       "      <td>2.0</td>\n",
       "      <td>0.0</td>\n",
       "      <td>36</td>\n",
       "      <td>2.0</td>\n",
       "      <td>0.0</td>\n",
       "      <td>2016</td>\n",
       "    </tr>\n",
       "    <tr>\n",
       "      <th>4997</th>\n",
       "      <td>70000.0</td>\n",
       "      <td>16495.0</td>\n",
       "      <td>0.0</td>\n",
       "      <td>0.0</td>\n",
       "      <td>24.02</td>\n",
       "      <td>1</td>\n",
       "      <td>0.0</td>\n",
       "      <td>250.66</td>\n",
       "      <td>8000</td>\n",
       "      <td>2.0</td>\n",
       "      <td>0.0</td>\n",
       "      <td>36</td>\n",
       "      <td>1.0</td>\n",
       "      <td>0.0</td>\n",
       "      <td>2016</td>\n",
       "    </tr>\n",
       "    <tr>\n",
       "      <th>4998</th>\n",
       "      <td>50000.0</td>\n",
       "      <td>24012.0</td>\n",
       "      <td>0.0</td>\n",
       "      <td>0.0</td>\n",
       "      <td>17.33</td>\n",
       "      <td>4</td>\n",
       "      <td>1.0</td>\n",
       "      <td>69.38</td>\n",
       "      <td>2000</td>\n",
       "      <td>4.0</td>\n",
       "      <td>0.0</td>\n",
       "      <td>36</td>\n",
       "      <td>2.0</td>\n",
       "      <td>0.0</td>\n",
       "      <td>2017</td>\n",
       "    </tr>\n",
       "    <tr>\n",
       "      <th>4999</th>\n",
       "      <td>83000.0</td>\n",
       "      <td>18385.0</td>\n",
       "      <td>1.0</td>\n",
       "      <td>2.0</td>\n",
       "      <td>12.49</td>\n",
       "      <td>10</td>\n",
       "      <td>4.0</td>\n",
       "      <td>199.06</td>\n",
       "      <td>6400</td>\n",
       "      <td>1.0</td>\n",
       "      <td>0.0</td>\n",
       "      <td>36</td>\n",
       "      <td>5.0</td>\n",
       "      <td>1.0</td>\n",
       "      <td>2017</td>\n",
       "    </tr>\n",
       "  </tbody>\n",
       "</table>\n",
       "<p>5000 rows × 15 columns</p>\n",
       "</div>"
      ],
      "text/plain": [
       "      annual_inc  avg_cur_bal  chargeoff_within_12_mths  delinq_2yrs    dti  \\\n",
       "0        80000.0       6746.0                       0.0          0.0  15.12   \n",
       "1        60000.0      13623.0                       0.0          0.0  12.32   \n",
       "2        78000.0      11011.0                       0.0          0.0  25.00   \n",
       "3        62000.0       9679.0                       0.0          0.0  22.32   \n",
       "4        49000.0       4925.0                       0.0          0.0  32.43   \n",
       "...          ...          ...                       ...          ...    ...   \n",
       "4995     90000.0      47759.0                       0.0          0.0  15.88   \n",
       "4996     43000.0      11702.0                       0.0          0.0  14.09   \n",
       "4997     70000.0      16495.0                       0.0          0.0  24.02   \n",
       "4998     50000.0      24012.0                       0.0          0.0  17.33   \n",
       "4999     83000.0      18385.0                       1.0          2.0  12.49   \n",
       "\n",
       "      emp_length  inq_last_12m  installment  loan_amnt  num_actv_bc_tl  \\\n",
       "0             10           1.0       743.75      22800             1.0   \n",
       "1              7           0.0       286.73      10500             3.0   \n",
       "2              1           6.0       869.66      35000             4.0   \n",
       "3              9           7.0       713.96      20000             2.0   \n",
       "4             10           0.0       366.51      10000             4.0   \n",
       "...          ...           ...          ...        ...             ...   \n",
       "4995           3           3.0        49.46       1600             1.0   \n",
       "4996          10           1.0       155.51       5000             2.0   \n",
       "4997           1           0.0       250.66       8000             2.0   \n",
       "4998           4           1.0        69.38       2000             4.0   \n",
       "4999          10           4.0       199.06       6400             1.0   \n",
       "\n",
       "      pub_rec_bankruptcies  term  mort_acc  num_tl_90g_dpd_24m  year  \n",
       "0                      0.0    36       0.0                 0.0  2016  \n",
       "1                      0.0    60       1.0                 0.0  2017  \n",
       "2                      0.0    60       3.0                 0.0  2015  \n",
       "3                      0.0    36       4.0                 0.0  2017  \n",
       "4                      0.0    36       0.0                 0.0  2017  \n",
       "...                    ...   ...       ...                 ...   ...  \n",
       "4995                   0.0    36       3.0                 0.0  2017  \n",
       "4996                   0.0    36       2.0                 0.0  2016  \n",
       "4997                   0.0    36       1.0                 0.0  2016  \n",
       "4998                   0.0    36       2.0                 0.0  2017  \n",
       "4999                   0.0    36       5.0                 1.0  2017  \n",
       "\n",
       "[5000 rows x 15 columns]"
      ]
     },
     "execution_count": 14,
     "metadata": {},
     "output_type": "execute_result"
    }
   ],
   "source": [
    "XNumeric = dataNumeric.iloc[:, :-1]\n",
    "XNumeric"
   ]
  },
  {
   "cell_type": "code",
   "execution_count": 15,
   "metadata": {},
   "outputs": [
    {
     "data": {
      "text/plain": [
       "0       1\n",
       "1       0\n",
       "2       0\n",
       "3       1\n",
       "4       1\n",
       "       ..\n",
       "4995    0\n",
       "4996    0\n",
       "4997    0\n",
       "4998    0\n",
       "4999    0\n",
       "Name: loan_default, Length: 5000, dtype: int64"
      ]
     },
     "execution_count": 15,
     "metadata": {},
     "output_type": "execute_result"
    }
   ],
   "source": [
    "yNumeric = dataNumeric.iloc[:,-1]\n",
    "yNumeric"
   ]
  },
  {
   "cell_type": "code",
   "execution_count": 16,
   "metadata": {},
   "outputs": [],
   "source": [
    "X_train_numeric, X_test_numeric, y_train_numeric, y_test_numeric = train_test_split(XNumeric, yNumeric, test_size=0.3)"
   ]
  },
  {
   "cell_type": "code",
   "execution_count": 17,
   "metadata": {},
   "outputs": [
    {
     "data": {
      "text/plain": [
       "LogisticRegression()"
      ]
     },
     "execution_count": 17,
     "metadata": {},
     "output_type": "execute_result"
    }
   ],
   "source": [
    "model2 = LogisticRegression()\n",
    "model2.fit(X_train_numeric, y_train_numeric)"
   ]
  },
  {
   "cell_type": "markdown",
   "metadata": {
    "id": "0wOYOe2f_04q"
   },
   "source": [
    "9. Trace la curva ROC del modelo2 y encuentre el área bajo la curva. Es mejor modelo?"
   ]
  },
  {
   "cell_type": "code",
   "execution_count": 18,
   "metadata": {
    "id": "b-6Nl-Xl3IAc"
   },
   "outputs": [
    {
     "data": {
      "image/png": "[encoded data removed]",
      "text/plain": [
       "<Figure size 432x288 with 1 Axes>"
      ]
     },
     "metadata": {},
     "output_type": "display_data"
    }
   ],
   "source": [
    "from sklearn import metrics\n",
    "y_pred_prob = model2.predict_proba(X_test_numeric)[::,1]\n",
    "fpr, tpr, _ = metrics.roc_curve(y_test_numeric,  y_pred_prob)\n",
    "auc = metrics.roc_auc_score(y_test_numeric, y_pred_prob)\n",
    "\n",
    "plt.plot(fpr,tpr,label=\"AUC=\"+str(auc))\n",
    "plt.ylabel('True Positive Rate')\n",
    "plt.xlabel('False Positive Rate')\n",
    "plt.legend(loc=4)\n",
    "plt.show()"
   ]
  },
  {
   "cell_type": "markdown",
   "metadata": {},
   "source": [
    "R// Mejoro!!!"
   ]
  },
  {
   "cell_type": "markdown",
   "metadata": {
    "id": "GHYuCF8F_848"
   },
   "source": [
    "10. Cree un modelo básico de regresión logística para predecir el incumplimiento del préstamo con las caracteristicas numericas, y agregue algunas categoricas (get_dummies()). Llame a este modelo modelo3. Utilice una división 70/30 de los datos entre el entrenamiento y la prueba. "
   ]
  },
  {
   "cell_type": "code",
   "execution_count": 19,
   "metadata": {
    "id": "eaf8xA5XAUGS"
   },
   "outputs": [
    {
     "data": {
      "text/html": [
       "<div>\n",
       "<style scoped>\n",
       "    .dataframe tbody tr th:only-of-type {\n",
       "        vertical-align: middle;\n",
       "    }\n",
       "\n",
       "    .dataframe tbody tr th {\n",
       "        vertical-align: top;\n",
       "    }\n",
       "\n",
       "    .dataframe thead th {\n",
       "        text-align: right;\n",
       "    }\n",
       "</style>\n",
       "<table border=\"1\" class=\"dataframe\">\n",
       "  <thead>\n",
       "    <tr style=\"text-align: right;\">\n",
       "      <th></th>\n",
       "      <th>annual_inc</th>\n",
       "      <th>avg_cur_bal</th>\n",
       "      <th>chargeoff_within_12_mths</th>\n",
       "      <th>delinq_2yrs</th>\n",
       "      <th>dti</th>\n",
       "      <th>emp_length</th>\n",
       "      <th>inq_last_12m</th>\n",
       "      <th>installment</th>\n",
       "      <th>loan_amnt</th>\n",
       "      <th>num_actv_bc_tl</th>\n",
       "      <th>...</th>\n",
       "      <th>job_technician</th>\n",
       "      <th>job_technologist</th>\n",
       "      <th>job_teller</th>\n",
       "      <th>job_therapist</th>\n",
       "      <th>job_trainer</th>\n",
       "      <th>job_underwriter</th>\n",
       "      <th>job_vp</th>\n",
       "      <th>job_warehouse</th>\n",
       "      <th>job_welder</th>\n",
       "      <th>job_worker</th>\n",
       "    </tr>\n",
       "  </thead>\n",
       "  <tbody>\n",
       "    <tr>\n",
       "      <th>0</th>\n",
       "      <td>80000.0</td>\n",
       "      <td>6746.0</td>\n",
       "      <td>0.0</td>\n",
       "      <td>0.0</td>\n",
       "      <td>15.12</td>\n",
       "      <td>10</td>\n",
       "      <td>1.0</td>\n",
       "      <td>743.75</td>\n",
       "      <td>22800</td>\n",
       "      <td>1.0</td>\n",
       "      <td>...</td>\n",
       "      <td>0</td>\n",
       "      <td>0</td>\n",
       "      <td>0</td>\n",
       "      <td>0</td>\n",
       "      <td>0</td>\n",
       "      <td>0</td>\n",
       "      <td>0</td>\n",
       "      <td>0</td>\n",
       "      <td>0</td>\n",
       "      <td>0</td>\n",
       "    </tr>\n",
       "    <tr>\n",
       "      <th>1</th>\n",
       "      <td>60000.0</td>\n",
       "      <td>13623.0</td>\n",
       "      <td>0.0</td>\n",
       "      <td>0.0</td>\n",
       "      <td>12.32</td>\n",
       "      <td>7</td>\n",
       "      <td>0.0</td>\n",
       "      <td>286.73</td>\n",
       "      <td>10500</td>\n",
       "      <td>3.0</td>\n",
       "      <td>...</td>\n",
       "      <td>0</td>\n",
       "      <td>0</td>\n",
       "      <td>0</td>\n",
       "      <td>0</td>\n",
       "      <td>0</td>\n",
       "      <td>0</td>\n",
       "      <td>0</td>\n",
       "      <td>0</td>\n",
       "      <td>0</td>\n",
       "      <td>0</td>\n",
       "    </tr>\n",
       "    <tr>\n",
       "      <th>2</th>\n",
       "      <td>78000.0</td>\n",
       "      <td>11011.0</td>\n",
       "      <td>0.0</td>\n",
       "      <td>0.0</td>\n",
       "      <td>25.00</td>\n",
       "      <td>1</td>\n",
       "      <td>6.0</td>\n",
       "      <td>869.66</td>\n",
       "      <td>35000</td>\n",
       "      <td>4.0</td>\n",
       "      <td>...</td>\n",
       "      <td>0</td>\n",
       "      <td>0</td>\n",
       "      <td>0</td>\n",
       "      <td>0</td>\n",
       "      <td>0</td>\n",
       "      <td>0</td>\n",
       "      <td>0</td>\n",
       "      <td>0</td>\n",
       "      <td>0</td>\n",
       "      <td>0</td>\n",
       "    </tr>\n",
       "    <tr>\n",
       "      <th>3</th>\n",
       "      <td>62000.0</td>\n",
       "      <td>9679.0</td>\n",
       "      <td>0.0</td>\n",
       "      <td>0.0</td>\n",
       "      <td>22.32</td>\n",
       "      <td>9</td>\n",
       "      <td>7.0</td>\n",
       "      <td>713.96</td>\n",
       "      <td>20000</td>\n",
       "      <td>2.0</td>\n",
       "      <td>...</td>\n",
       "      <td>0</td>\n",
       "      <td>0</td>\n",
       "      <td>0</td>\n",
       "      <td>0</td>\n",
       "      <td>0</td>\n",
       "      <td>0</td>\n",
       "      <td>0</td>\n",
       "      <td>0</td>\n",
       "      <td>0</td>\n",
       "      <td>0</td>\n",
       "    </tr>\n",
       "    <tr>\n",
       "      <th>4</th>\n",
       "      <td>49000.0</td>\n",
       "      <td>4925.0</td>\n",
       "      <td>0.0</td>\n",
       "      <td>0.0</td>\n",
       "      <td>32.43</td>\n",
       "      <td>10</td>\n",
       "      <td>0.0</td>\n",
       "      <td>366.51</td>\n",
       "      <td>10000</td>\n",
       "      <td>4.0</td>\n",
       "      <td>...</td>\n",
       "      <td>0</td>\n",
       "      <td>0</td>\n",
       "      <td>0</td>\n",
       "      <td>0</td>\n",
       "      <td>0</td>\n",
       "      <td>0</td>\n",
       "      <td>0</td>\n",
       "      <td>0</td>\n",
       "      <td>0</td>\n",
       "      <td>0</td>\n",
       "    </tr>\n",
       "    <tr>\n",
       "      <th>...</th>\n",
       "      <td>...</td>\n",
       "      <td>...</td>\n",
       "      <td>...</td>\n",
       "      <td>...</td>\n",
       "      <td>...</td>\n",
       "      <td>...</td>\n",
       "      <td>...</td>\n",
       "      <td>...</td>\n",
       "      <td>...</td>\n",
       "      <td>...</td>\n",
       "      <td>...</td>\n",
       "      <td>...</td>\n",
       "      <td>...</td>\n",
       "      <td>...</td>\n",
       "      <td>...</td>\n",
       "      <td>...</td>\n",
       "      <td>...</td>\n",
       "      <td>...</td>\n",
       "      <td>...</td>\n",
       "      <td>...</td>\n",
       "      <td>...</td>\n",
       "    </tr>\n",
       "    <tr>\n",
       "      <th>4995</th>\n",
       "      <td>90000.0</td>\n",
       "      <td>47759.0</td>\n",
       "      <td>0.0</td>\n",
       "      <td>0.0</td>\n",
       "      <td>15.88</td>\n",
       "      <td>3</td>\n",
       "      <td>3.0</td>\n",
       "      <td>49.46</td>\n",
       "      <td>1600</td>\n",
       "      <td>1.0</td>\n",
       "      <td>...</td>\n",
       "      <td>0</td>\n",
       "      <td>0</td>\n",
       "      <td>0</td>\n",
       "      <td>0</td>\n",
       "      <td>0</td>\n",
       "      <td>0</td>\n",
       "      <td>0</td>\n",
       "      <td>0</td>\n",
       "      <td>0</td>\n",
       "      <td>0</td>\n",
       "    </tr>\n",
       "    <tr>\n",
       "      <th>4996</th>\n",
       "      <td>43000.0</td>\n",
       "      <td>11702.0</td>\n",
       "      <td>0.0</td>\n",
       "      <td>0.0</td>\n",
       "      <td>14.09</td>\n",
       "      <td>10</td>\n",
       "      <td>1.0</td>\n",
       "      <td>155.51</td>\n",
       "      <td>5000</td>\n",
       "      <td>2.0</td>\n",
       "      <td>...</td>\n",
       "      <td>0</td>\n",
       "      <td>0</td>\n",
       "      <td>0</td>\n",
       "      <td>0</td>\n",
       "      <td>0</td>\n",
       "      <td>0</td>\n",
       "      <td>0</td>\n",
       "      <td>0</td>\n",
       "      <td>0</td>\n",
       "      <td>0</td>\n",
       "    </tr>\n",
       "    <tr>\n",
       "      <th>4997</th>\n",
       "      <td>70000.0</td>\n",
       "      <td>16495.0</td>\n",
       "      <td>0.0</td>\n",
       "      <td>0.0</td>\n",
       "      <td>24.02</td>\n",
       "      <td>1</td>\n",
       "      <td>0.0</td>\n",
       "      <td>250.66</td>\n",
       "      <td>8000</td>\n",
       "      <td>2.0</td>\n",
       "      <td>...</td>\n",
       "      <td>0</td>\n",
       "      <td>0</td>\n",
       "      <td>0</td>\n",
       "      <td>0</td>\n",
       "      <td>0</td>\n",
       "      <td>0</td>\n",
       "      <td>0</td>\n",
       "      <td>0</td>\n",
       "      <td>0</td>\n",
       "      <td>0</td>\n",
       "    </tr>\n",
       "    <tr>\n",
       "      <th>4998</th>\n",
       "      <td>50000.0</td>\n",
       "      <td>24012.0</td>\n",
       "      <td>0.0</td>\n",
       "      <td>0.0</td>\n",
       "      <td>17.33</td>\n",
       "      <td>4</td>\n",
       "      <td>1.0</td>\n",
       "      <td>69.38</td>\n",
       "      <td>2000</td>\n",
       "      <td>4.0</td>\n",
       "      <td>...</td>\n",
       "      <td>0</td>\n",
       "      <td>0</td>\n",
       "      <td>0</td>\n",
       "      <td>0</td>\n",
       "      <td>0</td>\n",
       "      <td>0</td>\n",
       "      <td>0</td>\n",
       "      <td>0</td>\n",
       "      <td>0</td>\n",
       "      <td>0</td>\n",
       "    </tr>\n",
       "    <tr>\n",
       "      <th>4999</th>\n",
       "      <td>83000.0</td>\n",
       "      <td>18385.0</td>\n",
       "      <td>1.0</td>\n",
       "      <td>2.0</td>\n",
       "      <td>12.49</td>\n",
       "      <td>10</td>\n",
       "      <td>4.0</td>\n",
       "      <td>199.06</td>\n",
       "      <td>6400</td>\n",
       "      <td>1.0</td>\n",
       "      <td>...</td>\n",
       "      <td>0</td>\n",
       "      <td>0</td>\n",
       "      <td>0</td>\n",
       "      <td>0</td>\n",
       "      <td>0</td>\n",
       "      <td>0</td>\n",
       "      <td>0</td>\n",
       "      <td>0</td>\n",
       "      <td>0</td>\n",
       "      <td>0</td>\n",
       "    </tr>\n",
       "  </tbody>\n",
       "</table>\n",
       "<p>5000 rows × 158 columns</p>\n",
       "</div>"
      ],
      "text/plain": [
       "      annual_inc  avg_cur_bal  chargeoff_within_12_mths  delinq_2yrs    dti  \\\n",
       "0        80000.0       6746.0                       0.0          0.0  15.12   \n",
       "1        60000.0      13623.0                       0.0          0.0  12.32   \n",
       "2        78000.0      11011.0                       0.0          0.0  25.00   \n",
       "3        62000.0       9679.0                       0.0          0.0  22.32   \n",
       "4        49000.0       4925.0                       0.0          0.0  32.43   \n",
       "...          ...          ...                       ...          ...    ...   \n",
       "4995     90000.0      47759.0                       0.0          0.0  15.88   \n",
       "4996     43000.0      11702.0                       0.0          0.0  14.09   \n",
       "4997     70000.0      16495.0                       0.0          0.0  24.02   \n",
       "4998     50000.0      24012.0                       0.0          0.0  17.33   \n",
       "4999     83000.0      18385.0                       1.0          2.0  12.49   \n",
       "\n",
       "      emp_length  inq_last_12m  installment  loan_amnt  num_actv_bc_tl  ...  \\\n",
       "0             10           1.0       743.75      22800             1.0  ...   \n",
       "1              7           0.0       286.73      10500             3.0  ...   \n",
       "2              1           6.0       869.66      35000             4.0  ...   \n",
       "3              9           7.0       713.96      20000             2.0  ...   \n",
       "4             10           0.0       366.51      10000             4.0  ...   \n",
       "...          ...           ...          ...        ...             ...  ...   \n",
       "4995           3           3.0        49.46       1600             1.0  ...   \n",
       "4996          10           1.0       155.51       5000             2.0  ...   \n",
       "4997           1           0.0       250.66       8000             2.0  ...   \n",
       "4998           4           1.0        69.38       2000             4.0  ...   \n",
       "4999          10           4.0       199.06       6400             1.0  ...   \n",
       "\n",
       "      job_technician  job_technologist  job_teller  job_therapist  \\\n",
       "0                  0                 0           0              0   \n",
       "1                  0                 0           0              0   \n",
       "2                  0                 0           0              0   \n",
       "3                  0                 0           0              0   \n",
       "4                  0                 0           0              0   \n",
       "...              ...               ...         ...            ...   \n",
       "4995               0                 0           0              0   \n",
       "4996               0                 0           0              0   \n",
       "4997               0                 0           0              0   \n",
       "4998               0                 0           0              0   \n",
       "4999               0                 0           0              0   \n",
       "\n",
       "      job_trainer  job_underwriter  job_vp  job_warehouse  job_welder  \\\n",
       "0               0                0       0              0           0   \n",
       "1               0                0       0              0           0   \n",
       "2               0                0       0              0           0   \n",
       "3               0                0       0              0           0   \n",
       "4               0                0       0              0           0   \n",
       "...           ...              ...     ...            ...         ...   \n",
       "4995            0                0       0              0           0   \n",
       "4996            0                0       0              0           0   \n",
       "4997            0                0       0              0           0   \n",
       "4998            0                0       0              0           0   \n",
       "4999            0                0       0              0           0   \n",
       "\n",
       "      job_worker  \n",
       "0              0  \n",
       "1              0  \n",
       "2              0  \n",
       "3              0  \n",
       "4              0  \n",
       "...          ...  \n",
       "4995           0  \n",
       "4996           0  \n",
       "4997           0  \n",
       "4998           0  \n",
       "4999           0  \n",
       "\n",
       "[5000 rows x 158 columns]"
      ]
     },
     "execution_count": 19,
     "metadata": {},
     "output_type": "execute_result"
    }
   ],
   "source": [
    "dataDummies =pd.get_dummies(data)\n",
    "yDummies = dataDummies[\"loan_default\"]\n",
    "dataDummies=dataDummies.drop(['loan_default'], axis=1)\n",
    "XDummies = dataDummies\n",
    "dataDummies"
   ]
  },
  {
   "cell_type": "code",
   "execution_count": 20,
   "metadata": {},
   "outputs": [],
   "source": [
    "X_train_dummies, X_test_dummies, y_train_dummies, y_test_dummies = train_test_split(XDummies, yDummies, test_size=0.3)"
   ]
  },
  {
   "cell_type": "code",
   "execution_count": 21,
   "metadata": {},
   "outputs": [
    {
     "data": {
      "text/plain": [
       "LogisticRegression()"
      ]
     },
     "execution_count": 21,
     "metadata": {},
     "output_type": "execute_result"
    }
   ],
   "source": [
    "model3 = LogisticRegression()\n",
    "model3.fit(X_train_dummies, y_train_dummies)"
   ]
  },
  {
   "cell_type": "markdown",
   "metadata": {
    "id": "g5-WYz-4AV0X"
   },
   "source": [
    "11. Trace la curva ROC del modelo3, y encuentre el área bajo la curva. Mejora el modelo agregando variables categoricas?"
   ]
  },
  {
   "cell_type": "code",
   "execution_count": 22,
   "metadata": {
    "id": "FFG39hBoAc4c"
   },
   "outputs": [
    {
     "data": {
      "image/png": "[encoded data removed]",
      "text/plain": [
       "<Figure size 432x288 with 1 Axes>"
      ]
     },
     "metadata": {},
     "output_type": "display_data"
    }
   ],
   "source": [
    "from sklearn import metrics\n",
    "y_pred_prob = model3.predict_proba(X_test_dummies)[::,1]\n",
    "fpr, tpr, _ = metrics.roc_curve(y_test_dummies,  y_pred_prob)\n",
    "auc = metrics.roc_auc_score(y_test_dummies, y_pred_prob)\n",
    "\n",
    "plt.plot(fpr,tpr,label=\"AUC=\"+str(auc))\n",
    "plt.ylabel('True Positive Rate')\n",
    "plt.xlabel('False Positive Rate')\n",
    "plt.legend(loc=4)\n",
    "plt.show()"
   ]
  },
  {
   "cell_type": "markdown",
   "metadata": {},
   "source": [
    "R// Es mejor que el primer modelo, pero no mejor que el segundo!"
   ]
  },
  {
   "cell_type": "code",
   "execution_count": null,
   "metadata": {},
   "outputs": [],
   "source": []
  }
 ],
 "metadata": {
  "colab": {
   "collapsed_sections": [],
   "name": "Logistic Regression ESTUD.ipynb",
   "provenance": []
  },
  "kernelspec": {
   "display_name": "Python 3 (ipykernel)",
   "language": "python",
   "name": "python3"
  },
  "language_info": {
   "codemirror_mode": {
    "name": "ipython",
    "version": 3
   },
   "file_extension": ".py",
   "mimetype": "text/x-python",
   "name": "python",
   "nbconvert_exporter": "python",
   "pygments_lexer": "ipython3",
   "version": "3.9.7"
  }
 },
 "nbformat": 4,
 "nbformat_minor": 1
}
