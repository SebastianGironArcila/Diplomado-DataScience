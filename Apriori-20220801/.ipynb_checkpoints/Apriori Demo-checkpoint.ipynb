{
 "cells": [
  {
   "cell_type": "code",
   "execution_count": 2,
   "metadata": {},
   "outputs": [
    {
     "name": "stdout",
     "output_type": "stream",
     "text": [
      "Collecting mlxtend\n",
      "  Downloading mlxtend-0.20.0-py2.py3-none-any.whl (1.3 MB)\n",
      "Requirement already satisfied: pandas>=0.24.2 in c:\\users\\sebastian.giron\\anaconda3\\lib\\site-packages (from mlxtend) (1.3.4)\n",
      "Requirement already satisfied: numpy>=1.16.2 in c:\\users\\sebastian.giron\\anaconda3\\lib\\site-packages (from mlxtend) (1.20.3)\n",
      "Requirement already satisfied: joblib>=0.13.2 in c:\\users\\sebastian.giron\\anaconda3\\lib\\site-packages (from mlxtend) (1.1.0)\n",
      "Requirement already satisfied: scipy>=1.2.1 in c:\\users\\sebastian.giron\\anaconda3\\lib\\site-packages (from mlxtend) (1.7.1)\n",
      "Requirement already satisfied: matplotlib>=3.0.0 in c:\\users\\sebastian.giron\\anaconda3\\lib\\site-packages (from mlxtend) (3.4.3)\n",
      "Collecting scikit-learn>=1.0.2\n",
      "  Downloading scikit_learn-1.1.1-cp39-cp39-win_amd64.whl (7.4 MB)\n",
      "Requirement already satisfied: setuptools in c:\\users\\sebastian.giron\\anaconda3\\lib\\site-packages (from mlxtend) (58.0.4)\n",
      "Requirement already satisfied: cycler>=0.10 in c:\\users\\sebastian.giron\\anaconda3\\lib\\site-packages (from matplotlib>=3.0.0->mlxtend) (0.10.0)\n",
      "Requirement already satisfied: pyparsing>=2.2.1 in c:\\users\\sebastian.giron\\anaconda3\\lib\\site-packages (from matplotlib>=3.0.0->mlxtend) (3.0.4)\n",
      "Requirement already satisfied: python-dateutil>=2.7 in c:\\users\\sebastian.giron\\anaconda3\\lib\\site-packages (from matplotlib>=3.0.0->mlxtend) (2.8.2)\n",
      "Requirement already satisfied: kiwisolver>=1.0.1 in c:\\users\\sebastian.giron\\anaconda3\\lib\\site-packages (from matplotlib>=3.0.0->mlxtend) (1.3.1)\n",
      "Requirement already satisfied: pillow>=6.2.0 in c:\\users\\sebastian.giron\\anaconda3\\lib\\site-packages (from matplotlib>=3.0.0->mlxtend) (8.4.0)\n",
      "Requirement already satisfied: six in c:\\users\\sebastian.giron\\anaconda3\\lib\\site-packages (from cycler>=0.10->matplotlib>=3.0.0->mlxtend) (1.16.0)\n",
      "Requirement already satisfied: pytz>=2017.3 in c:\\users\\sebastian.giron\\anaconda3\\lib\\site-packages (from pandas>=0.24.2->mlxtend) (2021.3)\n",
      "Requirement already satisfied: threadpoolctl>=2.0.0 in c:\\users\\sebastian.giron\\anaconda3\\lib\\site-packages (from scikit-learn>=1.0.2->mlxtend) (2.2.0)\n",
      "Installing collected packages: scikit-learn, mlxtend\n",
      "  Attempting uninstall: scikit-learn\n",
      "    Found existing installation: scikit-learn 0.24.2\n",
      "    Uninstalling scikit-learn-0.24.2:\n",
      "      Successfully uninstalled scikit-learn-0.24.2\n",
      "Successfully installed mlxtend-0.20.0 scikit-learn-1.1.1\n",
      "Note: you may need to restart the kernel to use updated packages.\n"
     ]
    }
   ],
   "source": [
    "pip install mlxtend"
   ]
  },
  {
   "cell_type": "code",
   "execution_count": 1,
   "metadata": {
    "executionInfo": {
     "elapsed": 254,
     "status": "ok",
     "timestamp": 1639076157005,
     "user": {
      "displayName": "Jhoan Steven Delgado Villarreal",
      "photoUrl": "https://lh3.googleusercontent.com/a-/AOh14GgwLenGViX5aR27HTthbB9J7ktP5Yo5qPQ_2tIupg=s64",
      "userId": "16524835360682411741"
     },
     "user_tz": 300
    },
    "id": "8Bd3G6HG-3zm"
   },
   "outputs": [
    {
     "ename": "ModuleNotFoundError",
     "evalue": "No module named 'mlxtend'",
     "output_type": "error",
     "traceback": [
      "\u001b[1;31m---------------------------------------------------------------------------\u001b[0m",
      "\u001b[1;31mModuleNotFoundError\u001b[0m                       Traceback (most recent call last)",
      "\u001b[1;32mC:\\Users\\SEBAST~1.GIR\\AppData\\Local\\Temp/ipykernel_11500/3159519831.py\u001b[0m in \u001b[0;36m<module>\u001b[1;34m\u001b[0m\n\u001b[0;32m      1\u001b[0m \u001b[1;32mimport\u001b[0m \u001b[0mnumpy\u001b[0m \u001b[1;32mas\u001b[0m \u001b[0mnp\u001b[0m\u001b[1;33m\u001b[0m\u001b[1;33m\u001b[0m\u001b[0m\n\u001b[0;32m      2\u001b[0m \u001b[1;32mimport\u001b[0m \u001b[0mpandas\u001b[0m \u001b[1;32mas\u001b[0m \u001b[0mpd\u001b[0m\u001b[1;33m\u001b[0m\u001b[1;33m\u001b[0m\u001b[0m\n\u001b[1;32m----> 3\u001b[1;33m \u001b[1;32mfrom\u001b[0m \u001b[0mmlxtend\u001b[0m\u001b[1;33m.\u001b[0m\u001b[0mfrequent_patterns\u001b[0m \u001b[1;32mimport\u001b[0m \u001b[0mapriori\u001b[0m\u001b[1;33m,\u001b[0m \u001b[0massociation_rules\u001b[0m\u001b[1;33m\u001b[0m\u001b[1;33m\u001b[0m\u001b[0m\n\u001b[0m",
      "\u001b[1;31mModuleNotFoundError\u001b[0m: No module named 'mlxtend'"
     ]
    }
   ],
   "source": [
    "import numpy as np\n",
    "import pandas as pd\n",
    "from mlxtend.frequent_patterns import apriori, association_rules"
   ]
  },
  {
   "cell_type": "code",
   "execution_count": null,
   "metadata": {
    "colab": {
     "base_uri": "https://localhost:8080/"
    },
    "executionInfo": {
     "elapsed": 1887,
     "status": "ok",
     "timestamp": 1639076162424,
     "user": {
      "displayName": "Jhoan Steven Delgado Villarreal",
      "photoUrl": "https://lh3.googleusercontent.com/a-/AOh14GgwLenGViX5aR27HTthbB9J7ktP5Yo5qPQ_2tIupg=s64",
      "userId": "16524835360682411741"
     },
     "user_tz": 300
    },
    "id": "8nQGSIuP-9Hj",
    "outputId": "8fb24cdc-69ab-4d46-f8e1-dbb6027ac97d"
   },
   "outputs": [],
   "source": [
    "data=pd.read_csv(\"OnlineRetail.csv\",encoding='latin1')"
   ]
  },
  {
   "cell_type": "code",
   "execution_count": null,
   "metadata": {
    "colab": {
     "base_uri": "https://localhost:8080/",
     "height": 434
    },
    "executionInfo": {
     "elapsed": 301,
     "status": "ok",
     "timestamp": 1639076166037,
     "user": {
      "displayName": "Jhoan Steven Delgado Villarreal",
      "photoUrl": "https://lh3.googleusercontent.com/a-/AOh14GgwLenGViX5aR27HTthbB9J7ktP5Yo5qPQ_2tIupg=s64",
      "userId": "16524835360682411741"
     },
     "user_tz": 300
    },
    "id": "uYtueVAc_PUY",
    "outputId": "92d6906d-196f-4fca-dc50-1f31e1ccc941"
   },
   "outputs": [],
   "source": [
    "data.head()"
   ]
  },
  {
   "cell_type": "code",
   "execution_count": null,
   "metadata": {},
   "outputs": [],
   "source": [
    "data.info()"
   ]
  },
  {
   "cell_type": "code",
   "execution_count": null,
   "metadata": {},
   "outputs": [],
   "source": [
    "data.describe(include='all')"
   ]
  },
  {
   "cell_type": "code",
   "execution_count": null,
   "metadata": {},
   "outputs": [],
   "source": [
    "# Stripping extra spaces in the description\n",
    "data['Description'] = data['Description'].str.strip()\n",
    "  \n",
    "# Dropping the rows without any invoice number\n",
    "data.dropna(axis = 0, subset =['InvoiceNo'], inplace = True)\n",
    "data['InvoiceNo'] = data['InvoiceNo'].astype('str')\n",
    "  \n",
    "# Dropping all transactions which were done on credit\n",
    "data = data[~data['InvoiceNo'].str.contains('C')]"
   ]
  },
  {
   "cell_type": "code",
   "execution_count": null,
   "metadata": {},
   "outputs": [],
   "source": [
    "data.Country.value_counts()"
   ]
  },
  {
   "cell_type": "code",
   "execution_count": null,
   "metadata": {},
   "outputs": [],
   "source": [
    "# Transactions done in France\n",
    "basket_France = (data[data['Country'] ==\"France\"]\n",
    "          .groupby(['InvoiceNo', 'Description'])['Quantity']\n",
    "          .sum().unstack().reset_index().fillna(0)\n",
    "          .set_index('InvoiceNo'))\n",
    "  \n",
    "# Transactions done in the United Kingdom\n",
    "basket_UK = (data[data['Country'] ==\"United Kingdom\"]\n",
    "          .groupby(['InvoiceNo', 'Description'])['Quantity']\n",
    "          .sum().unstack().reset_index().fillna(0)\n",
    "          .set_index('InvoiceNo'))\n",
    "  \n",
    "# Transactions done in Portugal\n",
    "basket_Por = (data[data['Country'] ==\"Portugal\"]\n",
    "          .groupby(['InvoiceNo', 'Description'])['Quantity']\n",
    "          .sum().unstack().reset_index().fillna(0)\n",
    "          .set_index('InvoiceNo'))\n",
    "  \n",
    "basket_Sweden = (data[data['Country'] ==\"Sweden\"]\n",
    "          .groupby(['InvoiceNo', 'Description'])['Quantity']\n",
    "          .sum().unstack().reset_index().fillna(0)\n",
    "          .set_index('InvoiceNo'))"
   ]
  },
  {
   "cell_type": "code",
   "execution_count": null,
   "metadata": {},
   "outputs": [],
   "source": [
    "# Defining the hot encoding function to make the data suitable \n",
    "# for the concerned libraries\n",
    "def hot_encode(x):\n",
    "    if(x<= 0):\n",
    "        return 0\n",
    "    if(x>= 1):\n",
    "        return 1"
   ]
  },
  {
   "cell_type": "code",
   "execution_count": null,
   "metadata": {},
   "outputs": [],
   "source": [
    "basket_UK"
   ]
  },
  {
   "cell_type": "code",
   "execution_count": null,
   "metadata": {
    "executionInfo": {
     "elapsed": 265,
     "status": "ok",
     "timestamp": 1639076185505,
     "user": {
      "displayName": "Jhoan Steven Delgado Villarreal",
      "photoUrl": "https://lh3.googleusercontent.com/a-/AOh14GgwLenGViX5aR27HTthbB9J7ktP5Yo5qPQ_2tIupg=s64",
      "userId": "16524835360682411741"
     },
     "user_tz": 300
    },
    "id": "vxVCV4tq_Ub1"
   },
   "outputs": [],
   "source": [
    "# Encoding the datasets\n",
    "basket_encoded = basket_France.applymap(hot_encode)\n",
    "basket_France = basket_encoded\n",
    "  \n",
    "basket_encoded = basket_UK.applymap(hot_encode)\n",
    "basket_UK = basket_encoded\n",
    "  \n",
    "basket_encoded = basket_Por.applymap(hot_encode)\n",
    "basket_Por = basket_encoded\n",
    "  \n",
    "basket_encoded = basket_Sweden.applymap(hot_encode)\n",
    "basket_Sweden = basket_encoded"
   ]
  },
  {
   "cell_type": "code",
   "execution_count": null,
   "metadata": {
    "colab": {
     "base_uri": "https://localhost:8080/",
     "height": 379
    },
    "executionInfo": {
     "elapsed": 278,
     "status": "ok",
     "timestamp": 1639076186928,
     "user": {
      "displayName": "Jhoan Steven Delgado Villarreal",
      "photoUrl": "https://lh3.googleusercontent.com/a-/AOh14GgwLenGViX5aR27HTthbB9J7ktP5Yo5qPQ_2tIupg=s64",
      "userId": "16524835360682411741"
     },
     "user_tz": 300
    },
    "id": "C8bM_Ds4DtHO",
    "outputId": "c5640d4c-6c08-4d5c-e06d-745fb04d4aa9"
   },
   "outputs": [],
   "source": [
    "basket_Por"
   ]
  },
  {
   "cell_type": "code",
   "execution_count": null,
   "metadata": {
    "colab": {
     "base_uri": "https://localhost:8080/"
    },
    "executionInfo": {
     "elapsed": 249,
     "status": "ok",
     "timestamp": 1639076356576,
     "user": {
      "displayName": "Jhoan Steven Delgado Villarreal",
      "photoUrl": "https://lh3.googleusercontent.com/a-/AOh14GgwLenGViX5aR27HTthbB9J7ktP5Yo5qPQ_2tIupg=s64",
      "userId": "16524835360682411741"
     },
     "user_tz": 300
    },
    "id": "q7X94PkLCqm6",
    "outputId": "da6bf1fe-2b82-4c5e-8959-f4a182eb108b"
   },
   "outputs": [],
   "source": [
    "# Building the model\n",
    "frq_items = apriori(basket_Por, min_support = 0.05, use_colnames = True)\n",
    " \n",
    "# Collecting the inferred rules in a dataframe\n",
    "rules = association_rules(frq_items, metric =\"lift\", min_threshold = 1)\n",
    "rules = rules.sort_values(['confidence', 'lift'], ascending =[False, False])\n",
    "print(rules.head())"
   ]
  },
  {
   "cell_type": "code",
   "execution_count": null,
   "metadata": {},
   "outputs": [],
   "source": [
    "frq_items"
   ]
  },
  {
   "cell_type": "code",
   "execution_count": null,
   "metadata": {
    "colab": {
     "base_uri": "https://localhost:8080/",
     "height": 802
    },
    "executionInfo": {
     "elapsed": 10,
     "status": "ok",
     "timestamp": 1639076358300,
     "user": {
      "displayName": "Jhoan Steven Delgado Villarreal",
      "photoUrl": "https://lh3.googleusercontent.com/a-/AOh14GgwLenGViX5aR27HTthbB9J7ktP5Yo5qPQ_2tIupg=s64",
      "userId": "16524835360682411741"
     },
     "user_tz": 300
    },
    "id": "ZAa3rHcgCsoq",
    "outputId": "fc9836f2-a15e-4907-e884-425e0dfb66f7"
   },
   "outputs": [],
   "source": [
    "rules"
   ]
  },
  {
   "cell_type": "markdown",
   "metadata": {
    "id": "PiFkhACfHnnK"
   },
   "source": [
    "# Glosario de términos..."
   ]
  },
  {
   "cell_type": "markdown",
   "metadata": {
    "id": "Vs7T4hyJIUFS"
   },
   "source": [
    "Support: Qué tan popular un item es. Es la proprción de transacciones en la cual cierto item aparece"
   ]
  },
  {
   "cell_type": "markdown",
   "metadata": {
    "id": "nzpZl0dSIYL4"
   },
   "source": [
    "Confidence: Qué tan probable es que el item Y (consequents) sea comprado cuando el ítem X (antecedents) es comprado (X->Y)\n",
    "\n"
   ]
  },
  {
   "cell_type": "markdown",
   "metadata": {
    "id": "ZJYcPIuXLgqn"
   },
   "source": [
    "Lift: Igual que cofidence, pero existe la posibilidad que a veces los items sean comprados con diferentes frecuencias, lo que nos puede afectar la importancioa de la asociación. Lift corrige este pequeña imprecisión..."
   ]
  },
  {
   "cell_type": "markdown",
   "metadata": {
    "id": "QsXQQM-SMnJo"
   },
   "source": [
    "Si Lift=1, entonces decimos que no existe una asociación entre estos dos items. Si Lift >1 significa que el ítem Y (consequents) es muy probable de ser comprado cuando se compra el ítem X  (antecedents). Si Lift<1  es muy improbable que Y sea comprado cuando X es comprado.\n",
    "\n"
   ]
  },
  {
   "cell_type": "markdown",
   "metadata": {
    "id": "MQG3MLbqJVKV"
   },
   "source": [
    "# Referencias"
   ]
  },
  {
   "cell_type": "markdown",
   "metadata": {
    "id": "P9oMR37BJXXo"
   },
   "source": [
    "https://www.kdnuggets.com/2016/04/association-rules-apriori-algorithm-tutorial.html"
   ]
  },
  {
   "cell_type": "markdown",
   "metadata": {
    "id": "CaGEmYqhJ401"
   },
   "source": [
    "https://towardsdatascience.com/apriori-association-rule-mining-explanation-and-python-implementation-290b42afdfc6"
   ]
  },
  {
   "cell_type": "markdown",
   "metadata": {
    "id": "hEyVOszPKGBG"
   },
   "source": [
    "https://towardsdatascience.com/apriori-algorithm-for-association-rule-learning-how-to-find-clear-links-between-transactions-bf7ebc22cf0a"
   ]
  },
  {
   "cell_type": "markdown",
   "metadata": {
    "id": "dqG47W-FLACv"
   },
   "source": [
    "https://www.geeksforgeeks.org/implementing-apriori-algorithm-in-python/"
   ]
  },
  {
   "cell_type": "markdown",
   "metadata": {
    "id": "lGIkPmzFkt0b"
   },
   "source": [
    "http://rasbt.github.io/mlxtend/user_guide/frequent_patterns/association_rules/"
   ]
  }
 ],
 "metadata": {
  "colab": {
   "authorship_tag": "ABX9TyOcifNR92hpHrC/McWBa5/d",
   "collapsed_sections": [],
   "name": "Apriori para CEN.ipynb",
   "provenance": []
  },
  "kernelspec": {
   "display_name": "Python 3 (ipykernel)",
   "language": "python",
   "name": "python3"
  },
  "language_info": {
   "codemirror_mode": {
    "name": "ipython",
    "version": 3
   },
   "file_extension": ".py",
   "mimetype": "text/x-python",
   "name": "python",
   "nbconvert_exporter": "python",
   "pygments_lexer": "ipython3",
   "version": "3.9.7"
  }
 },
 "nbformat": 4,
 "nbformat_minor": 1
}
