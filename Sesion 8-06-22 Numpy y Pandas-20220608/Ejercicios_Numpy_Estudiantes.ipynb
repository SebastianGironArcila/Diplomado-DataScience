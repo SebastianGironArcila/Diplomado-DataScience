{
 "cells": [
  {
   "cell_type": "markdown",
   "metadata": {
    "id": "_JKvbcbQC2S7"
   },
   "source": [
    "1. Crear un arreglo con todos los numeros pares del 10 al 50"
   ]
  },
  {
   "cell_type": "code",
   "execution_count": 1,
   "metadata": {
    "id": "itUR4fs9CyrG"
   },
   "outputs": [],
   "source": [
    "import numpy as np"
   ]
  },
  {
   "cell_type": "code",
   "execution_count": 7,
   "metadata": {},
   "outputs": [
    {
     "data": {
      "text/plain": [
       "array([10, 12, 14, 16, 18, 20, 22, 24, 26, 28, 30, 32, 34, 36, 38, 40, 42,\n",
       "       44, 46, 48, 50])"
      ]
     },
     "execution_count": 7,
     "metadata": {},
     "output_type": "execute_result"
    }
   ],
   "source": [
    "numeros = np.arange(10,51,2)\n",
    "numeros"
   ]
  },
  {
   "cell_type": "markdown",
   "metadata": {
    "id": "brTa9bEcC6JA"
   },
   "source": [
    "2. Crear una matriz 3x3 con valores del 0 al 8"
   ]
  },
  {
   "cell_type": "code",
   "execution_count": 25,
   "metadata": {
    "id": "VQXmgo9iC_NR"
   },
   "outputs": [
    {
     "data": {
      "text/plain": [
       "array([[0, 1, 2],\n",
       "       [3, 4, 5],\n",
       "       [6, 7, 8]])"
      ]
     },
     "execution_count": 25,
     "metadata": {},
     "output_type": "execute_result"
    }
   ],
   "source": [
    "valores = np.arange(0,9)\n",
    "valores.reshape(3,3)"
   ]
  },
  {
   "cell_type": "markdown",
   "metadata": {
    "id": "odQovRe5DGzh"
   },
   "source": [
    "3. Utilizar numpy para generar un arreglo de 25 numeros aleatorioas"
   ]
  },
  {
   "cell_type": "code",
   "execution_count": 17,
   "metadata": {
    "id": "0OiNh9r_DHb1"
   },
   "outputs": [
    {
     "data": {
      "text/plain": [
       "array([0.99443494, 0.75122097, 0.43475   , 0.65630112, 0.24701242,\n",
       "       0.47404784, 0.59394129, 0.09424685, 0.67180628, 0.52626169,\n",
       "       0.9678392 , 0.02794046, 0.14527668, 0.61146717, 0.46750911,\n",
       "       0.41115309, 0.73373595, 0.33630494, 0.57776286, 0.27510305,\n",
       "       0.48493885, 0.4484036 , 0.06889691, 0.67108522, 0.68363456])"
      ]
     },
     "execution_count": 17,
     "metadata": {},
     "output_type": "execute_result"
    }
   ],
   "source": [
    "numeros = np.random.random(25)\n",
    "numeros"
   ]
  },
  {
   "cell_type": "markdown",
   "metadata": {
    "id": "tx7JCfAnDdHH"
   },
   "source": [
    "4. Crea un arreglo de una dimension e imprime el valor de la suma de todos sus elementos"
   ]
  },
  {
   "cell_type": "code",
   "execution_count": 21,
   "metadata": {
    "id": "Yonl_gj2DjLm"
   },
   "outputs": [
    {
     "data": {
      "text/plain": [
       "15"
      ]
     },
     "execution_count": 21,
     "metadata": {},
     "output_type": "execute_result"
    }
   ],
   "source": [
    "elementos = np.array([1,2,5,6,1])\n",
    "np.sum(elementos)\n"
   ]
  },
  {
   "cell_type": "markdown",
   "metadata": {
    "id": "kqs3dUmpDuTX"
   },
   "source": [
    "5. Crea un arreglo de una dimension e imprime el valor de la media de todos sus elementos"
   ]
  },
  {
   "cell_type": "code",
   "execution_count": 24,
   "metadata": {
    "id": "cncJl0evDyi1"
   },
   "outputs": [
    {
     "name": "stdout",
     "output_type": "stream",
     "text": [
      "3.0\n",
      "3.0\n"
     ]
    }
   ],
   "source": [
    "elementos = np.array([1,2,5,6,1])\n",
    "print(np.mean(elementos))\n",
    "print(np.average(elementos))"
   ]
  },
  {
   "cell_type": "markdown",
   "metadata": {
    "id": "kNgnH9NUDzVw"
   },
   "source": []
  }
 ],
 "metadata": {
  "colab": {
   "name": "Ejercicios Numpy Estudiantes.ipynb",
   "provenance": []
  },
  "kernelspec": {
   "display_name": "Python 3 (ipykernel)",
   "language": "python",
   "name": "python3"
  },
  "language_info": {
   "codemirror_mode": {
    "name": "ipython",
    "version": 3
   },
   "file_extension": ".py",
   "mimetype": "text/x-python",
   "name": "python",
   "nbconvert_exporter": "python",
   "pygments_lexer": "ipython3",
   "version": "3.9.7"
  }
 },
 "nbformat": 4,
 "nbformat_minor": 1
}
